{
 "cells": [
  {
   "cell_type": "code",
   "execution_count": 1,
   "metadata": {
    "scrolled": true
   },
   "outputs": [
    {
     "name": "stderr",
     "output_type": "stream",
     "text": [
      "Using TensorFlow backend.\n",
      "/Library/Frameworks/Python.framework/Versions/3.6/lib/python3.6/site-packages/keras/utils/io_utils.py:60: H5pyDeprecationWarning: The default file mode will change to 'r' (read-only) in h5py 3.0. To suppress this warning, pass the mode you need to h5py.File(), or set the global default h5.get_config().default_file_mode, or set the environment variable H5PY_DEFAULT_READONLY=1. Available modes are: 'r', 'r+', 'w', 'w-'/'x', 'a'. See the docs for details.\n",
      "  f = h5py.File(datapath)\n",
      "/Library/Frameworks/Python.framework/Versions/3.6/lib/python3.6/site-packages/IPython/core/interactiveshell.py:3051: DtypeWarning: Columns (1,2,3,4) have mixed types. Specify dtype option on import or set low_memory=False.\n",
      "  interactivity=interactivity, compiler=compiler, result=result)\n"
     ]
    }
   ],
   "source": [
    "import pandas as pd\n",
    "from keras.utils import HDF5Matrix\n",
    "#from keras.preprocessing.image import ImageDataGenerator\n",
    "\n",
    "x_train = HDF5Matrix('camelyonpatch_level_2_split_train_x.h5', 'x')\n",
    "y_train = HDF5Matrix('camelyonpatch_level_2_split_train_y.h5', 'y')\n",
    "\n",
    "x_valid = HDF5Matrix('camelyonpatch_level_2_split_valid_x.h5','x')\n",
    "y_valid = HDF5Matrix('camelyonpatch_level_2_split_valid_y.h5','y')\n",
    "\n",
    "x_test = HDF5Matrix('camelyonpatch_level_2_split_test_x.h5','x')\n",
    "y_test = HDF5Matrix('camelyonpatch_level_2_split_test_y.h5','y')\n",
    "\n",
    "train_meta = pd.read_csv('camelyonpatch_level_2_split_train_meta.csv', header=None)\n",
    "valid_meta = pd.read_csv('camelyonpatch_level_2_split_valid_meta.csv', header=None)\n",
    "test_meta = pd.read_csv('camelyonpatch_level_2_split_test_meta.csv', header=None)"
   ]
  },
  {
   "cell_type": "code",
   "execution_count": 2,
   "metadata": {},
   "outputs": [
    {
     "name": "stdout",
     "output_type": "stream",
     "text": [
      "     0        1        2            3                   4  \\\n",
      "0  NaN  coord_y  coord_x  tumor_patch  center_tumor_patch   \n",
      "1  0.0    63104    43648        False               False   \n",
      "2  1.0   148544    74048         True                True   \n",
      "3  2.0    64192    78912         True                True   \n",
      "4  3.0    98048    72128         True                True   \n",
      "\n",
      "                            5  \n",
      "0                         wsi  \n",
      "1  camelyon16_train_tumor_104  \n",
      "2  camelyon16_train_tumor_003  \n",
      "3  camelyon16_train_tumor_089  \n",
      "4  camelyon16_train_tumor_004  \n"
     ]
    }
   ],
   "source": [
    "print(train_meta.head())"
   ]
  },
  {
   "cell_type": "code",
   "execution_count": 3,
   "metadata": {},
   "outputs": [
    {
     "name": "stdout",
     "output_type": "stream",
     "text": [
      "               0       1       2      3      4                            5\n",
      "262135  262134.0  117824   36288   True   True   camelyon16_train_tumor_010\n",
      "262136  262135.0  135296   58624   True   True   camelyon16_train_tumor_034\n",
      "262137  262136.0   59392   26752   True   True   camelyon16_train_tumor_107\n",
      "262138  262137.0  144320   62720  False  False  camelyon16_train_normal_063\n",
      "262139  262138.0   20608  115584   True   True   camelyon16_train_tumor_101\n",
      "262140  262139.0  164672   44160   True   True   camelyon16_train_tumor_025\n",
      "262141  262140.0  155584   31296   True   True   camelyon16_train_tumor_042\n",
      "262142  262141.0   28032  114944   True   True   camelyon16_train_tumor_101\n",
      "262143  262142.0   51264   32960  False  False  camelyon16_train_normal_021\n",
      "262144  262143.0  103040   46784   True   True   camelyon16_train_tumor_002\n"
     ]
    }
   ],
   "source": [
    "print(train_meta.tail(10))"
   ]
  },
  {
   "cell_type": "code",
   "execution_count": 4,
   "metadata": {},
   "outputs": [],
   "source": [
    "#NaN = train_meta[0][1:]\n",
    "coord_y = train_meta[1][1:]\n",
    "coord_x = train_meta[2][1:]\n",
    "tumor_patch = train_meta[3][1:]\n",
    "center_tumor_patch = train_meta[4][1:]\n",
    "#wsi = train_meta[5][1:]"
   ]
  },
  {
   "cell_type": "code",
   "execution_count": 5,
   "metadata": {},
   "outputs": [
    {
     "name": "stdout",
     "output_type": "stream",
     "text": [
      "1         False\n",
      "2          True\n",
      "3          True\n",
      "4          True\n",
      "5         False\n",
      "          ...  \n",
      "262140     True\n",
      "262141     True\n",
      "262142     True\n",
      "262143    False\n",
      "262144     True\n",
      "Name: 4, Length: 262144, dtype: object\n"
     ]
    }
   ],
   "source": [
    "print(center_tumor_patch)"
   ]
  },
  {
   "cell_type": "code",
   "execution_count": 6,
   "metadata": {},
   "outputs": [],
   "source": [
    "dd = {'True': 1, 'False': 0, True: 1, False:0}\n",
    "\n",
    "center_tumor_patch = center_tumor_patch.map(dd)\n",
    "tumor_patch = tumor_patch.map(dd)"
   ]
  },
  {
   "cell_type": "code",
   "execution_count": null,
   "metadata": {},
   "outputs": [],
   "source": []
  },
  {
   "cell_type": "code",
   "execution_count": 8,
   "metadata": {},
   "outputs": [],
   "source": [
    "d = {'coord_y': coord_y, 'coord_x': coord_x, 'center_tumor_patch': center_tumor_patch}  \n",
    "    \n",
    "df = pd.DataFrame(d) "
   ]
  },
  {
   "cell_type": "code",
   "execution_count": 9,
   "metadata": {},
   "outputs": [
    {
     "name": "stdout",
     "output_type": "stream",
     "text": [
      "       coord_y coord_x  center_tumor_patch\n",
      "1        63104   43648                   0\n",
      "2       148544   74048                   1\n",
      "3        64192   78912                   1\n",
      "4        98048   72128                   1\n",
      "5        27264   50688                   0\n",
      "...        ...     ...                 ...\n",
      "262140  164672   44160                   1\n",
      "262141  155584   31296                   1\n",
      "262142   28032  114944                   1\n",
      "262143   51264   32960                   0\n",
      "262144  103040   46784                   1\n",
      "\n",
      "[262144 rows x 3 columns]\n"
     ]
    }
   ],
   "source": [
    "print(df)"
   ]
  },
  {
   "cell_type": "code",
   "execution_count": 10,
   "metadata": {},
   "outputs": [],
   "source": [
    "df = df.reset_index()"
   ]
  },
  {
   "cell_type": "code",
   "execution_count": 11,
   "metadata": {},
   "outputs": [],
   "source": [
    "tumor_patch = tumor_patch.reset_index()"
   ]
  },
  {
   "cell_type": "code",
   "execution_count": 12,
   "metadata": {},
   "outputs": [
    {
     "name": "stdout",
     "output_type": "stream",
     "text": [
      "         index  3\n",
      "0            1  0\n",
      "1            2  1\n",
      "2            3  1\n",
      "3            4  1\n",
      "4            5  0\n",
      "...        ... ..\n",
      "262139  262140  1\n",
      "262140  262141  1\n",
      "262141  262142  1\n",
      "262142  262143  0\n",
      "262143  262144  1\n",
      "\n",
      "[262144 rows x 2 columns]\n"
     ]
    }
   ],
   "source": [
    "print(tumor_patch)"
   ]
  },
  {
   "cell_type": "code",
   "execution_count": 13,
   "metadata": {},
   "outputs": [
    {
     "name": "stdout",
     "output_type": "stream",
     "text": [
      "   index coord_y coord_x  center_tumor_patch\n",
      "0      1   63104   43648                   0\n",
      "1      2  148544   74048                   1\n",
      "2      3   64192   78912                   1\n",
      "3      4   98048   72128                   1\n",
      "4      5   27264   50688                   0\n"
     ]
    }
   ],
   "source": [
    "print(df.head())"
   ]
  },
  {
   "cell_type": "code",
   "execution_count": 14,
   "metadata": {},
   "outputs": [
    {
     "name": "stdout",
     "output_type": "stream",
     "text": [
      "   index  3\n",
      "0      1  0\n",
      "1      2  1\n",
      "2      3  1\n",
      "3      4  1\n",
      "4      5  0\n"
     ]
    }
   ],
   "source": [
    "print(tumor_patch.head())"
   ]
  },
  {
   "cell_type": "code",
   "execution_count": 15,
   "metadata": {},
   "outputs": [
    {
     "name": "stderr",
     "output_type": "stream",
     "text": [
      "/Library/Frameworks/Python.framework/Versions/3.6/lib/python3.6/site-packages/ipykernel_launcher.py:2: SettingWithCopyWarning: \n",
      "A value is trying to be set on a copy of a slice from a DataFrame\n",
      "\n",
      "See the caveats in the documentation: http://pandas.pydata.org/pandas-docs/stable/user_guide/indexing.html#returning-a-view-versus-a-copy\n",
      "  \n",
      "/Library/Frameworks/Python.framework/Versions/3.6/lib/python3.6/site-packages/ipykernel_launcher.py:4: SettingWithCopyWarning: \n",
      "A value is trying to be set on a copy of a slice from a DataFrame\n",
      "\n",
      "See the caveats in the documentation: http://pandas.pydata.org/pandas-docs/stable/user_guide/indexing.html#returning-a-view-versus-a-copy\n",
      "  after removing the cwd from sys.path.\n"
     ]
    }
   ],
   "source": [
    "for i in range(len(df['coord_y'])):\n",
    "    df['coord_y'][i] = int(df['coord_y'][i])\n",
    "    df['coord_x'][i] = int(df['coord_x'][i])"
   ]
  },
  {
   "cell_type": "code",
   "execution_count": 16,
   "metadata": {},
   "outputs": [],
   "source": [
    "x_t = []\n",
    "y_t = []\n",
    "\n",
    "x_f = []\n",
    "y_f = []\n",
    "\n",
    "for i in range(len(tumor_patch)):\n",
    "    if tumor_patch[3][i] == 1:\n",
    "        x_t.append(df['coord_x'][i])\n",
    "        y_t.append(df['coord_y'][i])\n",
    "    else:\n",
    "        x_f.append(df['coord_x'][i])\n",
    "        y_f.append(df['coord_y'][i])"
   ]
  },
  {
   "cell_type": "code",
   "execution_count": 17,
   "metadata": {},
   "outputs": [
    {
     "data": {
      "image/png": "[encoded data removed]",
      "text/plain": [
       "<Figure size 432x288 with 1 Axes>"
      ]
     },
     "metadata": {
      "needs_background": "light"
     },
     "output_type": "display_data"
    }
   ],
   "source": [
    "import matplotlib.pyplot as plt\n",
    "\n",
    "plt.scatter(x_t,y_t)\n",
    "\n",
    "plt.show()\n",
    "\n",
    "# this plots all x,y coords where tumor is true/present"
   ]
  },
  {
   "cell_type": "code",
   "execution_count": 18,
   "metadata": {},
   "outputs": [
    {
     "data": {
      "image/png": "[encoded data removed]",
      "text/plain": [
       "<Figure size 432x288 with 1 Axes>"
      ]
     },
     "metadata": {
      "needs_background": "light"
     },
     "output_type": "display_data"
    }
   ],
   "source": [
    "plt.scatter(x_f,y_f)\n",
    "\n",
    "plt.show()\n",
    "\n",
    "# this plots all x,y coords where tumor is false / not present"
   ]
  },
  {
   "cell_type": "code",
   "execution_count": 19,
   "metadata": {},
   "outputs": [
    {
     "data": {
      "image/png": "[encoded data removed]",
      "text/plain": [
       "<Figure size 432x288 with 1 Axes>"
      ]
     },
     "metadata": {
      "needs_background": "light"
     },
     "output_type": "display_data"
    }
   ],
   "source": [
    "plt.scatter(x_f,y_f, c = 'b')\n",
    "plt.scatter(x_t,y_t, c = 'r')\n",
    "\n",
    "plt.show()\n",
    "\n",
    "# red indicates tumor is true; false indicates not true"
   ]
  },
  {
   "cell_type": "code",
   "execution_count": 21,
   "metadata": {},
   "outputs": [],
   "source": [
    "x_tumorTrue_centerTrue = []\n",
    "y_tumorTrue_centerTrue = []\n",
    "\n",
    "x_tumorTrue_centerFalse = []\n",
    "y_tumorTrue_centerFalse = []\n",
    "\n",
    "x_tumorFalse_centerTrue = []\n",
    "y_tumorFalse_centerTrue = []\n",
    "\n",
    "x_tumorFalse_centerFalse = []\n",
    "y_tumorFalse_centerFalse = []\n",
    "\n",
    "for i in range(len(tumor_patch)):\n",
    "    if tumor_patch[3][i] == 1 and df['center_tumor_patch'][i] == 1:\n",
    "        x_tumorTrue_centerTrue.append(df['coord_x'][i])\n",
    "        y_tumorTrue_centerTrue.append(df['coord_y'][i])\n",
    "    elif tumor_patch[3][i] == 1 and df['center_tumor_patch'][i] == 0:\n",
    "        x_tumorTrue_centerFalse.append(df['coord_x'][i])\n",
    "        y_tumorTrue_centerFalse.append(df['coord_y'][i])\n",
    "    elif tumor_patch[3][i] == 0 and df['center_tumor_patch'][i] == 1:\n",
    "        x_tumorFalse_centerTrue.append(df['coord_x'][i])\n",
    "        y_tumorFalse_centerTrue.append(df['coord_y'][i])\n",
    "    else:\n",
    "        x_tumorFalse_centerFalse.append(df['coord_x'][i])\n",
    "        y_tumorFalse_centerFalse.append(df['coord_y'][i])"
   ]
  },
  {
   "cell_type": "code",
   "execution_count": 22,
   "metadata": {},
   "outputs": [
    {
     "data": {
      "text/plain": [
       "<function matplotlib.pyplot.show(*args, **kw)>"
      ]
     },
     "execution_count": 22,
     "metadata": {},
     "output_type": "execute_result"
    },
    {
     "data": {
      "image/png": "[encoded data removed]",
      "text/plain": [
       "<Figure size 432x288 with 1 Axes>"
      ]
     },
     "metadata": {
      "needs_background": "light"
     },
     "output_type": "display_data"
    }
   ],
   "source": [
    "plt.scatter(x_tumorTrue_centerTrue, y_tumorTrue_centerTrue, c = 'r')\n",
    "plt.show\n",
    "# this plots all x,y coords where tumor is true/present and tumor is center"
   ]
  },
  {
   "cell_type": "code",
   "execution_count": 24,
   "metadata": {},
   "outputs": [
    {
     "data": {
      "image/png": "[encoded data removed]",
      "text/plain": [
       "<Figure size 432x288 with 1 Axes>"
      ]
     },
     "metadata": {
      "needs_background": "light"
     },
     "output_type": "display_data"
    }
   ],
   "source": [
    "plt.scatter(x_tumorTrue_centerFalse, y_tumorTrue_centerFalse, c = 'g')\n",
    "plt.show()\n",
    "\n",
    "# this plots all x,y coords where tumor is true/present but tumor is NOT center"
   ]
  },
  {
   "cell_type": "code",
   "execution_count": 30,
   "metadata": {},
   "outputs": [
    {
     "data": {
      "image/png": "[encoded data removed]",
      "text/plain": [
       "<Figure size 432x288 with 1 Axes>"
      ]
     },
     "metadata": {
      "needs_background": "light"
     },
     "output_type": "display_data"
    }
   ],
   "source": [
    "plt.scatter(x_tumorFalse_centerTrue, y_tumorFalse_centerTrue, c = 'b')\n",
    "plt.show()\n",
    "\n",
    "# this plots all x,y coords where tumor is false and tumor is center\n",
    "# clearly none fall in this category"
   ]
  },
  {
   "cell_type": "code",
   "execution_count": 31,
   "metadata": {},
   "outputs": [
    {
     "data": {
      "image/png": "[encoded data removed]",
      "text/plain": [
       "<Figure size 432x288 with 1 Axes>"
      ]
     },
     "metadata": {
      "needs_background": "light"
     },
     "output_type": "display_data"
    }
   ],
   "source": [
    "plt.scatter(x_tumorFalse_centerFalse, y_tumorFalse_centerFalse, c = 'b')\n",
    "plt.show()\n",
    "\n",
    "# this plots all x,y coords where tumor is false and tumor is Not center"
   ]
  },
  {
   "cell_type": "code",
   "execution_count": 32,
   "metadata": {},
   "outputs": [
    {
     "data": {
      "image/png": "[encoded data removed]",
      "text/plain": [
       "<Figure size 432x288 with 1 Axes>"
      ]
     },
     "metadata": {
      "needs_background": "light"
     },
     "output_type": "display_data"
    }
   ],
   "source": [
    "plt.scatter(x_tumorFalse_centerFalse, y_tumorFalse_centerFalse, c = 'b')\n",
    "plt.scatter(x_tumorTrue_centerTrue, y_tumorTrue_centerTrue, c = 'r')\n",
    "plt.scatter(x_tumorTrue_centerFalse, y_tumorTrue_centerFalse, c = 'g')\n",
    "plt.show()\n",
    "\n",
    "# blue = tumor is false and not center\n",
    "# red = tumor is true and is center\n",
    "# green = tumor is true and not center"
   ]
  },
  {
   "cell_type": "code",
   "execution_count": null,
   "metadata": {},
   "outputs": [],
   "source": []
  },
  {
   "cell_type": "code",
   "execution_count": null,
   "metadata": {},
   "outputs": [],
   "source": []
  },
  {
   "cell_type": "code",
   "execution_count": null,
   "metadata": {},
   "outputs": [],
   "source": []
  },
  {
   "cell_type": "code",
   "execution_count": null,
   "metadata": {},
   "outputs": [],
   "source": []
  },
  {
   "cell_type": "code",
   "execution_count": null,
   "metadata": {},
   "outputs": [],
   "source": []
  },
  {
   "cell_type": "code",
   "execution_count": null,
   "metadata": {},
   "outputs": [],
   "source": []
  },
  {
   "cell_type": "code",
   "execution_count": null,
   "metadata": {},
   "outputs": [],
   "source": []
  },
  {
   "cell_type": "code",
   "execution_count": null,
   "metadata": {},
   "outputs": [],
   "source": [
    "# if these two blocks below are run\n",
    "# a decision tree is printed\n",
    "# but the decision tree is too large to show any detail\n",
    "\n",
    "# need to create bins for x,y coords ... "
   ]
  },
  {
   "cell_type": "code",
   "execution_count": null,
   "metadata": {},
   "outputs": [],
   "source": [
    "from sklearn import tree\n",
    "clf = tree.DecisionTreeClassifier()\n",
    "clf = clf.fit(df,tumor_patch)"
   ]
  },
  {
   "cell_type": "code",
   "execution_count": null,
   "metadata": {},
   "outputs": [],
   "source": [
    "from IPython.display import Image  \n",
    "from sklearn.externals.six import StringIO  \n",
    "import pydotplus\n",
    "\n",
    "dot_data = StringIO()  \n",
    "tree.export_graphviz(clf, out_file=dot_data,  \n",
    "                         feature_names=df.columns)  \n",
    "graph = pydotplus.graph_from_dot_data(dot_data.getvalue())  \n",
    "Image(graph.create_png()) "
   ]
  },
  {
   "cell_type": "code",
   "execution_count": null,
   "metadata": {},
   "outputs": [],
   "source": []
  },
  {
   "cell_type": "code",
   "execution_count": null,
   "metadata": {},
   "outputs": [],
   "source": []
  },
  {
   "cell_type": "code",
   "execution_count": null,
   "metadata": {
    "scrolled": true
   },
   "outputs": [],
   "source": []
  },
  {
   "cell_type": "code",
   "execution_count": null,
   "metadata": {
    "scrolled": true
   },
   "outputs": [],
   "source": []
  },
  {
   "cell_type": "code",
   "execution_count": null,
   "metadata": {},
   "outputs": [],
   "source": []
  },
  {
   "cell_type": "code",
   "execution_count": null,
   "metadata": {},
   "outputs": [],
   "source": [
    "# so far unable to get this part of the code to run/work"
   ]
  },
  {
   "cell_type": "code",
   "execution_count": null,
   "metadata": {
    "scrolled": false
   },
   "outputs": [],
   "source": [
    "import xgboost as xgb\n",
    "\n",
    "train = xgb.DMatrix(df, label= tumor_patch[3])"
   ]
  },
  {
   "cell_type": "code",
   "execution_count": null,
   "metadata": {},
   "outputs": [],
   "source": [
    "param = {\n",
    "    'max_depth': 5,\n",
    "    'eta': 0.3,\n",
    "    'objective': 'multi:softmax',\n",
    "    'num_class': 2} \n",
    "epochs = 10 "
   ]
  },
  {
   "cell_type": "code",
   "execution_count": null,
   "metadata": {},
   "outputs": [],
   "source": [
    "model = xgb.train(param, train, epochs)"
   ]
  },
  {
   "cell_type": "code",
   "execution_count": null,
   "metadata": {},
   "outputs": [],
   "source": []
  },
  {
   "cell_type": "code",
   "execution_count": null,
   "metadata": {},
   "outputs": [],
   "source": [
    "test = xgb.DMatrix(X_test, label= Y_test)"
   ]
  },
  {
   "cell_type": "code",
   "execution_count": null,
   "metadata": {},
   "outputs": [],
   "source": [
    "predictions = model.predict(test)\n",
    "print(predictions)"
   ]
  },
  {
   "cell_type": "code",
   "execution_count": null,
   "metadata": {},
   "outputs": [],
   "source": [
    "from sklearn.metrics import accuracy_score\n",
    "\n",
    "accuracy_score(Y_test, predictions)"
   ]
  },
  {
   "cell_type": "code",
   "execution_count": null,
   "metadata": {},
   "outputs": [],
   "source": []
  },
  {
   "cell_type": "code",
   "execution_count": null,
   "metadata": {},
   "outputs": [],
   "source": []
  },
  {
   "cell_type": "code",
   "execution_count": null,
   "metadata": {},
   "outputs": [],
   "source": []
  },
  {
   "cell_type": "code",
   "execution_count": null,
   "metadata": {},
   "outputs": [],
   "source": []
  },
  {
   "cell_type": "code",
   "execution_count": null,
   "metadata": {},
   "outputs": [],
   "source": []
  }
 ],
 "metadata": {
  "kernelspec": {
   "display_name": "Python 3",
   "language": "python",
   "name": "python3"
  },
  "language_info": {
   "codemirror_mode": {
    "name": "ipython",
    "version": 3
   },
   "file_extension": ".py",
   "mimetype": "text/x-python",
   "name": "python",
   "nbconvert_exporter": "python",
   "pygments_lexer": "ipython3",
   "version": "3.6.8"
  }
 },
 "nbformat": 4,
 "nbformat_minor": 2
}
