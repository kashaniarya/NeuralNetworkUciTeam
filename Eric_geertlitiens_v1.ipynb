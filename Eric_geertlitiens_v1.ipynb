{
  "nbformat": 4,
  "nbformat_minor": 0,
  "metadata": {
    "accelerator": "GPU",
    "colab": {
      "name": "Modified Network",
      "provenance": [],
      "collapsed_sections": [],
      "machine_shape": "hm"
    },
    "kernelspec": {
      "display_name": "Python 3",
      "language": "python",
      "name": "python3"
    },
    "language_info": {
      "codemirror_mode": {
        "name": "ipython",
        "version": 3
      },
      "file_extension": ".py",
      "mimetype": "text/x-python",
      "name": "python",
      "nbconvert_exporter": "python",
      "pygments_lexer": "ipython3",
      "version": "3.7.6"
    }
  },
  "cells": [
    {
      "cell_type": "markdown",
      "metadata": {
        "colab_type": "text",
        "id": "73tLeZWDCPJ7"
      },
      "source": [
        "\n",
        "#  the model in this file comes from this website\n",
        "\n",
        "#  https://geertlitjens.nl/post/getting-started-with-camelyon/\n",
        "\n",
        "\n",
        "\n",
        "#  without editing the model, it is 80% accurate/confident"
      ]
    },
    {
      "cell_type": "code",
      "metadata": {
        "id": "F5Prf7vNT517",
        "colab_type": "code",
        "outputId": "1d342b5d-5ea3-4297-86f6-5276fc3ffde4",
        "colab": {
          "base_uri": "https://localhost:8080/",
          "height": 34
        }
      },
      "source": [
        "from google.colab import drive\n",
        "drive.mount('/content/drive')"
      ],
      "execution_count": 23,
      "outputs": [
        {
          "output_type": "stream",
          "text": [
            "Drive already mounted at /content/drive; to attempt to forcibly remount, call drive.mount(\"/content/drive\", force_remount=True).\n"
          ],
          "name": "stdout"
        }
      ]
    },
    {
      "cell_type": "code",
      "metadata": {
        "colab_type": "code",
        "id": "jU5bibOrj4hX",
        "colab": {}
      },
      "source": [
        "import tensorflow as tf\n",
        "import tensorflow_datasets as tfds\n",
        "\n",
        "pcam, pcam_info = tfds.load('patch_camelyon', shuffle_files=True, with_info=True,\n",
        "                            data_dir='/content/drive/My Drive/Colab Notebooks')"
      ],
      "execution_count": 0,
      "outputs": []
    },
    {
      "cell_type": "code",
      "metadata": {
        "colab_type": "code",
        "id": "84yAQsv90JIV",
        "colab": {}
      },
      "source": [
        "# Import NumPy to handle array's and Matplotlib for plotting loss curves\n",
        "import numpy as np\n",
        "import matplotlib.pyplot as plt\n",
        "\n",
        "# Import TensorFlow and relevant Keras classes to setup the model\n",
        "import tensorflow as tf\n",
        "from tensorflow.keras.layers import Input, Dense, Conv2D, MaxPool2D, Flatten, Dropout, BatchNormalization, Activation, LayerNormalization, Cropping2D\n",
        "from tensorflow.keras.models import Model, Sequential\n",
        "from tensorflow.keras.optimizers import SGD, Adam\n",
        "from tensorflow.keras.utils import to_categorical\n",
        "from tensorflow.keras.callbacks import ModelCheckpoint"
      ],
      "execution_count": 0,
      "outputs": []
    },
    {
      "cell_type": "code",
      "metadata": {
        "colab_type": "code",
        "id": "4o2i2JzdrrqX",
        "outputId": "53b6ca26-e8d8-4892-ce9e-ef1571eb32b2",
        "colab": {
          "base_uri": "https://localhost:8080/",
          "height": 1000
        }
      },
      "source": [
        "#just some network parameters, see above link regarding the layers for details\n",
        "kernel_size = (3,3)\n",
        "pool_size= (2,2)\n",
        "first_filters = 32\n",
        "second_filters = 64\n",
        "third_filters = 128\n",
        "\n",
        "#dropout is used for regularization here with a probability of 0.3 for conv layers, 0.5 for the dense layer at the end\n",
        "dropout_conv = 0.3\n",
        "dropout_dense = 0.5\n",
        "\n",
        "#initialize the model\n",
        "model = Sequential()\n",
        "\n",
        "#now add layers to it\n",
        "\n",
        "#conv block 1\n",
        "model.add(Conv2D(first_filters, kernel_size, input_shape = (96, 96, 1)))\n",
        "model.add(BatchNormalization())\n",
        "model.add(Activation(\"relu\"))\n",
        "model.add(Conv2D(first_filters, kernel_size, use_bias=False))\n",
        "model.add(BatchNormalization())\n",
        "model.add(Activation(\"relu\"))\n",
        "model.add(MaxPool2D(pool_size = pool_size)) \n",
        "model.add(Dropout(dropout_conv))\n",
        "\n",
        "\n",
        "\n",
        "#conv block 2\n",
        "model.add(Conv2D(second_filters, kernel_size, use_bias=False))\n",
        "model.add(BatchNormalization())\n",
        "model.add(Activation(\"relu\"))\n",
        "model.add(Conv2D(second_filters, kernel_size, use_bias=False))\n",
        "model.add(BatchNormalization())\n",
        "model.add(Activation(\"relu\"))\n",
        "model.add(MaxPool2D(pool_size = pool_size))\n",
        "model.add(Dropout(dropout_conv))\n",
        "\n",
        "\n",
        "#conv block 3\n",
        "model.add(Conv2D(third_filters, kernel_size, use_bias=False))\n",
        "model.add(BatchNormalization())\n",
        "model.add(Activation(\"relu\"))\n",
        "model.add(Conv2D(third_filters, kernel_size, use_bias=False))\n",
        "model.add(BatchNormalization())\n",
        "model.add(Activation(\"relu\"))\n",
        "model.add(MaxPool2D(pool_size = pool_size))\n",
        "model.add(Dropout(dropout_conv))\n",
        "\n",
        "\n",
        "#a fully connected (also called dense) layer at the end\n",
        "model.add(Flatten())\n",
        "model.add(Dense(256, use_bias=False))\n",
        "model.add(BatchNormalization())\n",
        "model.add(Activation(\"relu\"))\n",
        "model.add(Dropout(dropout_dense))\n",
        "\n",
        "model.add(Dense(2, activation = \"softmax\"))\n",
        "\n",
        "model.compile(optimizer=Adam(0.001),\n",
        "              loss=tf.keras.losses.binary_crossentropy,\n",
        "              metrics=['accuracy'])\n",
        "model.summary()"
      ],
      "execution_count": 26,
      "outputs": [
        {
          "output_type": "stream",
          "text": [
            "Model: \"sequential_1\"\n",
            "_________________________________________________________________\n",
            "Layer (type)                 Output Shape              Param #   \n",
            "=================================================================\n",
            "conv2d_6 (Conv2D)            (None, 94, 94, 32)        320       \n",
            "_________________________________________________________________\n",
            "batch_normalization_7 (Batch (None, 94, 94, 32)        128       \n",
            "_________________________________________________________________\n",
            "activation_7 (Activation)    (None, 94, 94, 32)        0         \n",
            "_________________________________________________________________\n",
            "conv2d_7 (Conv2D)            (None, 92, 92, 32)        9216      \n",
            "_________________________________________________________________\n",
            "batch_normalization_8 (Batch (None, 92, 92, 32)        128       \n",
            "_________________________________________________________________\n",
            "activation_8 (Activation)    (None, 92, 92, 32)        0         \n",
            "_________________________________________________________________\n",
            "max_pooling2d_3 (MaxPooling2 (None, 46, 46, 32)        0         \n",
            "_________________________________________________________________\n",
            "dropout_4 (Dropout)          (None, 46, 46, 32)        0         \n",
            "_________________________________________________________________\n",
            "conv2d_8 (Conv2D)            (None, 44, 44, 64)        18432     \n",
            "_________________________________________________________________\n",
            "batch_normalization_9 (Batch (None, 44, 44, 64)        256       \n",
            "_________________________________________________________________\n",
            "activation_9 (Activation)    (None, 44, 44, 64)        0         \n",
            "_________________________________________________________________\n",
            "conv2d_9 (Conv2D)            (None, 42, 42, 64)        36864     \n",
            "_________________________________________________________________\n",
            "batch_normalization_10 (Batc (None, 42, 42, 64)        256       \n",
            "_________________________________________________________________\n",
            "activation_10 (Activation)   (None, 42, 42, 64)        0         \n",
            "_________________________________________________________________\n",
            "max_pooling2d_4 (MaxPooling2 (None, 21, 21, 64)        0         \n",
            "_________________________________________________________________\n",
            "dropout_5 (Dropout)          (None, 21, 21, 64)        0         \n",
            "_________________________________________________________________\n",
            "conv2d_10 (Conv2D)           (None, 19, 19, 128)       73728     \n",
            "_________________________________________________________________\n",
            "batch_normalization_11 (Batc (None, 19, 19, 128)       512       \n",
            "_________________________________________________________________\n",
            "activation_11 (Activation)   (None, 19, 19, 128)       0         \n",
            "_________________________________________________________________\n",
            "conv2d_11 (Conv2D)           (None, 17, 17, 128)       147456    \n",
            "_________________________________________________________________\n",
            "batch_normalization_12 (Batc (None, 17, 17, 128)       512       \n",
            "_________________________________________________________________\n",
            "activation_12 (Activation)   (None, 17, 17, 128)       0         \n",
            "_________________________________________________________________\n",
            "max_pooling2d_5 (MaxPooling2 (None, 8, 8, 128)         0         \n",
            "_________________________________________________________________\n",
            "dropout_6 (Dropout)          (None, 8, 8, 128)         0         \n",
            "_________________________________________________________________\n",
            "flatten_1 (Flatten)          (None, 8192)              0         \n",
            "_________________________________________________________________\n",
            "dense_2 (Dense)              (None, 256)               2097152   \n",
            "_________________________________________________________________\n",
            "batch_normalization_13 (Batc (None, 256)               1024      \n",
            "_________________________________________________________________\n",
            "activation_13 (Activation)   (None, 256)               0         \n",
            "_________________________________________________________________\n",
            "dropout_7 (Dropout)          (None, 256)               0         \n",
            "_________________________________________________________________\n",
            "dense_3 (Dense)              (None, 2)                 514       \n",
            "=================================================================\n",
            "Total params: 2,386,498\n",
            "Trainable params: 2,385,090\n",
            "Non-trainable params: 1,408\n",
            "_________________________________________________________________\n"
          ],
          "name": "stdout"
        }
      ]
    },
    {
      "cell_type": "code",
      "metadata": {
        "id": "O-_4VoQeC_Su",
        "colab_type": "code",
        "colab": {}
      },
      "source": [
        "from tensorflow.python.ops import math_ops\n",
        "from tensorflow.python.framework import ops\n",
        "from tensorflow.python.framework import dtypes\n",
        "from tensorflow.python.ops import array_ops\n",
        "def rgb_to_grayscale2(images, name=None):\n",
        "  \"\"\"Converts one or more images from RGB to Grayscale.\n",
        "  Outputs a tensor of the same `DType` and rank as `images`.  The size of the\n",
        "  last dimension of the output is 1, containing the Grayscale value of the\n",
        "  pixels.\n",
        "  >>> original = tf.constant([[[1.0, 2.0, 3.0]]])\n",
        "  >>> converted = tf.image.rgb_to_grayscale(original)\n",
        "  >>> print(converted.numpy())\n",
        "  [[[1.81...]]]\n",
        "  Args:\n",
        "    images: The RGB tensor to convert. The last dimension must have size 3 and\n",
        "      should contain RGB values.\n",
        "    name: A name for the operation (optional).\n",
        "  Returns:\n",
        "    The converted grayscale image(s).\n",
        "  \"\"\"\n",
        "  with ops.name_scope(name, 'rgb_to_grayscale2', [images]) as name:\n",
        "    images = ops.convert_to_tensor(images, name='images')\n",
        "    # Remember original dtype to so we can convert back if needed\n",
        "    orig_dtype = images.dtype\n",
        "    flt_image = tf.image.convert_image_dtype(images, dtypes.float32)\n",
        "\n",
        "    # Reference for converting between RGB and grayscale.\n",
        "    # https://en.wikipedia.org/wiki/Luma_%28video%29\n",
        "    rgb_weights = [0.2989, 0.5870, 0.1140]\n",
        "    flt_image = math_ops.multiply(flt_image,flt_image)\n",
        "    gray_float = math_ops.tensordot(flt_image, rgb_weights, [-1, -1])\n",
        "    gray_float = tf.math.rsqrt(gray_float)\n",
        "    gray_float = array_ops.expand_dims(gray_float, -1)\n",
        "    return tf.image.convert_image_dtype(gray_float, orig_dtype, name=name)"
      ],
      "execution_count": 0,
      "outputs": []
    },
    {
      "cell_type": "code",
      "metadata": {
        "colab_type": "code",
        "id": "rsNicrTjrruM",
        "colab": {}
      },
      "source": [
        "import random\n",
        "\n",
        "def convert_sample(sample):\n",
        "    image, label = sample['image'], sample['label']  \n",
        "    image = tf.image.convert_image_dtype(image, tf.float32)\n",
        "    image = tf.image.random_jpeg_quality(image)\n",
        "    image = tf.image.rot90(image, random.randint(0,3))\n",
        "    image = tf.image.random_flip_left_right(image)\n",
        "    \n",
        "\n",
        "    image = tf.image.rgb_to_grayscale(image)\n",
        "    #image2 = tf.image.rgb_to_hsv(image)\n",
        "    #image = tf.image.central_crop(image,.5)\n",
        "    #image2 = rgb_to_grayscale2(image)\n",
        "    #image = tf.concat([image1,image2], axis = 2)\n",
        "    label = tf.one_hot(label, 2, dtype=tf.float32)\n",
        "    return image, label"
      ],
      "execution_count": 0,
      "outputs": []
    },
    {
      "cell_type": "code",
      "metadata": {
        "colab_type": "code",
        "id": "0vJ3YLIFrryA",
        "colab": {}
      },
      "source": [
        "train_pipeline = pcam['train'].map(convert_sample,\n",
        "                                   num_parallel_calls=8).shuffle(1024).repeat().batch(64).prefetch(2)\n",
        "valid_pipeline = pcam['validation'].map(convert_sample,\n",
        "                                        num_parallel_calls=8).repeat().batch(128).prefetch(2)"
      ],
      "execution_count": 0,
      "outputs": []
    },
    {
      "cell_type": "code",
      "metadata": {
        "colab_type": "code",
        "id": "0jFZD7Hfrr2E",
        "outputId": "ed739cc7-0c4a-412c-841c-8a8fe05e2b8e",
        "colab": {
          "base_uri": "https://localhost:8080/",
          "height": 830
        }
      },
      "source": [
        "hist = model.fit(train_pipeline,\n",
        "                 validation_data=valid_pipeline,\n",
        "                 verbose=2, epochs=25, steps_per_epoch=256, validation_steps=256)"
      ],
      "execution_count": 30,
      "outputs": [
        {
          "output_type": "stream",
          "text": [
            "Epoch 1/25\n",
            "256/256 - 29s - loss: 0.5659 - accuracy: 0.7463 - val_loss: 1.3842 - val_accuracy: 0.5223\n",
            "Epoch 2/25\n",
            "256/256 - 34s - loss: 0.4885 - accuracy: 0.7820 - val_loss: 1.0009 - val_accuracy: 0.6659\n",
            "Epoch 3/25\n",
            "256/256 - 32s - loss: 0.4598 - accuracy: 0.7963 - val_loss: 0.4628 - val_accuracy: 0.7916\n",
            "Epoch 4/25\n",
            "256/256 - 38s - loss: 0.4562 - accuracy: 0.7943 - val_loss: 0.4589 - val_accuracy: 0.7866\n",
            "Epoch 5/25\n",
            "256/256 - 33s - loss: 0.4510 - accuracy: 0.7950 - val_loss: 0.5067 - val_accuracy: 0.7811\n",
            "Epoch 6/25\n",
            "256/256 - 33s - loss: 0.4551 - accuracy: 0.7964 - val_loss: 0.5950 - val_accuracy: 0.6942\n",
            "Epoch 7/25\n",
            "256/256 - 28s - loss: 0.4356 - accuracy: 0.8040 - val_loss: 0.4448 - val_accuracy: 0.7894\n",
            "Epoch 8/25\n",
            "256/256 - 31s - loss: 0.4194 - accuracy: 0.8165 - val_loss: 0.4130 - val_accuracy: 0.8120\n",
            "Epoch 9/25\n",
            "256/256 - 31s - loss: 0.4114 - accuracy: 0.8176 - val_loss: 0.4544 - val_accuracy: 0.7878\n",
            "Epoch 10/25\n",
            "256/256 - 31s - loss: 0.3942 - accuracy: 0.8292 - val_loss: 0.4207 - val_accuracy: 0.8052\n",
            "Epoch 11/25\n",
            "256/256 - 31s - loss: 0.3876 - accuracy: 0.8325 - val_loss: 0.4343 - val_accuracy: 0.8183\n",
            "Epoch 12/25\n",
            "256/256 - 30s - loss: 0.3646 - accuracy: 0.8455 - val_loss: 0.6576 - val_accuracy: 0.7221\n",
            "Epoch 13/25\n",
            "256/256 - 31s - loss: 0.3575 - accuracy: 0.8459 - val_loss: 0.4012 - val_accuracy: 0.8328\n",
            "Epoch 14/25\n",
            "256/256 - 31s - loss: 0.3475 - accuracy: 0.8542 - val_loss: 0.5496 - val_accuracy: 0.8031\n",
            "Epoch 15/25\n",
            "256/256 - 31s - loss: 0.3390 - accuracy: 0.8563 - val_loss: 0.4609 - val_accuracy: 0.7798\n",
            "Epoch 16/25\n",
            "256/256 - 31s - loss: 0.3335 - accuracy: 0.8630 - val_loss: 0.3537 - val_accuracy: 0.8479\n",
            "Epoch 17/25\n",
            "256/256 - 30s - loss: 0.3241 - accuracy: 0.8639 - val_loss: 0.3526 - val_accuracy: 0.8463\n",
            "Epoch 18/25\n",
            "256/256 - 30s - loss: 0.3116 - accuracy: 0.8694 - val_loss: 0.4070 - val_accuracy: 0.8262\n",
            "Epoch 19/25\n",
            "256/256 - 32s - loss: 0.3202 - accuracy: 0.8656 - val_loss: 0.5296 - val_accuracy: 0.7441\n",
            "Epoch 20/25\n",
            "256/256 - 27s - loss: 0.3161 - accuracy: 0.8668 - val_loss: 0.3499 - val_accuracy: 0.8508\n",
            "Epoch 21/25\n",
            "256/256 - 31s - loss: 0.3161 - accuracy: 0.8666 - val_loss: 0.5246 - val_accuracy: 0.7612\n",
            "Epoch 22/25\n",
            "256/256 - 31s - loss: 0.3051 - accuracy: 0.8760 - val_loss: 0.3372 - val_accuracy: 0.8521\n",
            "Epoch 23/25\n",
            "256/256 - 30s - loss: 0.2992 - accuracy: 0.8785 - val_loss: 0.4023 - val_accuracy: 0.8221\n",
            "Epoch 24/25\n",
            "256/256 - 31s - loss: 0.2948 - accuracy: 0.8791 - val_loss: 0.7502 - val_accuracy: 0.7308\n",
            "Epoch 25/25\n",
            "256/256 - 30s - loss: 0.2956 - accuracy: 0.8784 - val_loss: 0.3536 - val_accuracy: 0.8519\n"
          ],
          "name": "stdout"
        }
      ]
    },
    {
      "cell_type": "code",
      "metadata": {
        "colab_type": "code",
        "id": "FdDV66Lrrr5-",
        "outputId": "ba266316-75ae-4849-82fa-a13147267052",
        "colab": {
          "base_uri": "https://localhost:8080/",
          "height": 34
        }
      },
      "source": [
        "test_pipeline = pcam['test'].map(convert_sample, num_parallel_calls=8).batch(128).prefetch(2)\n",
        "print(\"Test set accuracy is {0:.4f}\".format(model.evaluate(test_pipeline, steps=128, verbose=0)[1]))"
      ],
      "execution_count": 33,
      "outputs": [
        {
          "output_type": "stream",
          "text": [
            "Test set accuracy is 0.8583\n"
          ],
          "name": "stdout"
        }
      ]
    },
    {
      "cell_type": "code",
      "metadata": {
        "colab_type": "code",
        "id": "mlu476F7rr-H",
        "colab": {}
      },
      "source": [
        "#model.save(\"./patchcamelyon.hf5\")"
      ],
      "execution_count": 0,
      "outputs": []
    },
    {
      "cell_type": "code",
      "metadata": {
        "colab_type": "code",
        "id": "A3brUq4mrsCS",
        "colab": {}
      },
      "source": [
        ""
      ],
      "execution_count": 0,
      "outputs": []
    }
  ]
}