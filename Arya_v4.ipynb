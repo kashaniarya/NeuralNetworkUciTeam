{
 "cells": [
  {
   "cell_type": "markdown",
   "metadata": {
    "colab_type": "text",
    "id": "73tLeZWDCPJ7"
   },
   "source": [
    "\n",
    "#  the model in this file comes from this website\n",
    "\n",
    "#  https://geertlitjens.nl/post/getting-started-with-camelyon/\n",
    "\n",
    "\n",
    "\n",
    "#  without editing the model, it is 80% accurate/confident"
   ]
  },
  {
   "cell_type": "code",
   "execution_count": 0,
   "metadata": {
    "colab": {},
    "colab_type": "code",
    "id": "jU5bibOrj4hX"
   },
   "outputs": [],
   "source": [
    "import tensorflow as tf\n",
    "import tensorflow_datasets as tfds\n",
    "\n",
    "pcam, pcam_info = tfds.load('patch_camelyon', shuffle_files=True, with_info=True)"
   ]
  },
  {
   "cell_type": "code",
   "execution_count": 2,
   "metadata": {
    "colab": {
     "base_uri": "https://localhost:8080/",
     "height": 54
    },
    "colab_type": "code",
    "id": "1P7wkcQ39pfm",
    "outputId": "de984127-de20-47fc-d7e9-be35d371c7fc"
   },
   "outputs": [
    {
     "name": "stdout",
     "output_type": "stream",
     "text": [
      "{'test': <DatasetV1Adapter shapes: {id: (), image: (96, 96, 3), label: ()}, types: {id: tf.string, image: tf.uint8, label: tf.int64}>, 'train': <DatasetV1Adapter shapes: {id: (), image: (96, 96, 3), label: ()}, types: {id: tf.string, image: tf.uint8, label: tf.int64}>, 'validation': <DatasetV1Adapter shapes: {id: (), image: (96, 96, 3), label: ()}, types: {id: tf.string, image: tf.uint8, label: tf.int64}>}\n"
     ]
    }
   ],
   "source": [
    "print(pcam)"
   ]
  },
  {
   "cell_type": "code",
   "execution_count": 0,
   "metadata": {
    "colab": {},
    "colab_type": "code",
    "id": "E1pbxg6Z9po2"
   },
   "outputs": [],
   "source": []
  },
  {
   "cell_type": "code",
   "execution_count": 0,
   "metadata": {
    "colab": {},
    "colab_type": "code",
    "id": "VJzG-wXG9ptr"
   },
   "outputs": [],
   "source": []
  },
  {
   "cell_type": "code",
   "execution_count": 0,
   "metadata": {
    "colab": {},
    "colab_type": "code",
    "id": "6NynR3go9pxr"
   },
   "outputs": [],
   "source": []
  },
  {
   "cell_type": "code",
   "execution_count": 0,
   "metadata": {
    "colab": {},
    "colab_type": "code",
    "id": "y_VAX1Gn9p1q"
   },
   "outputs": [],
   "source": []
  },
  {
   "cell_type": "code",
   "execution_count": 0,
   "metadata": {
    "colab": {},
    "colab_type": "code",
    "id": "y4My_1nr9p6n"
   },
   "outputs": [],
   "source": []
  },
  {
   "cell_type": "code",
   "execution_count": 0,
   "metadata": {
    "colab": {},
    "colab_type": "code",
    "id": "DQSL4ZKJ9p_c"
   },
   "outputs": [],
   "source": []
  },
  {
   "cell_type": "code",
   "execution_count": 0,
   "metadata": {
    "colab": {},
    "colab_type": "code",
    "id": "uvUf30um9qDp"
   },
   "outputs": [],
   "source": []
  },
  {
   "cell_type": "code",
   "execution_count": 0,
   "metadata": {
    "colab": {},
    "colab_type": "code",
    "id": "84yAQsv90JIV"
   },
   "outputs": [],
   "source": [
    "# Import NumPy to handle array's and Matplotlib for plotting loss curves\n",
    "import numpy as np\n",
    "import matplotlib.pyplot as plt\n",
    "\n",
    "# Import TensorFlow and relevant Keras classes to setup the model\n",
    "import tensorflow as tf\n",
    "from tensorflow.keras.layers import Input, Dense, Conv2D, MaxPool2D, Flatten, Dropout\n",
    "from tensorflow.keras.models import Model\n",
    "from tensorflow.keras.optimizers import SGD\n",
    "from tensorflow.keras.utils import to_categorical\n",
    "from tensorflow.keras.callbacks import ModelCheckpoint"
   ]
  },
  {
   "cell_type": "code",
   "execution_count": 0,
   "metadata": {
    "colab": {},
    "colab_type": "code",
    "id": "4o2i2JzdrrqX"
   },
   "outputs": [],
   "source": [
    "#First setup the input to the network which has the dimensions of the patches contained within PatchCAMELYON\n",
    "input_img = Input(shape=(96,96,3))\n",
    "\n",
    "# Now we define the layers of the convolutional network: three blocks of two convolutional layers and a max-pool layer.\n",
    "x = Conv2D(16, (3, 3), padding='valid', activation='relu')(input_img)\n",
    "x = Conv2D(16, (3, 3), padding='valid', activation='relu')(x)\n",
    "x = MaxPool2D(pool_size=(2,2), strides=(2,2))(x)\n",
    "x = Conv2D(32, (3, 3), padding='valid', activation='relu')(x)\n",
    "x = Conv2D(32, (3, 3), padding='valid', activation='relu')(x)\n",
    "x = MaxPool2D(pool_size=(2,2), strides=(2,2))(x)\n",
    "x = Conv2D(64, (3, 3), padding='valid', activation='relu')(x)\n",
    "x = Conv2D(64, (3, 3), padding='valid', activation='relu')(x)\n",
    "x = MaxPool2D(pool_size=(2,2), strides=(2,2))(x)\n",
    "\n",
    "# Now we flatten the output from a 4D to a 2D tensor to be able to use fully-connected (dense) layers for the final\n",
    "# classification part. Here we also use a bit of dropout for regularization. The last layer uses a softmax to obtain class\n",
    "# likelihoods (i.e. metastasis vs. non-metastasis)\n",
    "x = Flatten()(x)\n",
    "x = Dense(256, activation='relu')(x)\n",
    "x = Dropout(rate=0.2)(x)\n",
    "x = Dense(128, activation='relu')(x)\n",
    "x = Dropout(rate=0.2)(x)\n",
    "predictions = Dense(2, activation='softmax')(x)\n",
    "\n",
    "# Now we define the inputs/outputs of the model and setup the optimizer. In this case we use regular stochastic gradient\n",
    "# descent with Nesterov momentum. The loss we use is cross-entropy and we would like to output accuracy as an additional metric.\n",
    "model2 = Model(inputs=input_img, outputs=predictions)\n",
    "sgd_opt = SGD(lr=0.01, momentum=0.9, decay=0.0, nesterov=True)\n",
    "model2.compile(optimizer=sgd_opt,\n",
    "              loss='categorical_crossentropy',\n",
    "              metrics=['accuracy'])\n",
    "#model.summary()"
   ]
  },
  {
   "cell_type": "code",
   "execution_count": 0,
   "metadata": {
    "colab": {},
    "colab_type": "code",
    "id": "rsNicrTjrruM"
   },
   "outputs": [],
   "source": [
    "def convert_sample(sample):\n",
    "    image, label = sample['image'], sample['label']  \n",
    "    image = tf.image.convert_image_dtype(image, tf.float32)\n",
    "    label = tf.one_hot(label, 2, dtype=tf.float32)\n",
    "    return image, label"
   ]
  },
  {
   "cell_type": "code",
   "execution_count": 0,
   "metadata": {
    "colab": {},
    "colab_type": "code",
    "id": "0vJ3YLIFrryA"
   },
   "outputs": [],
   "source": [
    "train_pipeline = pcam['train'].map(convert_sample,\n",
    "                                   num_parallel_calls=8).shuffle(1024).repeat().batch(64).prefetch(2)\n",
    "valid_pipeline = pcam['validation'].map(convert_sample,\n",
    "                                        num_parallel_calls=8).repeat().batch(128).prefetch(2)"
   ]
  },
  {
   "cell_type": "code",
   "execution_count": 7,
   "metadata": {
    "colab": {
     "base_uri": "https://localhost:8080/",
     "height": 364
    },
    "colab_type": "code",
    "id": "0jFZD7Hfrr2E",
    "outputId": "ff4a3de3-dd6a-47da-ee44-e30eedf601b2"
   },
   "outputs": [
    {
     "name": "stdout",
     "output_type": "stream",
     "text": [
      "Epoch 1/10\n",
      "4096/4096 - 198s - loss: 0.4473 - accuracy: 0.7897 - val_loss: 0.4121 - val_accuracy: 0.8274\n",
      "Epoch 2/10\n",
      "4096/4096 - 200s - loss: 0.3104 - accuracy: 0.8696 - val_loss: 0.3744 - val_accuracy: 0.8369\n",
      "Epoch 3/10\n",
      "4096/4096 - 205s - loss: 0.2537 - accuracy: 0.8988 - val_loss: 0.4709 - val_accuracy: 0.8031\n",
      "Epoch 4/10\n",
      "4096/4096 - 201s - loss: 0.2202 - accuracy: 0.9144 - val_loss: 0.3811 - val_accuracy: 0.8396\n",
      "Epoch 5/10\n",
      "4096/4096 - 215s - loss: 0.1977 - accuracy: 0.9244 - val_loss: 0.3377 - val_accuracy: 0.8533\n",
      "Epoch 6/10\n",
      "4096/4096 - 225s - loss: 0.1806 - accuracy: 0.9314 - val_loss: 0.3877 - val_accuracy: 0.8424\n",
      "Epoch 7/10\n",
      "4096/4096 - 217s - loss: 0.1663 - accuracy: 0.9372 - val_loss: 0.3380 - val_accuracy: 0.8640\n",
      "Epoch 8/10\n",
      "4096/4096 - 228s - loss: 0.1530 - accuracy: 0.9426 - val_loss: 0.4126 - val_accuracy: 0.8493\n",
      "Epoch 9/10\n",
      "4096/4096 - 224s - loss: 0.1409 - accuracy: 0.9472 - val_loss: 0.4474 - val_accuracy: 0.8361\n",
      "Epoch 10/10\n",
      "4096/4096 - 216s - loss: 0.1287 - accuracy: 0.9522 - val_loss: 0.5653 - val_accuracy: 0.8223\n"
     ]
    }
   ],
   "source": [
    "hist2 = model2.fit(train_pipeline,\n",
    "                 validation_data=valid_pipeline,\n",
    "                 verbose=2, epochs=10, steps_per_epoch=4096, validation_steps=256)"
   ]
  },
  {
   "cell_type": "code",
   "execution_count": 8,
   "metadata": {
    "colab": {
     "base_uri": "https://localhost:8080/",
     "height": 34
    },
    "colab_type": "code",
    "id": "FdDV66Lrrr5-",
    "outputId": "0fc02a55-5c5a-48bf-d9c1-f702748df441"
   },
   "outputs": [
    {
     "name": "stdout",
     "output_type": "stream",
     "text": [
      "Test set accuracy is 0.7961\n"
     ]
    }
   ],
   "source": [
    "test_pipeline = pcam['test'].map(convert_sample, num_parallel_calls=8).batch(128).prefetch(2)\n",
    "print(\"Test set accuracy is {0:.4f}\".format(model2.evaluate(test_pipeline, steps=128, verbose=0)[1]))"
   ]
  },
  {
   "cell_type": "code",
   "execution_count": 9,
   "metadata": {
    "colab": {
     "base_uri": "https://localhost:8080/",
     "height": 176
    },
    "colab_type": "code",
    "id": "mlu476F7rr-H",
    "outputId": "5c647c17-7039-4fce-91d7-e0173543beb6"
   },
   "outputs": [
    {
     "name": "stdout",
     "output_type": "stream",
     "text": [
      "WARNING:tensorflow:From /usr/local/lib/python3.6/dist-packages/tensorflow/python/ops/resource_variable_ops.py:1817: calling BaseResourceVariable.__init__ (from tensorflow.python.ops.resource_variable_ops) with constraint is deprecated and will be removed in a future version.\n",
      "Instructions for updating:\n",
      "If using Keras pass *_constraint arguments to layers.\n"
     ]
    },
    {
     "name": "stderr",
     "output_type": "stream",
     "text": [
      "WARNING:tensorflow:From /usr/local/lib/python3.6/dist-packages/tensorflow/python/ops/resource_variable_ops.py:1817: calling BaseResourceVariable.__init__ (from tensorflow.python.ops.resource_variable_ops) with constraint is deprecated and will be removed in a future version.\n",
      "Instructions for updating:\n",
      "If using Keras pass *_constraint arguments to layers.\n"
     ]
    },
    {
     "name": "stdout",
     "output_type": "stream",
     "text": [
      "INFO:tensorflow:Assets written to: patchcamelyon2.hf5/assets\n"
     ]
    },
    {
     "name": "stderr",
     "output_type": "stream",
     "text": [
      "INFO:tensorflow:Assets written to: patchcamelyon2.hf5/assets\n"
     ]
    }
   ],
   "source": [
    "model2.save(\"patchcamelyon2.hf5\")"
   ]
  },
  {
   "cell_type": "code",
   "execution_count": 0,
   "metadata": {
    "colab": {},
    "colab_type": "code",
    "id": "A3brUq4mrsCS"
   },
   "outputs": [],
   "source": []
  },
  {
   "cell_type": "code",
   "execution_count": 10,
   "metadata": {
    "colab": {
     "base_uri": "https://localhost:8080/",
     "height": 89
    },
    "colab_type": "code",
    "id": "-4P7taX2YuaU",
    "outputId": "497b563a-375b-4e0e-c241-5ee319e50ecd"
   },
   "outputs": [
    {
     "name": "stderr",
     "output_type": "stream",
     "text": [
      "/usr/local/lib/python3.6/dist-packages/statsmodels/tools/_testing.py:19: FutureWarning: pandas.util.testing is deprecated. Use the functions in the public API at pandas.testing instead.\n",
      "  import pandas.util.testing as tm\n",
      "Using TensorFlow backend.\n"
     ]
    }
   ],
   "source": [
    "#Import modules\n",
    "import numpy as np\n",
    "import pandas as pd\n",
    "import matplotlib.pyplot as plt\n",
    "import seaborn as sns\n",
    "from sklearn.model_selection import train_test_split\n",
    "from keras.models import Sequential\n",
    "from keras.layers import Activation, Dense, Dropout\n",
    "from keras import optimizers\n",
    "from sklearn.metrics import confusion_matrix,accuracy_score, roc_curve, auc\n",
    "%matplotlib inline\n",
    "sns.set_style(\"whitegrid\")\n",
    "np.random.seed(697)"
   ]
  },
  {
   "cell_type": "code",
   "execution_count": 11,
   "metadata": {
    "colab": {
     "base_uri": "https://localhost:8080/",
     "height": 294
    },
    "colab_type": "code",
    "id": "AVO1B99pYuh2",
    "outputId": "a2a2de03-1ddb-4302-af51-6109a4c1281d"
   },
   "outputs": [
    {
     "data": {
      "image/png": "[encoded data removed]",
      "text/plain": [
       "<Figure size 432x288 with 1 Axes>"
      ]
     },
     "metadata": {
      "tags": []
     },
     "output_type": "display_data"
    }
   ],
   "source": [
    "# summarize history for loss\n",
    "plt.figure()\n",
    "plt.plot(hist2.history['loss'])\n",
    "plt.plot(hist2.history['val_loss'])\n",
    "plt.title('model loss')\n",
    "plt.ylabel('loss')\n",
    "plt.xlabel('epoch')\n",
    "plt.legend(['train', 'test'], loc='upper right')\n",
    "plt.show()"
   ]
  },
  {
   "cell_type": "code",
   "execution_count": 0,
   "metadata": {
    "colab": {},
    "colab_type": "code",
    "id": "OGGbVzOsYup2"
   },
   "outputs": [],
   "source": []
  },
  {
   "cell_type": "code",
   "execution_count": 0,
   "metadata": {
    "colab": {},
    "colab_type": "code",
    "id": "W7gvawcuYuxw"
   },
   "outputs": [],
   "source": []
  },
  {
   "cell_type": "code",
   "execution_count": 0,
   "metadata": {
    "colab": {},
    "colab_type": "code",
    "id": "nrlmLqgOYu50"
   },
   "outputs": [],
   "source": []
  },
  {
   "cell_type": "code",
   "execution_count": 0,
   "metadata": {
    "colab": {},
    "colab_type": "code",
    "id": "WkcmAfBPYvCB"
   },
   "outputs": [],
   "source": []
  },
  {
   "cell_type": "code",
   "execution_count": 0,
   "metadata": {
    "colab": {},
    "colab_type": "code",
    "id": "SC92EDvMYvJ5"
   },
   "outputs": [],
   "source": []
  },
  {
   "cell_type": "code",
   "execution_count": 0,
   "metadata": {
    "colab": {},
    "colab_type": "code",
    "id": "UuyxtHRmFfnU"
   },
   "outputs": [],
   "source": []
  },
  {
   "cell_type": "code",
   "execution_count": 0,
   "metadata": {
    "colab": {},
    "colab_type": "code",
    "id": "DLdkm9sWFfp7"
   },
   "outputs": [],
   "source": []
  },
  {
   "cell_type": "code",
   "execution_count": 0,
   "metadata": {
    "colab": {},
    "colab_type": "code",
    "id": "eTzD_AMGFfsv"
   },
   "outputs": [],
   "source": []
  },
  {
   "cell_type": "code",
   "execution_count": 12,
   "metadata": {
    "colab": {
     "base_uri": "https://localhost:8080/",
     "height": 1000
    },
    "colab_type": "code",
    "id": "SS8SXDj9FfvM",
    "outputId": "c2e5bdbf-e5ee-40e1-defd-5289ff735505"
   },
   "outputs": [
    {
     "name": "stdout",
     "output_type": "stream",
     "text": [
      "Model: \"sequential\"\n",
      "_________________________________________________________________\n",
      "Layer (type)                 Output Shape              Param #   \n",
      "=================================================================\n",
      "conv2d_6 (Conv2D)            (None, 94, 94, 32)        320       \n",
      "_________________________________________________________________\n",
      "batch_normalization (BatchNo (None, 94, 94, 32)        128       \n",
      "_________________________________________________________________\n",
      "activation (Activation)      (None, 94, 94, 32)        0         \n",
      "_________________________________________________________________\n",
      "conv2d_7 (Conv2D)            (None, 92, 92, 32)        9216      \n",
      "_________________________________________________________________\n",
      "batch_normalization_1 (Batch (None, 92, 92, 32)        128       \n",
      "_________________________________________________________________\n",
      "activation_1 (Activation)    (None, 92, 92, 32)        0         \n",
      "_________________________________________________________________\n",
      "max_pooling2d_3 (MaxPooling2 (None, 46, 46, 32)        0         \n",
      "_________________________________________________________________\n",
      "dropout_2 (Dropout)          (None, 46, 46, 32)        0         \n",
      "_________________________________________________________________\n",
      "conv2d_8 (Conv2D)            (None, 44, 44, 64)        18432     \n",
      "_________________________________________________________________\n",
      "batch_normalization_2 (Batch (None, 44, 44, 64)        256       \n",
      "_________________________________________________________________\n",
      "activation_2 (Activation)    (None, 44, 44, 64)        0         \n",
      "_________________________________________________________________\n",
      "conv2d_9 (Conv2D)            (None, 42, 42, 64)        36864     \n",
      "_________________________________________________________________\n",
      "batch_normalization_3 (Batch (None, 42, 42, 64)        256       \n",
      "_________________________________________________________________\n",
      "activation_3 (Activation)    (None, 42, 42, 64)        0         \n",
      "_________________________________________________________________\n",
      "max_pooling2d_4 (MaxPooling2 (None, 21, 21, 64)        0         \n",
      "_________________________________________________________________\n",
      "dropout_3 (Dropout)          (None, 21, 21, 64)        0         \n",
      "_________________________________________________________________\n",
      "conv2d_10 (Conv2D)           (None, 19, 19, 128)       73728     \n",
      "_________________________________________________________________\n",
      "batch_normalization_4 (Batch (None, 19, 19, 128)       512       \n",
      "_________________________________________________________________\n",
      "activation_4 (Activation)    (None, 19, 19, 128)       0         \n",
      "_________________________________________________________________\n",
      "conv2d_11 (Conv2D)           (None, 17, 17, 128)       147456    \n",
      "_________________________________________________________________\n",
      "batch_normalization_5 (Batch (None, 17, 17, 128)       512       \n",
      "_________________________________________________________________\n",
      "activation_5 (Activation)    (None, 17, 17, 128)       0         \n",
      "_________________________________________________________________\n",
      "max_pooling2d_5 (MaxPooling2 (None, 8, 8, 128)         0         \n",
      "_________________________________________________________________\n",
      "dropout_4 (Dropout)          (None, 8, 8, 128)         0         \n",
      "_________________________________________________________________\n",
      "flatten_1 (Flatten)          (None, 8192)              0         \n",
      "_________________________________________________________________\n",
      "dense_3 (Dense)              (None, 256)               2097152   \n",
      "_________________________________________________________________\n",
      "batch_normalization_6 (Batch (None, 256)               1024      \n",
      "_________________________________________________________________\n",
      "activation_6 (Activation)    (None, 256)               0         \n",
      "_________________________________________________________________\n",
      "dropout_5 (Dropout)          (None, 256)               0         \n",
      "_________________________________________________________________\n",
      "dense_4 (Dense)              (None, 2)                 514       \n",
      "=================================================================\n",
      "Total params: 2,386,498\n",
      "Trainable params: 2,385,090\n",
      "Non-trainable params: 1,408\n",
      "_________________________________________________________________\n"
     ]
    }
   ],
   "source": [
    "# Import NumPy to handle array's and Matplotlib for plotting loss curves\n",
    "import numpy as np\n",
    "import matplotlib.pyplot as plt\n",
    "\n",
    "# Import TensorFlow and relevant Keras classes to setup the model\n",
    "import tensorflow as tf\n",
    "from tensorflow.keras.layers import Input, Dense, Conv2D, MaxPool2D, Flatten, Dropout, BatchNormalization, Activation\n",
    "from tensorflow.keras.models import Model, Sequential\n",
    "from tensorflow.keras.optimizers import SGD, Adam\n",
    "from tensorflow.keras.utils import to_categorical\n",
    "from tensorflow.keras.callbacks import ModelCheckpoint\n",
    "\n",
    "#just some network parameters, see above link regarding the layers for details\n",
    "kernel_size = (3,3)\n",
    "pool_size= (2,2)\n",
    "first_filters = 32\n",
    "second_filters = 64\n",
    "third_filters = 128\n",
    "\n",
    "#dropout is used for regularization here with a probability of 0.3 for conv layers, 0.5 for the dense layer at the end\n",
    "dropout_conv = 0.3\n",
    "dropout_dense = 0.5\n",
    "\n",
    "#initialize the model\n",
    "model = Sequential()\n",
    "\n",
    "#now add layers to it\n",
    "\n",
    "#conv block 1\n",
    "model.add(Conv2D(first_filters, kernel_size, input_shape = (96, 96, 1)))\n",
    "model.add(BatchNormalization())\n",
    "model.add(Activation(\"relu\"))\n",
    "model.add(Conv2D(first_filters, kernel_size, use_bias=False))\n",
    "model.add(BatchNormalization())\n",
    "model.add(Activation(\"relu\"))\n",
    "model.add(MaxPool2D(pool_size = pool_size)) \n",
    "model.add(Dropout(dropout_conv))\n",
    "\n",
    "#conv block 2\n",
    "model.add(Conv2D(second_filters, kernel_size, use_bias=False))\n",
    "model.add(BatchNormalization())\n",
    "model.add(Activation(\"relu\"))\n",
    "model.add(Conv2D(second_filters, kernel_size, use_bias=False))\n",
    "model.add(BatchNormalization())\n",
    "model.add(Activation(\"relu\"))\n",
    "model.add(MaxPool2D(pool_size = pool_size))\n",
    "model.add(Dropout(dropout_conv))\n",
    "\n",
    "#conv block 3\n",
    "model.add(Conv2D(third_filters, kernel_size, use_bias=False))\n",
    "model.add(BatchNormalization())\n",
    "model.add(Activation(\"relu\"))\n",
    "model.add(Conv2D(third_filters, kernel_size, use_bias=False))\n",
    "model.add(BatchNormalization())\n",
    "model.add(Activation(\"relu\"))\n",
    "model.add(MaxPool2D(pool_size = pool_size))\n",
    "model.add(Dropout(dropout_conv))\n",
    "\n",
    "#a fully connected (also called dense) layer at the end\n",
    "model.add(Flatten())\n",
    "model.add(Dense(256, use_bias=False))\n",
    "model.add(BatchNormalization())\n",
    "model.add(Activation(\"relu\"))\n",
    "model.add(Dropout(dropout_dense))\n",
    "\n",
    "model.add(Dense(2, activation = \"softmax\"))\n",
    "\n",
    "model.compile(optimizer=Adam(0.001),\n",
    "              loss=tf.keras.losses.binary_crossentropy,\n",
    "              metrics=['accuracy'])\n",
    "#model.summary()"
   ]
  },
  {
   "cell_type": "code",
   "execution_count": 0,
   "metadata": {
    "colab": {},
    "colab_type": "code",
    "id": "VK1wWKetFfxw"
   },
   "outputs": [],
   "source": [
    "def convert_sample(sample):\n",
    "    image, label = sample['image'], sample['label']  \n",
    "    image = tf.image.convert_image_dtype(image, tf.float32)\n",
    "    image = tf.image.rgb_to_grayscale(image)\n",
    "    label = tf.one_hot(label, 2, dtype=tf.float32)\n",
    "    return image, label"
   ]
  },
  {
   "cell_type": "code",
   "execution_count": 0,
   "metadata": {
    "colab": {},
    "colab_type": "code",
    "id": "FOw0JUFdFf0W"
   },
   "outputs": [],
   "source": [
    "train_pipeline = pcam['train'].map(convert_sample,\n",
    "                                   num_parallel_calls=8).shuffle(1024).repeat().batch(64).prefetch(2)\n",
    "valid_pipeline = pcam['validation'].map(convert_sample,\n",
    "                                        num_parallel_calls=8).repeat().batch(128).prefetch(2)\n",
    "\n"
   ]
  },
  {
   "cell_type": "code",
   "execution_count": 15,
   "metadata": {
    "colab": {
     "base_uri": "https://localhost:8080/",
     "height": 364
    },
    "colab_type": "code",
    "id": "91OQw3FiFf3H",
    "outputId": "4faeef72-65d3-4958-d5d5-2221409a5af9"
   },
   "outputs": [
    {
     "name": "stdout",
     "output_type": "stream",
     "text": [
      "Epoch 1/10\n",
      "256/256 - 38s - loss: 0.5687 - accuracy: 0.7491 - val_loss: 1.3629 - val_accuracy: 0.5103\n",
      "Epoch 2/10\n",
      "256/256 - 44s - loss: 0.4938 - accuracy: 0.7749 - val_loss: 1.0521 - val_accuracy: 0.6055\n",
      "Epoch 3/10\n",
      "256/256 - 47s - loss: 0.4664 - accuracy: 0.7914 - val_loss: 0.5770 - val_accuracy: 0.7365\n",
      "Epoch 4/10\n",
      "256/256 - 39s - loss: 0.4579 - accuracy: 0.7928 - val_loss: 0.5113 - val_accuracy: 0.7593\n",
      "Epoch 5/10\n",
      "256/256 - 42s - loss: 0.4444 - accuracy: 0.7997 - val_loss: 0.4879 - val_accuracy: 0.7854\n",
      "Epoch 6/10\n",
      "256/256 - 43s - loss: 0.4297 - accuracy: 0.8125 - val_loss: 0.5447 - val_accuracy: 0.7730\n",
      "Epoch 7/10\n",
      "256/256 - 38s - loss: 0.4283 - accuracy: 0.8143 - val_loss: 0.5023 - val_accuracy: 0.7682\n",
      "Epoch 8/10\n",
      "256/256 - 43s - loss: 0.4177 - accuracy: 0.8182 - val_loss: 0.5167 - val_accuracy: 0.7955\n",
      "Epoch 9/10\n",
      "256/256 - 45s - loss: 0.3959 - accuracy: 0.8278 - val_loss: 0.8926 - val_accuracy: 0.6402\n",
      "Epoch 10/10\n",
      "256/256 - 45s - loss: 0.3868 - accuracy: 0.8366 - val_loss: 0.7990 - val_accuracy: 0.5610\n"
     ]
    }
   ],
   "source": [
    "hist = model.fit(train_pipeline,\n",
    "                 validation_data=valid_pipeline,\n",
    "                 verbose=2, epochs=10, steps_per_epoch=256, validation_steps=256)\n",
    "\n"
   ]
  },
  {
   "cell_type": "code",
   "execution_count": 16,
   "metadata": {
    "colab": {
     "base_uri": "https://localhost:8080/",
     "height": 34
    },
    "colab_type": "code",
    "id": "j07ySb8-VfuF",
    "outputId": "d94e73a4-7af1-41ba-e694-b305f44e0b72"
   },
   "outputs": [
    {
     "name": "stdout",
     "output_type": "stream",
     "text": [
      "Test set accuracy is 0.5424\n"
     ]
    }
   ],
   "source": [
    "test_pipeline = pcam['test'].map(convert_sample, num_parallel_calls=8).batch(128).prefetch(2)\n",
    "print(\"Test set accuracy is {0:.4f}\".format(model.evaluate(test_pipeline, steps=128, verbose=0)[1]))"
   ]
  },
  {
   "cell_type": "code",
   "execution_count": 17,
   "metadata": {
    "colab": {
     "base_uri": "https://localhost:8080/",
     "height": 52
    },
    "colab_type": "code",
    "id": "CuQ-As8lFf52",
    "outputId": "f33281c3-629a-4787-b540-e4c67bd12628"
   },
   "outputs": [
    {
     "name": "stdout",
     "output_type": "stream",
     "text": [
      "INFO:tensorflow:Assets written to: patchcamelyon.hf5/assets\n"
     ]
    },
    {
     "name": "stderr",
     "output_type": "stream",
     "text": [
      "INFO:tensorflow:Assets written to: patchcamelyon.hf5/assets\n"
     ]
    }
   ],
   "source": [
    "model.save(\"patchcamelyon.hf5\")"
   ]
  },
  {
   "cell_type": "code",
   "execution_count": 0,
   "metadata": {
    "colab": {},
    "colab_type": "code",
    "id": "6YY3L4AVWPnx"
   },
   "outputs": [],
   "source": [
    "# #Import modules\n",
    "# import numpy as np\n",
    "# import pandas as pd\n",
    "# import matplotlib.pyplot as plt\n",
    "# import seaborn as sns\n",
    "# from sklearn.model_selection import train_test_split\n",
    "# from keras.models import Sequential\n",
    "# from keras.layers import Activation, Dense, Dropout\n",
    "# from keras import optimizers\n",
    "# from sklearn.metrics import confusion_matrix,accuracy_score, roc_curve, auc\n",
    "# %matplotlib inline\n",
    "# sns.set_style(\"whitegrid\")\n",
    "# np.random.seed(697)"
   ]
  },
  {
   "cell_type": "code",
   "execution_count": 19,
   "metadata": {
    "colab": {
     "base_uri": "https://localhost:8080/",
     "height": 294
    },
    "colab_type": "code",
    "id": "hZPAn6lqFf8d",
    "outputId": "f6ffaaae-8875-4728-cd93-5a484fc58dd2"
   },
   "outputs": [
    {
     "data": {
      "image/png": "[encoded data removed]",
      "text/plain": [
       "<Figure size 432x288 with 1 Axes>"
      ]
     },
     "metadata": {
      "tags": []
     },
     "output_type": "display_data"
    }
   ],
   "source": [
    "# summarize history for loss\n",
    "plt.figure()\n",
    "plt.plot(hist.history['loss'])\n",
    "plt.plot(hist.history['val_loss'])\n",
    "plt.title('model loss')\n",
    "plt.ylabel('loss')\n",
    "plt.xlabel('epoch')\n",
    "plt.legend(['train', 'test'], loc='upper right')\n",
    "plt.show()"
   ]
  },
  {
   "cell_type": "code",
   "execution_count": 0,
   "metadata": {
    "colab": {},
    "colab_type": "code",
    "id": "qLZIa-97d31Q"
   },
   "outputs": [],
   "source": [
    "# test_x = []\n",
    "# test_y = []\n",
    "# for i in pcam['test']:\n",
    "#   x,y = convert_sample(i)\n",
    "#   test_x.append(x)\n",
    "#   test_y.append(y)"
   ]
  },
  {
   "cell_type": "code",
   "execution_count": 0,
   "metadata": {
    "colab": {},
    "colab_type": "code",
    "id": "lU7rQRC0WD0P"
   },
   "outputs": [],
   "source": [
    "\n",
    "# #Predict on test set\n",
    "# predictions_NN_prob = model.predict(test_x)\n",
    "# predictions_NN_prob = predictions_NN_prob[:,0]\n",
    "\n",
    "# predictions_NN_01 = np.where(predictions_NN_prob > 0.5, 1, 0) #Turn probability to 0-1 binary output\n",
    "\n",
    "# #Print accuracy\n",
    "# acc_NN = accuracy_score(test_y, predictions_NN_01)\n",
    "# print('Overall accuracy of Neural Network model:', acc_NN)"
   ]
  },
  {
   "cell_type": "code",
   "execution_count": 0,
   "metadata": {
    "colab": {},
    "colab_type": "code",
    "id": "_x2JjE6TWD6z"
   },
   "outputs": [],
   "source": [
    "# #Print Area Under Curve\n",
    "# false_positive_rate, recall, thresholds = roc_curve(test_y, predictions_NN_prob)\n",
    "# roc_auc = auc(false_positive_rate, recall)\n",
    "# plt.figure()\n",
    "# plt.title('Receiver Operating Characteristic (ROC)')\n",
    "# plt.plot(false_positive_rate, recall, 'b', label = 'AUC = %0.3f' %roc_auc)\n",
    "# plt.legend(loc='lower right')\n",
    "# plt.plot([0,1], [0,1], 'r--')\n",
    "# plt.xlim([0.0,1.0])\n",
    "# plt.ylim([0.0,1.0])\n",
    "# plt.ylabel('Recall')\n",
    "# plt.xlabel('Fall-out (1-Specificity)')\n",
    "# plt.show()"
   ]
  },
  {
   "cell_type": "code",
   "execution_count": 0,
   "metadata": {
    "colab": {},
    "colab_type": "code",
    "id": "Zwn1WCn5WEBa"
   },
   "outputs": [],
   "source": [
    "# #Print Confusion Matrix\n",
    "# cm = confusion_matrix(test_y, predictions_NN_01)\n",
    "# labels = ['No Default', 'Default']\n",
    "# plt.figure(figsize=(8,6))\n",
    "# sns.heatmap(cm,xticklabels=labels, yticklabels=labels, annot=True, fmt='d', cmap=\"Blues\", vmin = 0.2);\n",
    "# plt.title('Confusion Matrix')\n",
    "# plt.ylabel('True Class')\n",
    "# plt.xlabel('Predicted Class')\n",
    "# plt.show()"
   ]
  },
  {
   "cell_type": "code",
   "execution_count": 0,
   "metadata": {
    "colab": {},
    "colab_type": "code",
    "id": "bFQRxiZhWEH7"
   },
   "outputs": [],
   "source": []
  },
  {
   "cell_type": "code",
   "execution_count": 0,
   "metadata": {
    "colab": {},
    "colab_type": "code",
    "id": "KhmjEj-hWEOs"
   },
   "outputs": [],
   "source": []
  },
  {
   "cell_type": "code",
   "execution_count": 0,
   "metadata": {
    "colab": {},
    "colab_type": "code",
    "id": "XHgOx0dwWEXy"
   },
   "outputs": [],
   "source": []
  },
  {
   "cell_type": "code",
   "execution_count": 0,
   "metadata": {
    "colab": {},
    "colab_type": "code",
    "id": "omWpoh-_WEtc"
   },
   "outputs": [],
   "source": []
  },
  {
   "cell_type": "code",
   "execution_count": 0,
   "metadata": {
    "colab": {},
    "colab_type": "code",
    "id": "OQGYgfdQWEhz"
   },
   "outputs": [],
   "source": []
  },
  {
   "cell_type": "code",
   "execution_count": 0,
   "metadata": {
    "colab": {},
    "colab_type": "code",
    "id": "aquH0g2yWEgB"
   },
   "outputs": [],
   "source": []
  },
  {
   "cell_type": "code",
   "execution_count": 0,
   "metadata": {
    "colab": {},
    "colab_type": "code",
    "id": "TWZSyO60Ff_9"
   },
   "outputs": [],
   "source": []
  }
 ],
 "metadata": {
  "accelerator": "GPU",
  "colab": {
   "collapsed_sections": [],
   "machine_shape": "hm",
   "name": "Arya_v4.ipynb",
   "provenance": []
  },
  "kernelspec": {
   "display_name": "Python 3",
   "language": "python",
   "name": "python3"
  },
  "language_info": {
   "codemirror_mode": {
    "name": "ipython",
    "version": 3
   },
   "file_extension": ".py",
   "mimetype": "text/x-python",
   "name": "python",
   "nbconvert_exporter": "python",
   "pygments_lexer": "ipython3",
   "version": "3.6.8"
  }
 },
 "nbformat": 4,
 "nbformat_minor": 1
}
