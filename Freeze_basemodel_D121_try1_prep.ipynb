{
  "nbformat": 4,
  "nbformat_minor": 0,
  "metadata": {
    "colab": {
      "name": "Freeze_basemodel_D121_try1_prep.ipynb",
      "provenance": [],
      "collapsed_sections": [],
      "machine_shape": "hm"
    },
    "kernelspec": {
      "name": "python3",
      "display_name": "Python 3"
    },
    "accelerator": "GPU"
  },
  "cells": [
    {
      "cell_type": "code",
      "metadata": {
        "id": "WsY7vMueKcKS",
        "colab_type": "code",
        "outputId": "d4aff5f8-4bbf-4a9d-d2e3-b320120dc90e",
        "colab": {
          "base_uri": "https://localhost:8080/",
          "height": 34
        }
      },
      "source": [
        "from google.colab import drive\n",
        "drive.mount('/content/drive')"
      ],
      "execution_count": 0,
      "outputs": [
        {
          "output_type": "stream",
          "text": [
            "Drive already mounted at /content/drive; to attempt to forcibly remount, call drive.mount(\"/content/drive\", force_remount=True).\n"
          ],
          "name": "stdout"
        }
      ]
    },
    {
      "cell_type": "code",
      "metadata": {
        "id": "oH9xXFURIVjS",
        "colab_type": "code",
        "colab": {}
      },
      "source": [
        "# Import NumPy to handle array's and Matplotlib for plotting loss curves\n",
        "import numpy as np\n",
        "import matplotlib.pyplot as plt\n",
        "\n",
        "# Import TensorFlow and relevant Keras classes to setup the model\n",
        "import tensorflow as tf\n",
        "from tensorflow.keras.layers import Input, Dense, Conv2D, MaxPool2D, Flatten, Dropout, BatchNormalization, Activation\n",
        "from tensorflow.keras.models import Model, Sequential\n",
        "from tensorflow.keras.optimizers import SGD, Adam\n",
        "from tensorflow.keras.utils import to_categorical\n",
        "from tensorflow.keras.callbacks import ModelCheckpoint\n",
        "\n",
        "from tensorflow.keras.applications.densenet import DenseNet169, DenseNet201, DenseNet121\n",
        "from tensorflow.keras.layers import Input, Flatten, Dense, BatchNormalization, Activation, Dropout, GlobalAveragePooling2D, GlobalMaxPooling2D, Concatenate\n",
        "from tensorflow.keras.models import Model, load_model\n",
        "from tensorflow.keras import losses, optimizers, activations, metrics"
      ],
      "execution_count": 0,
      "outputs": []
    },
    {
      "cell_type": "code",
      "metadata": {
        "id": "-P4FWOe8KPP8",
        "colab_type": "code",
        "outputId": "23a66317-a98b-4616-c7e0-9defa835a7e9",
        "colab": {
          "base_uri": "https://localhost:8080/",
          "height": 588
        }
      },
      "source": [
        "import tensorflow_datasets as tfds\n",
        "pcam, pcam_info = tfds.load(\"patch_camelyon\", download=False ,shuffle_files=False, with_info=True,data_dir='/content/drive/My Drive/Colab Notebooks')\n",
        "print(pcam_info)"
      ],
      "execution_count": 0,
      "outputs": [
        {
          "output_type": "stream",
          "text": [
            "tfds.core.DatasetInfo(\n",
            "    name='patch_camelyon',\n",
            "    version=2.0.0,\n",
            "    description='The PatchCamelyon benchmark is a new and challenging image classification\n",
            "dataset. It consists of 327.680 color images (96 x 96px) extracted from\n",
            "histopathologic scans of lymph node sections. Each image is annoted with a\n",
            "binary label indicating presence of metastatic tissue. PCam provides a new\n",
            "benchmark for machine learning models: bigger than CIFAR10, smaller than\n",
            "Imagenet, trainable on a single GPU.\n",
            "',\n",
            "    homepage='https://patchcamelyon.grand-challenge.org/',\n",
            "    features=FeaturesDict({\n",
            "        'id': Text(shape=(), dtype=tf.string),\n",
            "        'image': Image(shape=(96, 96, 3), dtype=tf.uint8),\n",
            "        'label': ClassLabel(shape=(), dtype=tf.int64, num_classes=2),\n",
            "    }),\n",
            "    total_num_examples=327680,\n",
            "    splits={\n",
            "        'test': 32768,\n",
            "        'train': 262144,\n",
            "        'validation': 32768,\n",
            "    },\n",
            "    supervised_keys=('image', 'label'),\n",
            "    citation=\"\"\"@misc{b_s_veeling_j_linmans_j_winkens_t_cohen_2018_2546921,\n",
            "      author       = {B. S. Veeling, J. Linmans, J. Winkens, T. Cohen, M. Welling},\n",
            "      title        = {Rotation Equivariant CNNs for Digital Pathology},\n",
            "      month        = sep,\n",
            "      year         = 2018,\n",
            "      doi          = {10.1007/978-3-030-00934-2_24},\n",
            "      url          = {https://doi.org/10.1007/978-3-030-00934-2_24}\n",
            "    }\"\"\",\n",
            "    redistribution_info=,\n",
            ")\n",
            "\n"
          ],
          "name": "stdout"
        }
      ]
    },
    {
      "cell_type": "code",
      "metadata": {
        "id": "6l3U9IB1O686",
        "colab_type": "code",
        "outputId": "1606cd64-e579-4752-d866-cc18bee520da",
        "colab": {
          "base_uri": "https://localhost:8080/",
          "height": 54
        }
      },
      "source": [
        "'''densenet = DenseNet121(\n",
        "    weights='imagenet',\n",
        "    include_top=False,\n",
        "    input_shape=(96,96,3)\n",
        ")\n",
        "def build_model():\n",
        "    model = Sequential()\n",
        "    model.add(densenet)\n",
        "    model.add(GlobalAveragePooling2D())\n",
        "    #model.add(Dropout(0.5))\n",
        "    model.add(Dense(512, activation='relu'))\n",
        "    model.add(Dense(2, activation='sigmoid'))\n",
        "    #model.add(Dense(2, activation = \"softmax\"))\n",
        "    \n",
        "    model.compile(\n",
        "        loss='binary_crossentropy',\n",
        "        optimizer=SGD(lr=0.001),\n",
        "        metrics=['accuracy']\n",
        "    )\n",
        "    \n",
        "    return model\n",
        "\n",
        "model = build_model()\n",
        "model.summary()'''   \n",
        "#Test set accuracy is 0.8098 obtained"
      ],
      "execution_count": 0,
      "outputs": [
        {
          "output_type": "execute_result",
          "data": {
            "text/plain": [
              "'densenet = DenseNet121(\\n    weights=\\'imagenet\\',\\n    include_top=False,\\n    input_shape=(96,96,3)\\n)\\ndef build_model():\\n    model = Sequential()\\n    model.add(densenet)\\n    model.add(GlobalAveragePooling2D())\\n    #model.add(Dropout(0.5))\\n    model.add(Dense(512, activation=\\'relu\\'))\\n    model.add(Dense(2, activation=\\'sigmoid\\'))\\n    #model.add(Dense(2, activation = \"softmax\"))\\n    \\n    model.compile(\\n        loss=\\'binary_crossentropy\\',\\n        optimizer=SGD(lr=0.001),\\n        metrics=[\\'accuracy\\']\\n    )\\n    \\n    return model\\n\\nmodel = build_model()\\nmodel.summary()'"
            ]
          },
          "metadata": {
            "tags": []
          },
          "execution_count": 10
        }
      ]
    },
    {
      "cell_type": "code",
      "metadata": {
        "id": "HWIwFSoqCwqo",
        "colab_type": "code",
        "outputId": "e947c3ce-81c4-4054-913d-24078eaf2fa3",
        "colab": {
          "base_uri": "https://localhost:8080/",
          "height": 420
        }
      },
      "source": [
        "densenet = DenseNet121(\n",
        "    weights='imagenet',\n",
        "    include_top=False,\n",
        "    input_shape=(96,96,3)\n",
        ")\n",
        "densenet.trainable = False\n",
        "def build_model():\n",
        "    model = Sequential()\n",
        "    model.add(densenet)\n",
        "    model.add(GlobalAveragePooling2D())\n",
        "    #model.add(Dropout(0.5))\n",
        "    model.add(Dense(512, activation='relu'))\n",
        "    model.add(Dropout(0.5))\n",
        "    model.add(Dense(128, activation='relu'))\n",
        "    model.add(Dropout(0.5))\n",
        "    #model.add(Dense(1, activation='sigmoid'))\n",
        "    model.add(Dense(2, activation = \"softmax\"))\n",
        "    \n",
        "    model.compile(\n",
        "        loss='binary_crossentropy',\n",
        "        optimizer='SGD',\n",
        "        metrics=['accuracy']\n",
        "    )\n",
        "    \n",
        "    return model\n",
        "\n",
        "model = build_model()\n",
        "model.summary()"
      ],
      "execution_count": 0,
      "outputs": [
        {
          "output_type": "stream",
          "text": [
            "Downloading data from https://storage.googleapis.com/tensorflow/keras-applications/densenet/densenet121_weights_tf_dim_ordering_tf_kernels_notop.h5\n",
            "29089792/29084464 [==============================] - 0s 0us/step\n",
            "Model: \"sequential\"\n",
            "_________________________________________________________________\n",
            "Layer (type)                 Output Shape              Param #   \n",
            "=================================================================\n",
            "densenet121 (Model)          (None, 3, 3, 1024)        7037504   \n",
            "_________________________________________________________________\n",
            "global_average_pooling2d (Gl (None, 1024)              0         \n",
            "_________________________________________________________________\n",
            "dense (Dense)                (None, 512)               524800    \n",
            "_________________________________________________________________\n",
            "dropout (Dropout)            (None, 512)               0         \n",
            "_________________________________________________________________\n",
            "dense_1 (Dense)              (None, 128)               65664     \n",
            "_________________________________________________________________\n",
            "dropout_1 (Dropout)          (None, 128)               0         \n",
            "_________________________________________________________________\n",
            "dense_2 (Dense)              (None, 2)                 258       \n",
            "=================================================================\n",
            "Total params: 7,628,226\n",
            "Trainable params: 590,722\n",
            "Non-trainable params: 7,037,504\n",
            "_________________________________________________________________\n"
          ],
          "name": "stdout"
        }
      ]
    },
    {
      "cell_type": "code",
      "metadata": {
        "id": "o3RzchZQKr2P",
        "colab_type": "code",
        "colab": {}
      },
      "source": [
        "def convert_sample(sample):\n",
        "    image, label = sample['image'], sample['label']  \n",
        "    image = tf.image.convert_image_dtype(image, tf.float32)\n",
        "    #image = tf.image.rgb_to_grayscale(image)\n",
        "    image = tf.image.random_flip_left_right(image)\n",
        "    image = tf.image.random_flip_up_down(image)\n",
        "    label = tf.one_hot(label, 2, dtype=tf.float32)\n",
        "    return image, label\n",
        "\n",
        "train_pipeline = pcam['train'].map(convert_sample,\n",
        "                                   num_parallel_calls=8).shuffle(1024).repeat().batch(128).prefetch(2)\n",
        "valid_pipeline = pcam['validation'].map(convert_sample,\n",
        "                                        num_parallel_calls=8).repeat().batch(128).prefetch(2)"
      ],
      "execution_count": 0,
      "outputs": []
    },
    {
      "cell_type": "code",
      "metadata": {
        "id": "ElZgAdoIKu8S",
        "colab_type": "code",
        "outputId": "3d3550df-69ce-4bc2-928a-beafb1320909",
        "colab": {
          "base_uri": "https://localhost:8080/",
          "height": 1000
        }
      },
      "source": [
        "hist = model.fit(train_pipeline,\n",
        "                 validation_data=valid_pipeline,\n",
        "                 verbose=2, epochs=30, steps_per_epoch=512, validation_steps=256)"
      ],
      "execution_count": 0,
      "outputs": [
        {
          "output_type": "stream",
          "text": [
            "Epoch 1/30\n",
            "512/512 - 82s - loss: 0.5538 - accuracy: 0.7327 - val_loss: 0.4262 - val_accuracy: 0.8022\n",
            "Epoch 2/30\n",
            "512/512 - 57s - loss: 0.4423 - accuracy: 0.7964 - val_loss: 0.4055 - val_accuracy: 0.8103\n",
            "Epoch 3/30\n",
            "512/512 - 57s - loss: 0.4120 - accuracy: 0.8160 - val_loss: 0.3996 - val_accuracy: 0.8118\n",
            "Epoch 4/30\n",
            "512/512 - 58s - loss: 0.3948 - accuracy: 0.8236 - val_loss: 0.3953 - val_accuracy: 0.8135\n",
            "Epoch 5/30\n",
            "512/512 - 60s - loss: 0.3887 - accuracy: 0.8264 - val_loss: 0.3945 - val_accuracy: 0.8138\n",
            "Epoch 6/30\n",
            "512/512 - 57s - loss: 0.3766 - accuracy: 0.8341 - val_loss: 0.3952 - val_accuracy: 0.8110\n",
            "Epoch 7/30\n",
            "512/512 - 56s - loss: 0.3691 - accuracy: 0.8383 - val_loss: 0.3876 - val_accuracy: 0.8179\n",
            "Epoch 8/30\n",
            "512/512 - 56s - loss: 0.3640 - accuracy: 0.8398 - val_loss: 0.3854 - val_accuracy: 0.8177\n",
            "Epoch 9/30\n",
            "512/512 - 57s - loss: 0.3644 - accuracy: 0.8416 - val_loss: 0.3900 - val_accuracy: 0.8139\n",
            "Epoch 10/30\n",
            "512/512 - 64s - loss: 0.3554 - accuracy: 0.8439 - val_loss: 0.3839 - val_accuracy: 0.8184\n",
            "Epoch 11/30\n",
            "512/512 - 63s - loss: 0.3500 - accuracy: 0.8497 - val_loss: 0.3848 - val_accuracy: 0.8204\n",
            "Epoch 12/30\n",
            "512/512 - 62s - loss: 0.3485 - accuracy: 0.8496 - val_loss: 0.3790 - val_accuracy: 0.8212\n",
            "Epoch 13/30\n",
            "512/512 - 58s - loss: 0.3469 - accuracy: 0.8505 - val_loss: 0.3872 - val_accuracy: 0.8179\n",
            "Epoch 14/30\n",
            "512/512 - 62s - loss: 0.3429 - accuracy: 0.8526 - val_loss: 0.3816 - val_accuracy: 0.8176\n",
            "Epoch 15/30\n",
            "512/512 - 62s - loss: 0.3383 - accuracy: 0.8553 - val_loss: 0.3798 - val_accuracy: 0.8231\n",
            "Epoch 16/30\n",
            "512/512 - 62s - loss: 0.3369 - accuracy: 0.8555 - val_loss: 0.3753 - val_accuracy: 0.8224\n",
            "Epoch 17/30\n",
            "512/512 - 60s - loss: 0.3352 - accuracy: 0.8555 - val_loss: 0.3808 - val_accuracy: 0.8216\n",
            "Epoch 18/30\n",
            "512/512 - 62s - loss: 0.3322 - accuracy: 0.8576 - val_loss: 0.3767 - val_accuracy: 0.8218\n",
            "Epoch 19/30\n",
            "512/512 - 62s - loss: 0.3294 - accuracy: 0.8607 - val_loss: 0.3751 - val_accuracy: 0.8242\n",
            "Epoch 20/30\n",
            "512/512 - 64s - loss: 0.3274 - accuracy: 0.8606 - val_loss: 0.3798 - val_accuracy: 0.8210\n",
            "Epoch 21/30\n",
            "512/512 - 58s - loss: 0.3326 - accuracy: 0.8576 - val_loss: 0.3775 - val_accuracy: 0.8242\n",
            "Epoch 22/30\n",
            "512/512 - 59s - loss: 0.3243 - accuracy: 0.8601 - val_loss: 0.3809 - val_accuracy: 0.8203\n",
            "Epoch 23/30\n",
            "512/512 - 59s - loss: 0.3226 - accuracy: 0.8638 - val_loss: 0.3780 - val_accuracy: 0.8232\n",
            "Epoch 24/30\n",
            "512/512 - 58s - loss: 0.3212 - accuracy: 0.8645 - val_loss: 0.3703 - val_accuracy: 0.8284\n",
            "Epoch 25/30\n",
            "512/512 - 56s - loss: 0.3226 - accuracy: 0.8629 - val_loss: 0.3769 - val_accuracy: 0.8260\n",
            "Epoch 26/30\n",
            "512/512 - 63s - loss: 0.3170 - accuracy: 0.8657 - val_loss: 0.3770 - val_accuracy: 0.8243\n",
            "Epoch 27/30\n",
            "512/512 - 62s - loss: 0.3137 - accuracy: 0.8664 - val_loss: 0.3775 - val_accuracy: 0.8244\n",
            "Epoch 28/30\n",
            "512/512 - 63s - loss: 0.3139 - accuracy: 0.8676 - val_loss: 0.3773 - val_accuracy: 0.8255\n",
            "Epoch 29/30\n",
            "512/512 - 57s - loss: 0.3142 - accuracy: 0.8669 - val_loss: 0.3777 - val_accuracy: 0.8234\n",
            "Epoch 30/30\n",
            "512/512 - 58s - loss: 0.3116 - accuracy: 0.8679 - val_loss: 0.3682 - val_accuracy: 0.8321\n"
          ],
          "name": "stdout"
        }
      ]
    },
    {
      "cell_type": "code",
      "metadata": {
        "id": "DVhgWQTMK454",
        "colab_type": "code",
        "outputId": "3949f2a1-3df7-4b35-ef3b-781e6fc53c68",
        "colab": {
          "base_uri": "https://localhost:8080/",
          "height": 34
        }
      },
      "source": [
        "test_pipeline = pcam['test'].map(convert_sample, num_parallel_calls=8).batch(128).prefetch(2)\n",
        "print(\"Test set accuracy is {0:.4f}\".format(model.evaluate(test_pipeline, steps=128, verbose=0)[1]))"
      ],
      "execution_count": 0,
      "outputs": [
        {
          "output_type": "stream",
          "text": [
            "Test set accuracy is 0.8193\n"
          ],
          "name": "stdout"
        }
      ]
    },
    {
      "cell_type": "code",
      "metadata": {
        "id": "eAXxcHTS85IR",
        "colab_type": "code",
        "outputId": "920670ce-5e48-4d09-9b48-bc38def3e611",
        "colab": {
          "base_uri": "https://localhost:8080/",
          "height": 573
        }
      },
      "source": [
        "hist2=hist\n",
        "plt.figure()\n",
        "plt.plot(hist2.history['accuracy'])\n",
        "plt.plot(hist2.history['val_accuracy'])\n",
        "plt.title('model accuracy')\n",
        "plt.ylabel('accuracy')\n",
        "plt.xlabel('epoch')\n",
        "plt.legend(['train', 'test'], loc='upper right')\n",
        "plt.show()\n",
        "\n",
        "# summarize history for loss\n",
        "plt.figure()\n",
        "plt.plot(hist2.history['loss'])\n",
        "plt.plot(hist2.history['val_loss'])\n",
        "plt.title('model loss')\n",
        "plt.ylabel('loss')\n",
        "plt.xlabel('epoch')\n",
        "plt.legend(['train', 'test'], loc='upper right')\n",
        "plt.show()"
      ],
      "execution_count": 0,
      "outputs": [
        {
          "output_type": "display_data",
          "data": {
            "image/png": "[encoded data removed]",
            "text/plain": [
              "<Figure size 432x288 with 1 Axes>"
            ]
          },
          "metadata": {
            "tags": [],
            "needs_background": "light"
          }
        },
        {
          "output_type": "display_data",
          "data": {
            "image/png": "[encoded data removed]",
            "text/plain": [
              "<Figure size 432x288 with 1 Axes>"
            ]
          },
          "metadata": {
            "tags": [],
            "needs_background": "light"
          }
        }
      ]
    },
    {
      "cell_type": "code",
      "metadata": {
        "id": "GNUcvHYGAAGd",
        "colab_type": "code",
        "outputId": "70fb6f95-b416-4708-9b89-bc80492230bf",
        "colab": {
          "base_uri": "https://localhost:8080/",
          "height": 750
        }
      },
      "source": [
        "#Import modules\n",
        "import numpy as np\n",
        "import pandas as pd\n",
        "import matplotlib.pyplot as plt\n",
        "import seaborn as sns\n",
        "from sklearn.model_selection import train_test_split\n",
        "from keras import optimizers\n",
        "from sklearn.metrics import confusion_matrix,accuracy_score, roc_curve, auc\n",
        "%matplotlib inline\n",
        "sns.set_style(\"whitegrid\")\n",
        "np.random.seed(697)\n",
        "\n",
        "# Code below from https://www.kaggle.com/georsara1/95-auc-score-in-train-sample-with-neural-nets\n",
        "\n",
        "#Predict on test set\n",
        "predictions_NN_prob = model.predict(test_pipeline)\n",
        "predictions_NN_prob = predictions_NN_prob[:,0]\n",
        "\n",
        "predictions_NN_01 = np.where(predictions_NN_prob > 0.5, 0,1) #Turn probability to 0-1 binary output\n",
        "\n",
        "#Print Area Under Curve\n",
        "y_numpy = pcam['test'].as_numpy_iterator()\n",
        "test_y = np.array([i['label'] for i in y_numpy])\n",
        "print(test_y)\n",
        "false_positive_rate, recall, thresholds = roc_curve(test_y, predictions_NN_01)\n",
        "roc_auc = auc(false_positive_rate, recall)\n",
        "plt.figure()\n",
        "plt.title('Receiver Operating Characteristic (ROC)')\n",
        "plt.plot(false_positive_rate, recall, 'b', label = 'AUC = %0.3f' %roc_auc)\n",
        "plt.legend(loc='lower right')\n",
        "plt.plot([0,1], [0,1], 'r--')\n",
        "plt.xlim([0.0,1.0])\n",
        "plt.ylim([0.0,1.0])\n",
        "plt.ylabel('Recall')\n",
        "plt.xlabel('Fall-out (1-Specificity)')\n",
        "plt.show()\n",
        "\n",
        "#Print Confusion Matrix\n",
        "cm = confusion_matrix(test_y, predictions_NN_01)\n",
        "labels = ['Negative','Positive']\n",
        "plt.figure(figsize=(8,6))\n",
        "sns.heatmap(cm,xticklabels=labels, yticklabels=labels, annot=True, fmt='d', cmap=\"Blues\", vmin = 0.2);\n",
        "plt.title('Confusion Matrix')\n",
        "plt.ylabel('True Class')\n",
        "plt.xlabel('Predicted Class')\n",
        "plt.show()"
      ],
      "execution_count": 0,
      "outputs": [
        {
          "output_type": "stream",
          "text": [
            "/usr/local/lib/python3.6/dist-packages/statsmodels/tools/_testing.py:19: FutureWarning: pandas.util.testing is deprecated. Use the functions in the public API at pandas.testing instead.\n",
            "  import pandas.util.testing as tm\n",
            "Using TensorFlow backend.\n"
          ],
          "name": "stderr"
        },
        {
          "output_type": "stream",
          "text": [
            "[0 1 0 ... 1 1 0]\n"
          ],
          "name": "stdout"
        },
        {
          "output_type": "display_data",
          "data": {
            "image/png": "[encoded data removed]",
            "text/plain": [
              "<Figure size 432x288 with 1 Axes>"
            ]
          },
          "metadata": {
            "tags": []
          }
        },
        {
          "output_type": "display_data",
          "data": {
            "image/png": "[encoded data removed]",
            "text/plain": [
              "<Figure size 576x432 with 2 Axes>"
            ]
          },
          "metadata": {
            "tags": []
          }
        }
      ]
    },
    {
      "cell_type": "code",
      "metadata": {
        "id": "s5osH7_D4rvO",
        "colab_type": "code",
        "outputId": "8fded054-d27d-4e9f-d6c3-20d87829a85f",
        "colab": {
          "base_uri": "https://localhost:8080/",
          "height": 374
        }
      },
      "source": [
        "#Print Confusion Matrix\n",
        "cm = confusion_matrix(test_y, predictions_NN_01)\n",
        "plt.figure(figsize=(8,6))\n",
        "sns.heatmap(cm);\n",
        "\n",
        "plt.show()"
      ],
      "execution_count": 0,
      "outputs": [
        {
          "output_type": "display_data",
          "data": {
            "image/png": "[encoded data removed]",
            "text/plain": [
              "<Figure size 576x432 with 2 Axes>"
            ]
          },
          "metadata": {
            "tags": []
          }
        }
      ]
    }
  ]
}