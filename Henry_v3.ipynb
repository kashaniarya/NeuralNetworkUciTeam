{
  "nbformat": 4,
  "nbformat_minor": 0,
  "metadata": {
    "accelerator": "GPU",
    "colab": {
      "name": "Henry_v3.ipynb",
      "provenance": [],
      "collapsed_sections": [],
      "toc_visible": true,
      "machine_shape": "hm"
    },
    "kernelspec": {
      "display_name": "Python 3",
      "language": "python",
      "name": "python3"
    },
    "language_info": {
      "codemirror_mode": {
        "name": "ipython",
        "version": 3
      },
      "file_extension": ".py",
      "mimetype": "text/x-python",
      "name": "python",
      "nbconvert_exporter": "python",
      "pygments_lexer": "ipython3",
      "version": "3.7.6"
    }
  },
  "cells": [
    {
      "cell_type": "markdown",
      "metadata": {
        "colab_type": "text",
        "id": "73tLeZWDCPJ7"
      },
      "source": [
        "\n",
        "#  the model in this file comes from this website\n",
        "\n",
        "#  https://geertlitjens.nl/post/getting-started-with-camelyon/\n",
        "\n",
        "\n",
        "\n",
        "#  without editing the model, it is 80% accurate/confident"
      ]
    },
    {
      "cell_type": "code",
      "metadata": {
        "id": "F5Prf7vNT517",
        "colab_type": "code",
        "outputId": "c0de30bb-2c8b-48b6-9ae5-10ac32a414f7",
        "colab": {
          "base_uri": "https://localhost:8080/",
          "height": 34
        }
      },
      "source": [
        "from google.colab import drive\n",
        "drive.mount('/content/drive')"
      ],
      "execution_count": 15,
      "outputs": [
        {
          "output_type": "stream",
          "text": [
            "Drive already mounted at /content/drive; to attempt to forcibly remount, call drive.mount(\"/content/drive\", force_remount=True).\n"
          ],
          "name": "stdout"
        }
      ]
    },
    {
      "cell_type": "code",
      "metadata": {
        "colab_type": "code",
        "id": "jU5bibOrj4hX",
        "cellView": "both",
        "outputId": "8a60c95d-6c53-4861-d7fd-10907b8c2480",
        "colab": {
          "base_uri": "https://localhost:8080/",
          "height": 588
        }
      },
      "source": [
        "import tensorflow as tf\n",
        "import tensorflow_datasets as tfds\n",
        "\n",
        "pcam, pcam_info = tfds.load('patch_camelyon', shuffle_files=True, with_info=True,\n",
        "                            data_dir='/content/drive/My Drive/Colab Notebooks')\n",
        "print(pcam_info)"
      ],
      "execution_count": 16,
      "outputs": [
        {
          "output_type": "stream",
          "text": [
            "tfds.core.DatasetInfo(\n",
            "    name='patch_camelyon',\n",
            "    version=2.0.0,\n",
            "    description='The PatchCamelyon benchmark is a new and challenging image classification\n",
            "dataset. It consists of 327.680 color images (96 x 96px) extracted from\n",
            "histopathologic scans of lymph node sections. Each image is annoted with a\n",
            "binary label indicating presence of metastatic tissue. PCam provides a new\n",
            "benchmark for machine learning models: bigger than CIFAR10, smaller than\n",
            "Imagenet, trainable on a single GPU.\n",
            "',\n",
            "    homepage='https://patchcamelyon.grand-challenge.org/',\n",
            "    features=FeaturesDict({\n",
            "        'id': Text(shape=(), dtype=tf.string),\n",
            "        'image': Image(shape=(96, 96, 3), dtype=tf.uint8),\n",
            "        'label': ClassLabel(shape=(), dtype=tf.int64, num_classes=2),\n",
            "    }),\n",
            "    total_num_examples=327680,\n",
            "    splits={\n",
            "        'test': 32768,\n",
            "        'train': 262144,\n",
            "        'validation': 32768,\n",
            "    },\n",
            "    supervised_keys=('image', 'label'),\n",
            "    citation=\"\"\"@misc{b_s_veeling_j_linmans_j_winkens_t_cohen_2018_2546921,\n",
            "      author       = {B. S. Veeling, J. Linmans, J. Winkens, T. Cohen, M. Welling},\n",
            "      title        = {Rotation Equivariant CNNs for Digital Pathology},\n",
            "      month        = sep,\n",
            "      year         = 2018,\n",
            "      doi          = {10.1007/978-3-030-00934-2_24},\n",
            "      url          = {https://doi.org/10.1007/978-3-030-00934-2_24}\n",
            "    }\"\"\",\n",
            "    redistribution_info=,\n",
            ")\n",
            "\n"
          ],
          "name": "stdout"
        }
      ]
    },
    {
      "cell_type": "code",
      "metadata": {
        "colab_type": "code",
        "id": "84yAQsv90JIV",
        "colab": {}
      },
      "source": [
        "# Import NumPy to handle array's and Matplotlib for plotting loss curves\n",
        "import numpy as np\n",
        "import matplotlib.pyplot as plt\n",
        "\n",
        "# Import TensorFlow and relevant Keras classes to setup the model\n",
        "import tensorflow as tf\n",
        "from tensorflow.keras.layers import Input, Dense, Conv2D, MaxPool2D, Flatten, Dropout, BatchNormalization, Activation, GlobalAveragePooling2D\n",
        "from tensorflow.keras.models import Model, Sequential, load_model\n",
        "from tensorflow.keras.optimizers import SGD, Adam\n",
        "from tensorflow.keras.utils import to_categorical\n",
        "from tensorflow.keras.callbacks import ModelCheckpoint, EarlyStopping"
      ],
      "execution_count": 0,
      "outputs": []
    },
    {
      "cell_type": "code",
      "metadata": {
        "colab_type": "code",
        "id": "4o2i2JzdrrqX",
        "outputId": "2961544c-279c-4137-b9fd-6228ba12aa00",
        "colab": {
          "base_uri": "https://localhost:8080/",
          "height": 890
        }
      },
      "source": [
        "#just some network parameters, see above link regarding the layers for details\n",
        "kernel_size = (3,3)\n",
        "pool_size= (2,2)\n",
        "first_filters = 32\n",
        "second_filters = 64\n",
        "third_filters = 128\n",
        "\n",
        "#dropout is used for regularization here with a probability of 0.3 for conv layers, 0.5 for the dense layer at the end\n",
        "dropout_conv = 0.3\n",
        "dropout_dense = 0.5\n",
        "\n",
        "#initialize the model\n",
        "model = Sequential()\n",
        "\n",
        "#now add layers to it\n",
        "\n",
        "#conv block 1\n",
        "model.add(Conv2D(first_filters, kernel_size, input_shape = (96, 96, 1)))\n",
        "model.add(BatchNormalization())\n",
        "model.add(Activation(\"relu\"))\n",
        "model.add(MaxPool2D(pool_size = pool_size))\n",
        "model.add(Dropout(dropout_conv))\n",
        "\n",
        "#conv block 2\n",
        "model.add(Conv2D(second_filters, kernel_size, use_bias=False))\n",
        "model.add(BatchNormalization())\n",
        "model.add(Activation(\"relu\"))\n",
        "model.add(MaxPool2D(pool_size = pool_size))\n",
        "model.add(Dropout(dropout_conv))\n",
        "\n",
        "#conv block 3\n",
        "model.add(Conv2D(third_filters, kernel_size, use_bias=False))\n",
        "model.add(BatchNormalization())\n",
        "model.add(Activation(\"relu\"))\n",
        "model.add(MaxPool2D(pool_size = pool_size))\n",
        "model.add(Dropout(dropout_conv))\n",
        "\n",
        "model.add(GlobalAveragePooling2D())\n",
        "\n",
        "#a fully connected (also called dense) layer at the end\n",
        "model.add(Flatten())\n",
        "model.add(Dense(128, use_bias=False))\n",
        "model.add(BatchNormalization())\n",
        "model.add(Activation(\"relu\"))\n",
        "model.add(Dropout(dropout_dense))\n",
        "\n",
        "model.add(Dense(2, activation = \"softmax\"))\n",
        "\n",
        "model.compile(optimizer=Adam(1e-4),\n",
        "              loss=tf.keras.losses.binary_crossentropy,\n",
        "              metrics=['accuracy'])\n",
        "model.summary()"
      ],
      "execution_count": 18,
      "outputs": [
        {
          "output_type": "stream",
          "text": [
            "Model: \"sequential_2\"\n",
            "_________________________________________________________________\n",
            "Layer (type)                 Output Shape              Param #   \n",
            "=================================================================\n",
            "conv2d_6 (Conv2D)            (None, 94, 94, 32)        320       \n",
            "_________________________________________________________________\n",
            "batch_normalization_8 (Batch (None, 94, 94, 32)        128       \n",
            "_________________________________________________________________\n",
            "activation_8 (Activation)    (None, 94, 94, 32)        0         \n",
            "_________________________________________________________________\n",
            "max_pooling2d_3 (MaxPooling2 (None, 47, 47, 32)        0         \n",
            "_________________________________________________________________\n",
            "dropout_8 (Dropout)          (None, 47, 47, 32)        0         \n",
            "_________________________________________________________________\n",
            "conv2d_7 (Conv2D)            (None, 45, 45, 64)        18432     \n",
            "_________________________________________________________________\n",
            "batch_normalization_9 (Batch (None, 45, 45, 64)        256       \n",
            "_________________________________________________________________\n",
            "activation_9 (Activation)    (None, 45, 45, 64)        0         \n",
            "_________________________________________________________________\n",
            "max_pooling2d_4 (MaxPooling2 (None, 22, 22, 64)        0         \n",
            "_________________________________________________________________\n",
            "dropout_9 (Dropout)          (None, 22, 22, 64)        0         \n",
            "_________________________________________________________________\n",
            "conv2d_8 (Conv2D)            (None, 20, 20, 128)       73728     \n",
            "_________________________________________________________________\n",
            "batch_normalization_10 (Batc (None, 20, 20, 128)       512       \n",
            "_________________________________________________________________\n",
            "activation_10 (Activation)   (None, 20, 20, 128)       0         \n",
            "_________________________________________________________________\n",
            "max_pooling2d_5 (MaxPooling2 (None, 10, 10, 128)       0         \n",
            "_________________________________________________________________\n",
            "dropout_10 (Dropout)         (None, 10, 10, 128)       0         \n",
            "_________________________________________________________________\n",
            "global_average_pooling2d_2 ( (None, 128)               0         \n",
            "_________________________________________________________________\n",
            "flatten_2 (Flatten)          (None, 128)               0         \n",
            "_________________________________________________________________\n",
            "dense_4 (Dense)              (None, 128)               16384     \n",
            "_________________________________________________________________\n",
            "batch_normalization_11 (Batc (None, 128)               512       \n",
            "_________________________________________________________________\n",
            "activation_11 (Activation)   (None, 128)               0         \n",
            "_________________________________________________________________\n",
            "dropout_11 (Dropout)         (None, 128)               0         \n",
            "_________________________________________________________________\n",
            "dense_5 (Dense)              (None, 2)                 258       \n",
            "=================================================================\n",
            "Total params: 110,530\n",
            "Trainable params: 109,826\n",
            "Non-trainable params: 704\n",
            "_________________________________________________________________\n"
          ],
          "name": "stdout"
        }
      ]
    },
    {
      "cell_type": "code",
      "metadata": {
        "colab_type": "code",
        "id": "rsNicrTjrruM",
        "colab": {}
      },
      "source": [
        "def convert_sample(sample):\n",
        "    image, label = sample['image'], sample['label']  \n",
        "    image = tf.image.convert_image_dtype(image, tf.float32)\n",
        "    image = tf.image.rgb_to_grayscale(image)\n",
        "    label = tf.one_hot(label, 2, dtype=tf.float32)\n",
        "    return image, label"
      ],
      "execution_count": 0,
      "outputs": []
    },
    {
      "cell_type": "code",
      "metadata": {
        "colab_type": "code",
        "id": "0vJ3YLIFrryA",
        "colab": {}
      },
      "source": [
        "train_pipeline = pcam['train'].map(convert_sample,\n",
        "                                   num_parallel_calls=8).shuffle(1024).repeat().batch(128).prefetch(2)\n",
        "valid_pipeline = pcam['validation'].map(convert_sample,\n",
        "                                        num_parallel_calls=8).repeat().batch(128).prefetch(2)\n",
        "\n",
        "early_stopping_cb = EarlyStopping(monitor='val_loss', patience=5)\n",
        "model_checkpoint_cb = ModelCheckpoint('best_model.h5', monitor='val_loss', mode='min', verbose=2, save_best_only=True)\n",
        "callbacks_list = [early_stopping_cb, model_checkpoint_cb]"
      ],
      "execution_count": 0,
      "outputs": []
    },
    {
      "cell_type": "code",
      "metadata": {
        "colab_type": "code",
        "id": "0jFZD7Hfrr2E",
        "outputId": "7445d8df-bf5d-4e69-d85e-c66fe8642351",
        "colab": {
          "base_uri": "https://localhost:8080/",
          "height": 487
        }
      },
      "source": [
        "hist = model.fit(train_pipeline,\n",
        "                 validation_data=valid_pipeline, callbacks=callbacks_list,\n",
        "                 verbose=2, epochs=20, steps_per_epoch=2048, validation_steps=256)"
      ],
      "execution_count": 21,
      "outputs": [
        {
          "output_type": "stream",
          "text": [
            "Epoch 1/20\n",
            "\n",
            "Epoch 00001: val_loss improved from inf to 0.44718, saving model to best_model.h5\n",
            "2048/2048 - 192s - loss: 0.5089 - accuracy: 0.7684 - val_loss: 0.4472 - val_accuracy: 0.7877\n",
            "Epoch 2/20\n",
            "\n",
            "Epoch 00002: val_loss improved from 0.44718 to 0.44359, saving model to best_model.h5\n",
            "2048/2048 - 191s - loss: 0.4515 - accuracy: 0.7966 - val_loss: 0.4436 - val_accuracy: 0.7988\n",
            "Epoch 3/20\n",
            "\n",
            "Epoch 00003: val_loss did not improve from 0.44359\n",
            "2048/2048 - 192s - loss: 0.4264 - accuracy: 0.8102 - val_loss: 0.4959 - val_accuracy: 0.7918\n",
            "Epoch 4/20\n",
            "\n",
            "Epoch 00004: val_loss did not improve from 0.44359\n",
            "2048/2048 - 191s - loss: 0.4114 - accuracy: 0.8177 - val_loss: 0.4903 - val_accuracy: 0.7946\n",
            "Epoch 5/20\n",
            "\n",
            "Epoch 00005: val_loss did not improve from 0.44359\n",
            "2048/2048 - 195s - loss: 0.3994 - accuracy: 0.8243 - val_loss: 0.5460 - val_accuracy: 0.7848\n",
            "Epoch 6/20\n",
            "\n",
            "Epoch 00006: val_loss did not improve from 0.44359\n",
            "2048/2048 - 192s - loss: 0.3885 - accuracy: 0.8294 - val_loss: 0.5046 - val_accuracy: 0.7868\n",
            "Epoch 7/20\n",
            "\n",
            "Epoch 00007: val_loss did not improve from 0.44359\n",
            "2048/2048 - 193s - loss: 0.3782 - accuracy: 0.8354 - val_loss: 0.5569 - val_accuracy: 0.7798\n"
          ],
          "name": "stdout"
        }
      ]
    },
    {
      "cell_type": "code",
      "metadata": {
        "colab_type": "code",
        "id": "FdDV66Lrrr5-",
        "outputId": "5741895f-f080-4469-c57e-2d64c3620966",
        "colab": {
          "base_uri": "https://localhost:8080/",
          "height": 34
        }
      },
      "source": [
        "best_model = load_model('best_model.h5')\n",
        "test_pipeline = pcam['test'].map(convert_sample, num_parallel_calls=8).batch(128).prefetch(2)\n",
        "print(\"Test set accuracy is {0:.4f}\".format(best_model.evaluate(test_pipeline, steps=128, verbose=0)[1]))"
      ],
      "execution_count": 22,
      "outputs": [
        {
          "output_type": "stream",
          "text": [
            "Test set accuracy is 0.8148\n"
          ],
          "name": "stdout"
        }
      ]
    },
    {
      "cell_type": "code",
      "metadata": {
        "id": "cBsu0dtxNW6W",
        "colab_type": "code",
        "outputId": "a7dc31e8-7835-4538-b30f-ce959eb9757b",
        "colab": {
          "base_uri": "https://localhost:8080/",
          "height": 573
        }
      },
      "source": [
        "plt.figure()\n",
        "plt.plot(hist.history['accuracy'])\n",
        "plt.plot(hist.history['val_accuracy'])\n",
        "plt.title('model accuracy')\n",
        "plt.ylabel('accuracy')\n",
        "plt.xlabel('epoch')\n",
        "plt.legend(['train', 'test'], loc='upper right')\n",
        "plt.show()\n",
        "\n",
        "# summarize history for loss\n",
        "plt.figure()\n",
        "plt.plot(hist.history['loss'])\n",
        "plt.plot(hist.history['val_loss'])\n",
        "plt.title('model loss')\n",
        "plt.ylabel('loss')\n",
        "plt.xlabel('epoch')\n",
        "plt.legend(['train', 'test'], loc='upper right')\n",
        "plt.show()"
      ],
      "execution_count": 23,
      "outputs": [
        {
          "output_type": "display_data",
          "data": {
            "image/png": "[encoded data removed]",
            "text/plain": [
              "<Figure size 432x288 with 1 Axes>"
            ]
          },
          "metadata": {
            "tags": [],
            "needs_background": "light"
          }
        },
        {
          "output_type": "display_data",
          "data": {
            "image/png": "[encoded data removed]",
            "text/plain": [
              "<Figure size 432x288 with 1 Axes>"
            ]
          },
          "metadata": {
            "tags": [],
            "needs_background": "light"
          }
        }
      ]
    },
    {
      "cell_type": "code",
      "metadata": {
        "id": "M-r2FM8erdDC",
        "colab_type": "code",
        "outputId": "0e60dc63-0923-4d0a-b047-0d21ccf4746a",
        "colab": {
          "base_uri": "https://localhost:8080/",
          "height": 87
        }
      },
      "source": [
        "# Code below from https://www.kaggle.com/georsara1/95-auc-score-in-train-sample-with-neural-nets\n",
        "\n",
        "#Import modules\n",
        "import pandas as pd\n",
        "import seaborn as sns\n",
        "from sklearn.model_selection import train_test_split\n",
        "from keras import optimizers\n",
        "from sklearn.metrics import confusion_matrix, accuracy_score, roc_curve, auc\n",
        "%matplotlib inline\n",
        "sns.set_style(\"whitegrid\")\n",
        "np.random.seed(697)"
      ],
      "execution_count": 24,
      "outputs": [
        {
          "output_type": "stream",
          "text": [
            "/usr/local/lib/python3.6/dist-packages/statsmodels/tools/_testing.py:19: FutureWarning: pandas.util.testing is deprecated. Use the functions in the public API at pandas.testing instead.\n",
            "  import pandas.util.testing as tm\n",
            "Using TensorFlow backend.\n"
          ],
          "name": "stderr"
        }
      ]
    },
    {
      "cell_type": "code",
      "metadata": {
        "id": "tIOgdyXrU2EG",
        "colab_type": "code",
        "outputId": "ff6b6c97-c799-4e22-e0ba-c57e5bcf17cc",
        "colab": {
          "base_uri": "https://localhost:8080/",
          "height": 134
        }
      },
      "source": [
        "#Predict on test set\n",
        "predictions_NN_prob = best_model.predict(test_pipeline)\n",
        "print(predictions_NN_prob)\n",
        "predictions_NN_prob = predictions_NN_prob[:,0]\n",
        "\n",
        "predictions_NN_01 = np.where(predictions_NN_prob > 0.5, 0, 1) #Turn probability to 0-1 binary output"
      ],
      "execution_count": 25,
      "outputs": [
        {
          "output_type": "stream",
          "text": [
            "[[0.06233105 0.937669  ]\n",
            " [0.9844924  0.01550754]\n",
            " [0.07287953 0.92712045]\n",
            " ...\n",
            " [0.31418577 0.6858142 ]\n",
            " [0.96795774 0.03204231]\n",
            " [0.9262551  0.07374488]]\n"
          ],
          "name": "stdout"
        }
      ]
    },
    {
      "cell_type": "code",
      "metadata": {
        "id": "v9RGdfoGU9Gc",
        "colab_type": "code",
        "outputId": "10ef5ccf-481d-4976-aa9d-86d375faf9dd",
        "colab": {
          "base_uri": "https://localhost:8080/",
          "height": 312
        }
      },
      "source": [
        "#Print Area Under Curve\n",
        "y_numpy = pcam['test'].as_numpy_iterator()\n",
        "test_y = np.array([i['label'] for i in y_numpy])\n",
        "print(test_y)\n",
        "false_positive_rate, recall, thresholds = roc_curve(test_y, predictions_NN_prob)\n",
        "roc_auc = auc(false_positive_rate, recall)\n",
        "plt.figure()\n",
        "plt.title('Receiver Operating Characteristic (ROC)')\n",
        "plt.plot(false_positive_rate, recall, 'b', label = 'AUC = %0.3f' %roc_auc)\n",
        "plt.legend(loc='lower right')\n",
        "plt.plot([0,1], [0,1], 'r--')\n",
        "plt.xlim([0.0,1.0])\n",
        "plt.ylim([0.0,1.0])\n",
        "plt.ylabel('Recall')\n",
        "plt.xlabel('Fall-out (1-Specificity)')\n",
        "plt.show()"
      ],
      "execution_count": 26,
      "outputs": [
        {
          "output_type": "stream",
          "text": [
            "[0 1 0 ... 1 0 1]\n"
          ],
          "name": "stdout"
        },
        {
          "output_type": "display_data",
          "data": {
            "image/png": "[encoded data removed]",
            "text/plain": [
              "<Figure size 432x288 with 1 Axes>"
            ]
          },
          "metadata": {
            "tags": []
          }
        }
      ]
    },
    {
      "cell_type": "code",
      "metadata": {
        "id": "cTz9gIU3U7lF",
        "colab_type": "code",
        "outputId": "68963a2d-34be-494c-8cee-8cb0f7017156",
        "colab": {
          "base_uri": "https://localhost:8080/",
          "height": 404
        }
      },
      "source": [
        "#Print Confusion Matrix\n",
        "cm = confusion_matrix(test_y, predictions_NN_01)\n",
        "labels = ['Positive', 'Negative']\n",
        "plt.figure(figsize=(8,6))\n",
        "sns.heatmap(cm,xticklabels=labels, yticklabels=labels, annot=True, fmt='d', cmap=\"Blues\", vmin = 0.2);\n",
        "plt.title('Confusion Matrix')\n",
        "plt.ylabel('True Class')\n",
        "plt.xlabel('Predicted Class')\n",
        "plt.show()"
      ],
      "execution_count": 27,
      "outputs": [
        {
          "output_type": "display_data",
          "data": {
            "image/png": "[encoded data removed]",
            "text/plain": [
              "<Figure size 576x432 with 2 Axes>"
            ]
          },
          "metadata": {
            "tags": []
          }
        }
      ]
    }
  ]
}