{
  "nbformat": 4,
  "nbformat_minor": 0,
  "metadata": {
    "accelerator": "GPU",
    "colab": {
      "name": "freeze.ipynb",
      "provenance": [],
      "collapsed_sections": [],
      "machine_shape": "hm"
    },
    "kernelspec": {
      "display_name": "Python 3",
      "language": "python",
      "name": "python3"
    },
    "language_info": {
      "codemirror_mode": {
        "name": "ipython",
        "version": 3
      },
      "file_extension": ".py",
      "mimetype": "text/x-python",
      "name": "python",
      "nbconvert_exporter": "python",
      "pygments_lexer": "ipython3",
      "version": "3.6.8"
    }
  },
  "cells": [
    {
      "cell_type": "markdown",
      "metadata": {
        "id": "ixRazVlTVTcv",
        "colab_type": "text"
      },
      "source": [
        "Densenet121_2"
      ]
    },
    {
      "cell_type": "code",
      "metadata": {
        "id": "QzFBuBsab1If",
        "colab_type": "code",
        "outputId": "ee4bc73d-8c1c-4ddb-ef81-7a96ec987f9b",
        "colab": {
          "base_uri": "https://localhost:8080/",
          "height": 34
        }
      },
      "source": [
        "from google.colab import drive\n",
        "drive.mount('/content/drive')"
      ],
      "execution_count": 7,
      "outputs": [
        {
          "output_type": "stream",
          "text": [
            "Drive already mounted at /content/drive; to attempt to forcibly remount, call drive.mount(\"/content/drive\", force_remount=True).\n"
          ],
          "name": "stdout"
        }
      ]
    },
    {
      "cell_type": "code",
      "metadata": {
        "colab_type": "code",
        "id": "84yAQsv90JIV",
        "colab": {}
      },
      "source": [
        "# Import NumPy to handle array's and Matplotlib for plotting loss curves\n",
        "import numpy as np\n",
        "import matplotlib.pyplot as plt\n",
        "import random\n",
        "# Import TensorFlow and relevant Keras classes to setup the model\n",
        "import tensorflow as tf\n",
        "from tensorflow.keras.layers import Input, Dense, Conv2D, MaxPool2D, Flatten, Dropout, BatchNormalization, Activation\n",
        "from tensorflow.keras.models import Model, Sequential\n",
        "from tensorflow.keras.optimizers import SGD, Adam\n",
        "from tensorflow.keras.utils import to_categorical\n",
        "#from tensorflow.keras.callbacks import ModelCheckpoint\n",
        "\n",
        "from tensorflow.keras.applications.densenet import DenseNet169, DenseNet201, DenseNet121\n",
        "from tensorflow.keras.layers import Input, Flatten, Dense, BatchNormalization, Activation, Dropout, GlobalAveragePooling2D, GlobalMaxPooling2D, Concatenate\n",
        "from tensorflow.keras.models import Model, load_model\n",
        "from tensorflow.keras import losses, optimizers, activations, metrics"
      ],
      "execution_count": 0,
      "outputs": []
    },
    {
      "cell_type": "code",
      "metadata": {
        "colab_type": "code",
        "id": "jU5bibOrj4hX",
        "colab": {}
      },
      "source": [
        "import tensorflow_datasets as tfds\n",
        "#download=False - if you dont want to download data again\n",
        "pcam, pcam_info = tfds.load(\"patch_camelyon\", data_dir='/content/drive/My Drive/Colab Notebooks',download=False, with_info=True) \n",
        "#print(pcam_info)"
      ],
      "execution_count": 0,
      "outputs": []
    },
    {
      "cell_type": "code",
      "metadata": {
        "id": "X-YvC07ja5tO",
        "colab_type": "code",
        "colab": {}
      },
      "source": [
        ""
      ],
      "execution_count": 0,
      "outputs": []
    },
    {
      "cell_type": "code",
      "metadata": {
        "colab_type": "code",
        "id": "TMZ86JdAvbrX",
        "scrolled": false,
        "colab": {
          "base_uri": "https://localhost:8080/",
          "height": 252
        },
        "outputId": "7d26fd83-2a6a-43b0-de8d-6e2d85f49b59"
      },
      "source": [
        "densenet = DenseNet121(\n",
        "    weights= 'imagenet',\n",
        "    include_top=False,\n",
        "    input_shape=(96,96,3)\n",
        ")\n",
        "\n",
        "densenet.trainable = False\n",
        "\n",
        "def build_model():\n",
        "    model = Sequential()\n",
        "    model.add(densenet)\n",
        "    model.add(GlobalAveragePooling2D())\n",
        "    #model.add(Dropout(0.5))\n",
        "    model.add(Dense(2, activation = \"softmax\"))\n",
        "\n",
        "    #model.add(layers.Flatten())\n",
        "    #model.add(layers.Dense(64, activation='relu'))\n",
        "    #model.add(layers.Dense(2, activation = \"softmax\")))\n",
        "    \n",
        "    sgd_opt = SGD(lr=0.001, momentum=0.9, decay=0.1, nesterov=True)\n",
        "    \n",
        "    model.compile(\n",
        "        loss='binary_crossentropy',\n",
        "        optimizer=sgd_opt,#Adam(lr=0.0005,),\n",
        "        metrics=['accuracy']\n",
        "    )\n",
        "    \n",
        "    return model\n",
        "\n",
        "model = build_model()\n",
        "model.summary()"
      ],
      "execution_count": 10,
      "outputs": [
        {
          "output_type": "stream",
          "text": [
            "Model: \"sequential_1\"\n",
            "_________________________________________________________________\n",
            "Layer (type)                 Output Shape              Param #   \n",
            "=================================================================\n",
            "densenet121 (Model)          (None, 3, 3, 1024)        7037504   \n",
            "_________________________________________________________________\n",
            "global_average_pooling2d_1 ( (None, 1024)              0         \n",
            "_________________________________________________________________\n",
            "dense_1 (Dense)              (None, 2)                 2050      \n",
            "=================================================================\n",
            "Total params: 7,039,554\n",
            "Trainable params: 2,050\n",
            "Non-trainable params: 7,037,504\n",
            "_________________________________________________________________\n"
          ],
          "name": "stdout"
        }
      ]
    },
    {
      "cell_type": "code",
      "metadata": {
        "colab_type": "code",
        "id": "rsNicrTjrruM",
        "colab": {}
      },
      "source": [
        "def convert_sample(sample):\n",
        "    image, label = sample['image'], sample['label']  \n",
        "    image = tf.image.convert_image_dtype(image, tf.float32)\n",
        "    #image = tf.image.rgb_to_grayscale(image)\n",
        "    image = tf.image.rot90(image, random.randint(0,3))\n",
        "    image = tf.image.random_flip_left_right(image)\n",
        "    image = tf.image.random_flip_up_down(image)\n",
        "    label = tf.one_hot(label, 2, dtype=tf.float32)\n",
        "    return image, label\n",
        "\n",
        "train_pipeline = pcam['train'].map(convert_sample,\n",
        "                                   num_parallel_calls=8).shuffle(1024).repeat().batch(64).prefetch(2)\n",
        "valid_pipeline = pcam['validation'].map(convert_sample,\n",
        "                                        num_parallel_calls=8).repeat().batch(128).prefetch(2)"
      ],
      "execution_count": 0,
      "outputs": []
    },
    {
      "cell_type": "code",
      "metadata": {
        "id": "dVNuv2roauR4",
        "colab_type": "code",
        "colab": {
          "base_uri": "https://localhost:8080/",
          "height": 1000
        },
        "outputId": "600968da-ff0b-480d-d164-96ea5fcce7bc"
      },
      "source": [
        "hist = model.fit(train_pipeline,\n",
        "                 validation_data=valid_pipeline,\n",
        "                 verbose=2, epochs=30, steps_per_epoch=4096, validation_steps=256)"
      ],
      "execution_count": 12,
      "outputs": [
        {
          "output_type": "stream",
          "text": [
            "Epoch 1/30\n",
            "4096/4096 - 174s - loss: 0.4819 - accuracy: 0.7815 - val_loss: 0.4566 - val_accuracy: 0.7819\n",
            "Epoch 2/30\n",
            "4096/4096 - 237s - loss: 0.4627 - accuracy: 0.7917 - val_loss: 0.4535 - val_accuracy: 0.7818\n",
            "Epoch 3/30\n",
            "4096/4096 - 237s - loss: 0.4584 - accuracy: 0.7940 - val_loss: 0.4515 - val_accuracy: 0.7839\n",
            "Epoch 4/30\n",
            "4096/4096 - 224s - loss: 0.4546 - accuracy: 0.7953 - val_loss: 0.4487 - val_accuracy: 0.7867\n",
            "Epoch 5/30\n",
            "4096/4096 - 228s - loss: 0.4532 - accuracy: 0.7964 - val_loss: 0.4480 - val_accuracy: 0.7852\n",
            "Epoch 6/30\n",
            "4096/4096 - 211s - loss: 0.4520 - accuracy: 0.7967 - val_loss: 0.4485 - val_accuracy: 0.7844\n",
            "Epoch 7/30\n",
            "4096/4096 - 242s - loss: 0.4509 - accuracy: 0.7972 - val_loss: 0.4452 - val_accuracy: 0.7859\n",
            "Epoch 8/30\n",
            "4096/4096 - 222s - loss: 0.4490 - accuracy: 0.7990 - val_loss: 0.4472 - val_accuracy: 0.7833\n",
            "Epoch 9/30\n",
            "4096/4096 - 241s - loss: 0.4492 - accuracy: 0.7985 - val_loss: 0.4465 - val_accuracy: 0.7864\n",
            "Epoch 10/30\n",
            "4096/4096 - 207s - loss: 0.4470 - accuracy: 0.7995 - val_loss: 0.4467 - val_accuracy: 0.7849\n",
            "Epoch 11/30\n",
            "4096/4096 - 227s - loss: 0.4470 - accuracy: 0.7994 - val_loss: 0.4458 - val_accuracy: 0.7849\n",
            "Epoch 12/30\n",
            "4096/4096 - 233s - loss: 0.4470 - accuracy: 0.7993 - val_loss: 0.4467 - val_accuracy: 0.7859\n",
            "Epoch 13/30\n",
            "4096/4096 - 246s - loss: 0.4457 - accuracy: 0.8000 - val_loss: 0.4455 - val_accuracy: 0.7862\n",
            "Epoch 14/30\n",
            "4096/4096 - 235s - loss: 0.4452 - accuracy: 0.8007 - val_loss: 0.4441 - val_accuracy: 0.7868\n",
            "Epoch 15/30\n",
            "4096/4096 - 202s - loss: 0.4448 - accuracy: 0.8003 - val_loss: 0.4450 - val_accuracy: 0.7853\n",
            "Epoch 16/30\n",
            "4096/4096 - 245s - loss: 0.4451 - accuracy: 0.8001 - val_loss: 0.4440 - val_accuracy: 0.7862\n",
            "Epoch 17/30\n",
            "4096/4096 - 222s - loss: 0.4444 - accuracy: 0.8007 - val_loss: 0.4431 - val_accuracy: 0.7863\n",
            "Epoch 18/30\n",
            "4096/4096 - 239s - loss: 0.4441 - accuracy: 0.8003 - val_loss: 0.4439 - val_accuracy: 0.7862\n",
            "Epoch 19/30\n",
            "4096/4096 - 208s - loss: 0.4437 - accuracy: 0.8012 - val_loss: 0.4453 - val_accuracy: 0.7861\n",
            "Epoch 20/30\n",
            "4096/4096 - 233s - loss: 0.4434 - accuracy: 0.8008 - val_loss: 0.4432 - val_accuracy: 0.7880\n",
            "Epoch 21/30\n",
            "4096/4096 - 231s - loss: 0.4431 - accuracy: 0.8016 - val_loss: 0.4430 - val_accuracy: 0.7875\n",
            "Epoch 22/30\n",
            "4096/4096 - 213s - loss: 0.4430 - accuracy: 0.8016 - val_loss: 0.4427 - val_accuracy: 0.7876\n",
            "Epoch 23/30\n",
            "4096/4096 - 231s - loss: 0.4426 - accuracy: 0.8013 - val_loss: 0.4430 - val_accuracy: 0.7888\n",
            "Epoch 24/30\n",
            "4096/4096 - 215s - loss: 0.4424 - accuracy: 0.8012 - val_loss: 0.4440 - val_accuracy: 0.7855\n",
            "Epoch 25/30\n",
            "4096/4096 - 231s - loss: 0.4423 - accuracy: 0.8018 - val_loss: 0.4429 - val_accuracy: 0.7869\n",
            "Epoch 26/30\n",
            "4096/4096 - 212s - loss: 0.4417 - accuracy: 0.8020 - val_loss: 0.4443 - val_accuracy: 0.7852\n",
            "Epoch 27/30\n",
            "4096/4096 - 223s - loss: 0.4412 - accuracy: 0.8022 - val_loss: 0.4431 - val_accuracy: 0.7870\n",
            "Epoch 28/30\n",
            "4096/4096 - 215s - loss: 0.4413 - accuracy: 0.8026 - val_loss: 0.4418 - val_accuracy: 0.7882\n",
            "Epoch 29/30\n",
            "4096/4096 - 246s - loss: 0.4412 - accuracy: 0.8024 - val_loss: 0.4424 - val_accuracy: 0.7878\n",
            "Epoch 30/30\n",
            "4096/4096 - 222s - loss: 0.4409 - accuracy: 0.8026 - val_loss: 0.4423 - val_accuracy: 0.7866\n"
          ],
          "name": "stdout"
        }
      ]
    },
    {
      "cell_type": "code",
      "metadata": {
        "colab_type": "code",
        "id": "FdDV66Lrrr5-",
        "colab": {
          "base_uri": "https://localhost:8080/",
          "height": 34
        },
        "outputId": "0047d44f-06e8-47d9-a772-0a3d6a38e691"
      },
      "source": [
        "test_pipeline = pcam['test'].map(convert_sample, num_parallel_calls=8).batch(128).prefetch(2)\n",
        "print(\"Test set accuracy is {0:.4f}\".format(model.evaluate(test_pipeline, steps=256, verbose=0)[1]))"
      ],
      "execution_count": 13,
      "outputs": [
        {
          "output_type": "stream",
          "text": [
            "Test set accuracy is 0.7889\n"
          ],
          "name": "stdout"
        }
      ]
    },
    {
      "cell_type": "code",
      "metadata": {
        "colab_type": "code",
        "id": "mlu476F7rr-H",
        "colab": {}
      },
      "source": [
        "#model.save(\"./saved_models/patchcamelyon.hf5\")"
      ],
      "execution_count": 0,
      "outputs": []
    },
    {
      "cell_type": "code",
      "metadata": {
        "colab_type": "code",
        "id": "oVOvzlQFWAda",
        "colab": {
          "base_uri": "https://localhost:8080/",
          "height": 573
        },
        "outputId": "b4e7cd8c-4dfb-44cf-ed2b-681a543b2137"
      },
      "source": [
        "hist2=hist\n",
        "plt.figure()\n",
        "plt.plot(hist2.history['accuracy'])\n",
        "plt.plot(hist2.history['val_accuracy'])\n",
        "plt.title('model accuracy')\n",
        "plt.ylabel('accuracy')\n",
        "plt.xlabel('epoch')\n",
        "plt.legend(['train', 'valid'], loc='upper right')\n",
        "plt.show()\n",
        "\n",
        "# summarize history for loss\n",
        "plt.figure()\n",
        "plt.plot(hist2.history['loss'])\n",
        "plt.plot(hist2.history['val_loss'])\n",
        "plt.title('model loss')\n",
        "plt.ylabel('loss')\n",
        "plt.xlabel('epoch')\n",
        "plt.legend(['train', 'valid'], loc='upper right')\n",
        "plt.show()"
      ],
      "execution_count": 15,
      "outputs": [
        {
          "output_type": "display_data",
          "data": {
            "image/png": "[encoded data removed]",
            "text/plain": [
              "<Figure size 432x288 with 1 Axes>"
            ]
          },
          "metadata": {
            "tags": [],
            "needs_background": "light"
          }
        },
        {
          "output_type": "display_data",
          "data": {
            "image/png": "[encoded data removed]",
            "text/plain": [
              "<Figure size 432x288 with 1 Axes>"
            ]
          },
          "metadata": {
            "tags": [],
            "needs_background": "light"
          }
        }
      ]
    },
    {
      "cell_type": "code",
      "metadata": {
        "colab_type": "code",
        "id": "dpi7YXbR58fu",
        "colab": {
          "base_uri": "https://localhost:8080/",
          "height": 87
        },
        "outputId": "abda6ed9-b036-4657-b083-f889c7cefdf0"
      },
      "source": [
        "#Import modules\n",
        "import numpy as np\n",
        "import pandas as pd\n",
        "import matplotlib.pyplot as plt\n",
        "import seaborn as sns\n",
        "from sklearn.model_selection import train_test_split\n",
        "from keras.models import Sequential\n",
        "from keras.layers import Activation, Dense, Dropout\n",
        "from keras import optimizers\n",
        "from sklearn.metrics import confusion_matrix,accuracy_score, roc_curve, auc\n",
        "%matplotlib inline\n",
        "sns.set_style(\"whitegrid\")\n",
        "np.random.seed(697)"
      ],
      "execution_count": 16,
      "outputs": [
        {
          "output_type": "stream",
          "text": [
            "/usr/local/lib/python3.6/dist-packages/statsmodels/tools/_testing.py:19: FutureWarning: pandas.util.testing is deprecated. Use the functions in the public API at pandas.testing instead.\n",
            "  import pandas.util.testing as tm\n",
            "Using TensorFlow backend.\n"
          ],
          "name": "stderr"
        }
      ]
    },
    {
      "cell_type": "code",
      "metadata": {
        "colab_type": "code",
        "id": "9g8tQVgMJNXh",
        "colab": {
          "base_uri": "https://localhost:8080/",
          "height": 34
        },
        "outputId": "30676e43-75b0-4aaf-c056-28d7861385fa"
      },
      "source": [
        "# Code below from https://www.kaggle.com/georsara1/95-auc-score-in-train-sample-with-neural-nets\n",
        "\n",
        "#Predict on test set\n",
        "predictions_NN_prob = model.predict(test_pipeline)\n",
        "predictions_NN_prob = predictions_NN_prob[:,0]\n",
        "\n",
        "predictions_NN_01 = np.where(predictions_NN_prob > 0.5, 0, 1) #Turn probability to 0-1 binary output\n",
        "\n",
        "y_numpy = pcam['test'].as_numpy_iterator()\n",
        "test_y = np.array([i['label'] for i in y_numpy])\n",
        "\n",
        "\n",
        "acc_NN = accuracy_score(test_y, predictions_NN_01)\n",
        "print('Overall accuracy of Neural Network model:', acc_NN)"
      ],
      "execution_count": 17,
      "outputs": [
        {
          "output_type": "stream",
          "text": [
            "Overall accuracy of Neural Network model: 0.787933349609375\n"
          ],
          "name": "stdout"
        }
      ]
    },
    {
      "cell_type": "code",
      "metadata": {
        "colab_type": "code",
        "id": "7K920n57JRZ2",
        "colab": {
          "base_uri": "https://localhost:8080/",
          "height": 295
        },
        "outputId": "db7c2f61-7712-49b3-ff6f-7aa330dea53d"
      },
      "source": [
        "\n",
        "#Print Area Under Curve\n",
        "false_positive_rate, recall, thresholds = roc_curve(test_y, predictions_NN_01)\n",
        "roc_auc = auc(false_positive_rate, recall)\n",
        "plt.figure()\n",
        "plt.title('Receiver Operating Characteristic (ROC)')\n",
        "plt.plot(false_positive_rate, recall, 'b', label = 'AUC = %0.3f' %roc_auc)\n",
        "plt.legend(loc='lower right')\n",
        "plt.plot([0,1], [0,1], 'r--')\n",
        "plt.xlim([0.0,1.0])\n",
        "plt.ylim([0.0,1.0])\n",
        "plt.ylabel('Recall')\n",
        "plt.xlabel('Fall-out (1-Specificity)')\n",
        "plt.show()"
      ],
      "execution_count": 18,
      "outputs": [
        {
          "output_type": "display_data",
          "data": {
            "image/png": "[encoded data removed]",
            "text/plain": [
              "<Figure size 432x288 with 1 Axes>"
            ]
          },
          "metadata": {
            "tags": []
          }
        }
      ]
    },
    {
      "cell_type": "code",
      "metadata": {
        "colab_type": "code",
        "id": "hP60G3TaJVHl",
        "colab": {
          "base_uri": "https://localhost:8080/",
          "height": 404
        },
        "outputId": "ca7756b4-b088-4091-bf6d-973b2c562402"
      },
      "source": [
        "#Print Confusion Matrix\n",
        "cm = confusion_matrix(test_y, predictions_NN_01)\n",
        "labels = ['Negative', 'Positive']\n",
        "plt.figure(figsize=(8,6))\n",
        "sns.heatmap(cm,xticklabels=labels, yticklabels=labels, annot=True, fmt='d', cmap=\"Blues\", vmin = 0.2);\n",
        "plt.title('Confusion Matrix')\n",
        "plt.ylabel('True Class')\n",
        "plt.xlabel('Predicted Class')\n",
        "plt.show()"
      ],
      "execution_count": 19,
      "outputs": [
        {
          "output_type": "display_data",
          "data": {
            "image/png": "[encoded data removed]",
            "text/plain": [
              "<Figure size 576x432 with 2 Axes>"
            ]
          },
          "metadata": {
            "tags": []
          }
        }
      ]
    }
  ]
}