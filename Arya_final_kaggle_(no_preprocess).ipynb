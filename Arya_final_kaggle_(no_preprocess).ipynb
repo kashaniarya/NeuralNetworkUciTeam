{
  "nbformat": 4,
  "nbformat_minor": 0,
  "metadata": {
    "colab": {
      "name": "Arya_final_kaggle (no preprocess).ipynb",
      "provenance": [],
      "collapsed_sections": [],
      "machine_shape": "hm"
    },
    "kernelspec": {
      "display_name": "Python 3",
      "language": "python",
      "name": "python3"
    },
    "language_info": {
      "codemirror_mode": {
        "name": "ipython",
        "version": 3
      },
      "file_extension": ".py",
      "mimetype": "text/x-python",
      "name": "python",
      "nbconvert_exporter": "python",
      "pygments_lexer": "ipython3",
      "version": "3.7.6"
    },
    "accelerator": "GPU"
  },
  "cells": [
    {
      "cell_type": "markdown",
      "metadata": {
        "id": "73tLeZWDCPJ7",
        "colab_type": "text"
      },
      "source": [
        "\n",
        "#  the model in this file comes from this website\n",
        "\n",
        "#  https://geertlitjens.nl/post/getting-started-with-camelyon/\n",
        "\n",
        "\n",
        "\n",
        "#  without editing the model, it is 80% accurate/confident"
      ]
    },
    {
      "cell_type": "code",
      "metadata": {
        "id": "ITYMxhjjRe3Y",
        "colab_type": "code",
        "outputId": "56ab34a8-3567-4e7a-ee68-d1c131cb6627",
        "colab": {
          "base_uri": "https://localhost:8080/",
          "height": 122
        }
      },
      "source": [
        "from google.colab import drive\n",
        "drive.mount('/content/drive')"
      ],
      "execution_count": 1,
      "outputs": [
        {
          "output_type": "stream",
          "text": [
            "Go to this URL in a browser: https://accounts.google.com/o/oauth2/auth?client_id=947318989803-6bn6qk8qdgf4n4g3pfee6491hc0brc4i.apps.googleusercontent.com&redirect_uri=urn%3aietf%3awg%3aoauth%3a2.0%3aoob&response_type=code&scope=email%20https%3a%2f%2fwww.googleapis.com%2fauth%2fdocs.test%20https%3a%2f%2fwww.googleapis.com%2fauth%2fdrive%20https%3a%2f%2fwww.googleapis.com%2fauth%2fdrive.photos.readonly%20https%3a%2f%2fwww.googleapis.com%2fauth%2fpeopleapi.readonly\n",
            "\n",
            "Enter your authorization code:\n",
            "··········\n",
            "Mounted at /content/drive\n"
          ],
          "name": "stdout"
        }
      ]
    },
    {
      "cell_type": "code",
      "metadata": {
        "colab_type": "code",
        "id": "jU5bibOrj4hX",
        "colab": {}
      },
      "source": [
        "import tensorflow as tf\n",
        "import tensorflow_datasets as tfds\n",
        "\n",
        "#pcam, pcam_info = tfds.load('patch_camelyon', shuffle_files=True, with_info=True)\n",
        "pcam, pcam_info = tfds.load(\"patch_camelyon\", data_dir='/content/drive/My Drive/Colab Notebooks',download=False, with_info=True) "
      ],
      "execution_count": 0,
      "outputs": []
    },
    {
      "cell_type": "code",
      "metadata": {
        "id": "1P7wkcQ39pfm",
        "colab_type": "code",
        "colab": {}
      },
      "source": [
        "#print(pcam)"
      ],
      "execution_count": 0,
      "outputs": []
    },
    {
      "cell_type": "code",
      "metadata": {
        "id": "y_VAX1Gn9p1q",
        "colab_type": "code",
        "colab": {}
      },
      "source": [
        "#model = tf.keras.models.load_model('./patchcamelyon.hf5')"
      ],
      "execution_count": 0,
      "outputs": []
    },
    {
      "cell_type": "code",
      "metadata": {
        "id": "y4My_1nr9p6n",
        "colab_type": "code",
        "colab": {}
      },
      "source": [
        ""
      ],
      "execution_count": 0,
      "outputs": []
    },
    {
      "cell_type": "code",
      "metadata": {
        "id": "DQSL4ZKJ9p_c",
        "colab_type": "code",
        "colab": {}
      },
      "source": [
        ""
      ],
      "execution_count": 0,
      "outputs": []
    },
    {
      "cell_type": "code",
      "metadata": {
        "id": "uvUf30um9qDp",
        "colab_type": "code",
        "colab": {}
      },
      "source": [
        ""
      ],
      "execution_count": 0,
      "outputs": []
    },
    {
      "cell_type": "code",
      "metadata": {
        "id": "84yAQsv90JIV",
        "colab_type": "code",
        "colab": {
          "base_uri": "https://localhost:8080/",
          "height": 51
        },
        "outputId": "8d1dc565-3374-4fa8-9c46-d62392683d67"
      },
      "source": [
        "# Import NumPy to handle array's and Matplotlib for plotting loss curves\n",
        "import numpy as np\n",
        "import matplotlib.pyplot as plt\n",
        "import pandas as pd\n",
        "\n",
        "# Import TensorFlow and relevant Keras classes to setup the model\n",
        "#import tensorflow as tf\n",
        "from tensorflow.keras.layers import Input, Dense, Conv2D, MaxPool2D, Flatten, Dropout, BatchNormalization, Activation\n",
        "from tensorflow.keras.models import Model, Sequential\n",
        "from tensorflow.keras.optimizers import SGD, Adam\n",
        "from tensorflow.keras.utils import to_categorical\n",
        "#from tensorflow.keras.callbacks import ModelCheckpoint\n",
        "\n",
        "import seaborn as sns\n",
        "from sklearn.model_selection import train_test_split\n",
        "from sklearn.metrics import confusion_matrix,accuracy_score, roc_curve, auc\n",
        "%matplotlib inline\n",
        "sns.set_style(\"whitegrid\")\n",
        "np.random.seed(697)"
      ],
      "execution_count": 5,
      "outputs": [
        {
          "output_type": "stream",
          "text": [
            "/usr/local/lib/python3.6/dist-packages/statsmodels/tools/_testing.py:19: FutureWarning: pandas.util.testing is deprecated. Use the functions in the public API at pandas.testing instead.\n",
            "  import pandas.util.testing as tm\n"
          ],
          "name": "stderr"
        }
      ]
    },
    {
      "cell_type": "code",
      "metadata": {
        "id": "Or9PcqWhC1t9",
        "colab_type": "code",
        "colab": {}
      },
      "source": [
        "def convert_sample(sample):\n",
        "    image, label = sample['image'], sample['label']  \n",
        "    image = tf.image.convert_image_dtype(image, tf.float32)\n",
        "    label = tf.one_hot(label, 2, dtype=tf.float32)\n",
        "    return image, label"
      ],
      "execution_count": 0,
      "outputs": []
    },
    {
      "cell_type": "code",
      "metadata": {
        "id": "4o2i2JzdrrqX",
        "colab_type": "code",
        "colab": {}
      },
      "source": [
        "#First setup the input to the network which has the dimensions of the patches contained within PatchCAMELYON\n",
        "input_img = Input(shape=(96,96,3))\n",
        "\n",
        "# Now we define the layers of the convolutional network: three blocks of two convolutional layers and a max-pool layer.\n",
        "x = Conv2D(16, (3, 3), padding='valid', activation='relu')(input_img)\n",
        "x = BatchNormalization()(x)\n",
        "x = Conv2D(16, (3, 3), padding='valid', activation='relu')(x)\n",
        "x = BatchNormalization()(x)\n",
        "x = MaxPool2D(pool_size=(2,2), strides=(2,2))(x)\n",
        "x = Dropout(rate=0.3)(x)\n",
        "\n",
        "x = Conv2D(32, (3, 3), padding='valid', activation='relu')(x)\n",
        "x = BatchNormalization()(x)\n",
        "x = Conv2D(32, (3, 3), padding='valid', activation='relu')(x)\n",
        "x = BatchNormalization()(x)\n",
        "x = MaxPool2D(pool_size=(2,2), strides=(2,2))(x)\n",
        "x = Dropout(rate=0.3)(x)\n",
        "\n",
        "x = Conv2D(64, (3, 3), padding='valid', activation='relu')(x)\n",
        "x = BatchNormalization()(x)\n",
        "x = Conv2D(64, (3, 3), padding='valid', activation='relu')(x)\n",
        "x = BatchNormalization()(x)\n",
        "x = MaxPool2D(pool_size=(2,2), strides=(2,2))(x)\n",
        "x = Dropout(rate=0.3)(x)\n",
        "\n",
        "# Now we flatten the output from a 4D to a 2D tensor to be able to use fully-connected (dense) layers for the final\n",
        "# classification part. Here we also use a bit of dropout for regularization. The last layer uses a softmax to obtain class\n",
        "# likelihoods (i.e. metastasis vs. non-metastasis)\n",
        "x = Flatten()(x)\n",
        "x = Dense(256, activation='relu')(x)\n",
        "x = BatchNormalization()(x)\n",
        "x = Dropout(rate=0.5)(x)\n",
        "x = Dense(128, activation='relu')(x)\n",
        "x = BatchNormalization()(x)\n",
        "x = Dropout(rate=0.5)(x)\n",
        "predictions = Dense(2, activation='softmax')(x)\n",
        "\n",
        "# Now we define the inputs/outputs of the model and setup the optimizer. In this case we use regular stochastic gradient\n",
        "# descent with Nesterov momentum. The loss we use is cross-entropy and we would like to output accuracy as an additional metric.\n",
        "model2 = Model(inputs=input_img, outputs=predictions)\n",
        "sgd_opt = SGD(lr=0.007, momentum=0.1, decay=0.0, nesterov=True)\n",
        "model2.compile(optimizer=sgd_opt, loss=tf.keras.losses.binary_crossentropy, metrics=['accuracy'])\n",
        "#model.summary()"
      ],
      "execution_count": 0,
      "outputs": []
    },
    {
      "cell_type": "code",
      "metadata": {
        "id": "rsNicrTjrruM",
        "colab_type": "code",
        "colab": {}
      },
      "source": [
        ""
      ],
      "execution_count": 0,
      "outputs": []
    },
    {
      "cell_type": "code",
      "metadata": {
        "id": "0vJ3YLIFrryA",
        "colab_type": "code",
        "colab": {}
      },
      "source": [
        "train_pipeline = pcam['train'].map(convert_sample,\n",
        "                                   num_parallel_calls=8).shuffle(1024).repeat().batch(64).prefetch(2)\n",
        "valid_pipeline = pcam['validation'].map(convert_sample,\n",
        "                                        num_parallel_calls=8).repeat().batch(128).prefetch(2)"
      ],
      "execution_count": 0,
      "outputs": []
    },
    {
      "cell_type": "code",
      "metadata": {
        "id": "0jFZD7Hfrr2E",
        "colab_type": "code",
        "colab": {
          "base_uri": "https://localhost:8080/",
          "height": 1000
        },
        "outputId": "a5e4d2f4-74c8-4e0a-cf66-d9abaf15b150"
      },
      "source": [
        "hist2 = model2.fit(train_pipeline,\n",
        "                 validation_data=valid_pipeline,\n",
        "                 verbose=2, epochs=50, steps_per_epoch=4096, validation_steps=256)"
      ],
      "execution_count": 9,
      "outputs": [
        {
          "output_type": "stream",
          "text": [
            "Epoch 1/50\n",
            "4096/4096 - 267s - loss: 0.4471 - accuracy: 0.8030 - val_loss: 0.6408 - val_accuracy: 0.6955\n",
            "Epoch 2/50\n",
            "4096/4096 - 264s - loss: 0.3823 - accuracy: 0.8361 - val_loss: 0.6345 - val_accuracy: 0.7247\n",
            "Epoch 3/50\n",
            "4096/4096 - 258s - loss: 0.3458 - accuracy: 0.8537 - val_loss: 0.7921 - val_accuracy: 0.6955\n",
            "Epoch 4/50\n",
            "4096/4096 - 263s - loss: 0.3214 - accuracy: 0.8649 - val_loss: 0.5287 - val_accuracy: 0.7880\n",
            "Epoch 5/50\n",
            "4096/4096 - 261s - loss: 0.3039 - accuracy: 0.8732 - val_loss: 0.5220 - val_accuracy: 0.7776\n",
            "Epoch 6/50\n",
            "4096/4096 - 260s - loss: 0.2886 - accuracy: 0.8801 - val_loss: 1.3197 - val_accuracy: 0.6588\n",
            "Epoch 7/50\n",
            "4096/4096 - 260s - loss: 0.2786 - accuracy: 0.8856 - val_loss: 0.9192 - val_accuracy: 0.7368\n",
            "Epoch 8/50\n",
            "4096/4096 - 263s - loss: 0.2697 - accuracy: 0.8900 - val_loss: 0.8968 - val_accuracy: 0.7241\n",
            "Epoch 9/50\n",
            "4096/4096 - 263s - loss: 0.2616 - accuracy: 0.8936 - val_loss: 0.9282 - val_accuracy: 0.7329\n",
            "Epoch 10/50\n",
            "4096/4096 - 261s - loss: 0.2532 - accuracy: 0.8979 - val_loss: 0.8775 - val_accuracy: 0.7209\n",
            "Epoch 11/50\n",
            "4096/4096 - 262s - loss: 0.2490 - accuracy: 0.8998 - val_loss: 0.9642 - val_accuracy: 0.7338\n",
            "Epoch 12/50\n",
            "4096/4096 - 270s - loss: 0.2434 - accuracy: 0.9018 - val_loss: 0.4672 - val_accuracy: 0.8156\n",
            "Epoch 13/50\n",
            "4096/4096 - 268s - loss: 0.2378 - accuracy: 0.9048 - val_loss: 0.5169 - val_accuracy: 0.8097\n",
            "Epoch 14/50\n",
            "4096/4096 - 266s - loss: 0.2349 - accuracy: 0.9070 - val_loss: 0.8417 - val_accuracy: 0.7442\n",
            "Epoch 15/50\n",
            "4096/4096 - 265s - loss: 0.2300 - accuracy: 0.9092 - val_loss: 0.8309 - val_accuracy: 0.7454\n",
            "Epoch 16/50\n",
            "4096/4096 - 266s - loss: 0.2261 - accuracy: 0.9104 - val_loss: 0.7044 - val_accuracy: 0.7691\n",
            "Epoch 17/50\n",
            "4096/4096 - 271s - loss: 0.2225 - accuracy: 0.9122 - val_loss: 0.7886 - val_accuracy: 0.7795\n",
            "Epoch 18/50\n",
            "4096/4096 - 271s - loss: 0.2205 - accuracy: 0.9132 - val_loss: 0.4189 - val_accuracy: 0.8386\n",
            "Epoch 19/50\n",
            "4096/4096 - 266s - loss: 0.2161 - accuracy: 0.9151 - val_loss: 0.6292 - val_accuracy: 0.7976\n",
            "Epoch 20/50\n",
            "4096/4096 - 268s - loss: 0.2134 - accuracy: 0.9159 - val_loss: 0.3524 - val_accuracy: 0.8582\n",
            "Epoch 21/50\n",
            "4096/4096 - 264s - loss: 0.2112 - accuracy: 0.9175 - val_loss: 0.4042 - val_accuracy: 0.8483\n",
            "Epoch 22/50\n",
            "4096/4096 - 266s - loss: 0.2083 - accuracy: 0.9185 - val_loss: 0.5024 - val_accuracy: 0.8198\n",
            "Epoch 23/50\n",
            "4096/4096 - 268s - loss: 0.2069 - accuracy: 0.9193 - val_loss: 0.4089 - val_accuracy: 0.8492\n",
            "Epoch 24/50\n",
            "4096/4096 - 270s - loss: 0.2037 - accuracy: 0.9207 - val_loss: 0.3863 - val_accuracy: 0.8523\n",
            "Epoch 25/50\n",
            "4096/4096 - 268s - loss: 0.2008 - accuracy: 0.9220 - val_loss: 0.5232 - val_accuracy: 0.8191\n",
            "Epoch 26/50\n",
            "4096/4096 - 266s - loss: 0.1984 - accuracy: 0.9233 - val_loss: 0.3639 - val_accuracy: 0.8600\n",
            "Epoch 27/50\n",
            "4096/4096 - 265s - loss: 0.1962 - accuracy: 0.9244 - val_loss: 0.3957 - val_accuracy: 0.8575\n",
            "Epoch 28/50\n",
            "4096/4096 - 267s - loss: 0.1944 - accuracy: 0.9242 - val_loss: 0.6897 - val_accuracy: 0.7875\n",
            "Epoch 29/50\n",
            "4096/4096 - 265s - loss: 0.1916 - accuracy: 0.9257 - val_loss: 0.3704 - val_accuracy: 0.8611\n",
            "Epoch 30/50\n",
            "4096/4096 - 269s - loss: 0.1900 - accuracy: 0.9267 - val_loss: 0.4888 - val_accuracy: 0.8273\n",
            "Epoch 31/50\n",
            "4096/4096 - 267s - loss: 0.1879 - accuracy: 0.9275 - val_loss: 0.3613 - val_accuracy: 0.8607\n",
            "Epoch 32/50\n",
            "4096/4096 - 274s - loss: 0.1866 - accuracy: 0.9281 - val_loss: 0.4334 - val_accuracy: 0.8505\n",
            "Epoch 33/50\n",
            "4096/4096 - 269s - loss: 0.1851 - accuracy: 0.9284 - val_loss: 0.3256 - val_accuracy: 0.8767\n",
            "Epoch 34/50\n",
            "4096/4096 - 270s - loss: 0.1833 - accuracy: 0.9297 - val_loss: 0.4499 - val_accuracy: 0.8408\n",
            "Epoch 35/50\n",
            "4096/4096 - 276s - loss: 0.1806 - accuracy: 0.9308 - val_loss: 0.4034 - val_accuracy: 0.8571\n",
            "Epoch 36/50\n",
            "4096/4096 - 266s - loss: 0.1800 - accuracy: 0.9311 - val_loss: 0.3359 - val_accuracy: 0.8735\n",
            "Epoch 37/50\n",
            "4096/4096 - 270s - loss: 0.1785 - accuracy: 0.9315 - val_loss: 0.4322 - val_accuracy: 0.8518\n",
            "Epoch 38/50\n",
            "4096/4096 - 271s - loss: 0.1772 - accuracy: 0.9324 - val_loss: 0.4009 - val_accuracy: 0.8514\n",
            "Epoch 39/50\n",
            "4096/4096 - 266s - loss: 0.1758 - accuracy: 0.9330 - val_loss: 0.4434 - val_accuracy: 0.8590\n",
            "Epoch 40/50\n",
            "4096/4096 - 269s - loss: 0.1746 - accuracy: 0.9329 - val_loss: 0.4833 - val_accuracy: 0.8527\n",
            "Epoch 41/50\n",
            "4096/4096 - 266s - loss: 0.1741 - accuracy: 0.9344 - val_loss: 0.3262 - val_accuracy: 0.8717\n",
            "Epoch 42/50\n",
            "4096/4096 - 272s - loss: 0.1724 - accuracy: 0.9339 - val_loss: 0.5144 - val_accuracy: 0.8371\n",
            "Epoch 43/50\n",
            "4096/4096 - 265s - loss: 0.1720 - accuracy: 0.9346 - val_loss: 0.4669 - val_accuracy: 0.8521\n",
            "Epoch 44/50\n",
            "4096/4096 - 265s - loss: 0.1698 - accuracy: 0.9354 - val_loss: 0.5358 - val_accuracy: 0.8370\n",
            "Epoch 45/50\n",
            "4096/4096 - 267s - loss: 0.1692 - accuracy: 0.9360 - val_loss: 0.4842 - val_accuracy: 0.8468\n",
            "Epoch 46/50\n",
            "4096/4096 - 272s - loss: 0.1681 - accuracy: 0.9363 - val_loss: 0.4059 - val_accuracy: 0.8553\n",
            "Epoch 47/50\n",
            "4096/4096 - 268s - loss: 0.1669 - accuracy: 0.9371 - val_loss: 0.3752 - val_accuracy: 0.8683\n",
            "Epoch 48/50\n",
            "4096/4096 - 269s - loss: 0.1653 - accuracy: 0.9373 - val_loss: 0.3938 - val_accuracy: 0.8592\n",
            "Epoch 49/50\n",
            "4096/4096 - 266s - loss: 0.1657 - accuracy: 0.9377 - val_loss: 0.3551 - val_accuracy: 0.8728\n",
            "Epoch 50/50\n",
            "4096/4096 - 268s - loss: 0.1634 - accuracy: 0.9385 - val_loss: 0.5615 - val_accuracy: 0.8217\n"
          ],
          "name": "stdout"
        }
      ]
    },
    {
      "cell_type": "code",
      "metadata": {
        "id": "FdDV66Lrrr5-",
        "colab_type": "code",
        "colab": {
          "base_uri": "https://localhost:8080/",
          "height": 34
        },
        "outputId": "1f8c367e-3986-4740-a84d-fecf7f3cc61b"
      },
      "source": [
        "test_pipeline = pcam['test'].map(convert_sample, num_parallel_calls=8).batch(128).prefetch(2)\n",
        "print(\"Test set accuracy is {0:.4f}\".format(model2.evaluate(test_pipeline, steps=256, verbose=0)[1]))"
      ],
      "execution_count": 10,
      "outputs": [
        {
          "output_type": "stream",
          "text": [
            "Test set accuracy is 0.7538\n"
          ],
          "name": "stdout"
        }
      ]
    },
    {
      "cell_type": "code",
      "metadata": {
        "id": "mlu476F7rr-H",
        "colab_type": "code",
        "colab": {}
      },
      "source": [
        "#model2.save(\"pcam2\")"
      ],
      "execution_count": 0,
      "outputs": []
    },
    {
      "cell_type": "code",
      "metadata": {
        "id": "A3brUq4mrsCS",
        "colab_type": "code",
        "colab": {}
      },
      "source": [
        "#model3 = tf.keras.models.load_model('pcam2')"
      ],
      "execution_count": 0,
      "outputs": []
    },
    {
      "cell_type": "code",
      "metadata": {
        "id": "PWAvKA0c91Xo",
        "colab_type": "code",
        "colab": {}
      },
      "source": [
        "#e3 = model3.evaluate(test_pipeline, steps=128, verbose=0)"
      ],
      "execution_count": 0,
      "outputs": []
    },
    {
      "cell_type": "code",
      "metadata": {
        "id": "aKRTZ1Od93Bu",
        "colab_type": "code",
        "colab": {}
      },
      "source": [
        "#print(e3)"
      ],
      "execution_count": 0,
      "outputs": []
    },
    {
      "cell_type": "code",
      "metadata": {
        "id": "gNqcBs-293KH",
        "colab_type": "code",
        "colab": {}
      },
      "source": [
        "#print(test_pipeline)"
      ],
      "execution_count": 0,
      "outputs": []
    },
    {
      "cell_type": "code",
      "metadata": {
        "id": "-4P7taX2YuaU",
        "colab_type": "code",
        "colab": {}
      },
      "source": [
        ""
      ],
      "execution_count": 0,
      "outputs": []
    },
    {
      "cell_type": "code",
      "metadata": {
        "id": "8B8O_x9TVItt",
        "colab_type": "code",
        "colab": {
          "base_uri": "https://localhost:8080/",
          "height": 295
        },
        "outputId": "b1b28894-08a6-4ed4-fddb-285113ba7a42"
      },
      "source": [
        "# summarize history for loss\n",
        "plt.figure()\n",
        "plt.plot(hist2.history['accuracy'])\n",
        "plt.plot(hist2.history['val_accuracy'])\n",
        "plt.title('model accuracy')\n",
        "plt.ylabel('accuracy')\n",
        "plt.xlabel('epoch')\n",
        "plt.legend(['train', 'valid'], loc='upper right')\n",
        "plt.show()"
      ],
      "execution_count": 16,
      "outputs": [
        {
          "output_type": "display_data",
          "data": {
            "image/png": "[encoded data removed]",
            "text/plain": [
              "<Figure size 432x288 with 1 Axes>"
            ]
          },
          "metadata": {
            "tags": []
          }
        }
      ]
    },
    {
      "cell_type": "code",
      "metadata": {
        "id": "AVO1B99pYuh2",
        "colab_type": "code",
        "colab": {
          "base_uri": "https://localhost:8080/",
          "height": 295
        },
        "outputId": "49b48918-e46d-4721-97b8-0f564b20b301"
      },
      "source": [
        "# summarize history for loss\n",
        "plt.figure()\n",
        "plt.plot(hist2.history['loss'])\n",
        "plt.plot(hist2.history['val_loss'])\n",
        "plt.title('model loss')\n",
        "plt.ylabel('loss')\n",
        "plt.xlabel('epoch')\n",
        "plt.legend(['train', 'valid'], loc='upper right')\n",
        "plt.show()"
      ],
      "execution_count": 17,
      "outputs": [
        {
          "output_type": "display_data",
          "data": {
            "image/png": "[encoded data removed]",
            "text/plain": [
              "<Figure size 432x288 with 1 Axes>"
            ]
          },
          "metadata": {
            "tags": []
          }
        }
      ]
    },
    {
      "cell_type": "code",
      "metadata": {
        "id": "HkIcuy5RVH8M",
        "colab_type": "code",
        "colab": {}
      },
      "source": [
        ""
      ],
      "execution_count": 0,
      "outputs": []
    },
    {
      "cell_type": "code",
      "metadata": {
        "id": "OGGbVzOsYup2",
        "colab_type": "code",
        "colab": {
          "base_uri": "https://localhost:8080/",
          "height": 34
        },
        "outputId": "538bcbc0-611c-488d-97bf-11d9fa90bdd3"
      },
      "source": [
        "\n",
        "#Predict on test set\n",
        "predictions_NN_prob = model2.predict(test_pipeline)\n",
        "predictions_NN_prob = predictions_NN_prob[:,0]\n",
        "\n",
        "predictions_NN_01 = np.where(predictions_NN_prob > 0.5, 1, 0) #Turn probability to 0-1 binary output\n",
        "\n",
        "\n",
        "\n",
        "y_numpy = pcam['test'].as_numpy_iterator()\n",
        "test_y = np.array([i['label'] for i in y_numpy])\n",
        "\n",
        "#Print accuracy\n",
        "acc_NN = accuracy_score(test_y, predictions_NN_01)\n",
        "print('Overall accuracy of Neural Network model:', acc_NN)"
      ],
      "execution_count": 18,
      "outputs": [
        {
          "output_type": "stream",
          "text": [
            "Overall accuracy of Neural Network model: 0.246246337890625\n"
          ],
          "name": "stdout"
        }
      ]
    },
    {
      "cell_type": "code",
      "metadata": {
        "id": "W7gvawcuYuxw",
        "colab_type": "code",
        "colab": {
          "base_uri": "https://localhost:8080/",
          "height": 295
        },
        "outputId": "b477e2ed-7c27-4dd0-9e26-f2efb02ebf5e"
      },
      "source": [
        "false_positive_rate, recall, thresholds = roc_curve(test_y, predictions_NN_01)\n",
        "roc_auc = auc(false_positive_rate, recall)\n",
        "plt.figure()\n",
        "plt.title('Receiver Operating Characteristic (ROC)')\n",
        "plt.plot(false_positive_rate, recall, 'b', label = 'AUC = %0.3f' %roc_auc)\n",
        "plt.legend(loc='lower right')\n",
        "plt.plot([0,1], [0,1], 'r--')\n",
        "plt.xlim([0.0,1.0])\n",
        "plt.ylim([0.0,1.0])\n",
        "plt.ylabel('Recall')\n",
        "plt.xlabel('Fall-out (1-Specificity)')\n",
        "plt.show()"
      ],
      "execution_count": 19,
      "outputs": [
        {
          "output_type": "display_data",
          "data": {
            "image/png": "[encoded data removed]",
            "text/plain": [
              "<Figure size 432x288 with 1 Axes>"
            ]
          },
          "metadata": {
            "tags": []
          }
        }
      ]
    },
    {
      "cell_type": "code",
      "metadata": {
        "id": "nrlmLqgOYu50",
        "colab_type": "code",
        "colab": {
          "base_uri": "https://localhost:8080/",
          "height": 404
        },
        "outputId": "32a24841-ca91-4957-bc75-886ca8728307"
      },
      "source": [
        "#Print Confusion Matrix\n",
        "cm = confusion_matrix(test_y, predictions_NN_01)\n",
        "labels = ['Negative', 'Positive']\n",
        "plt.figure(figsize=(8,6))\n",
        "sns.heatmap(cm,xticklabels=labels, yticklabels=labels, annot=True, fmt='d', cmap=\"Blues\", vmin = 0.2);\n",
        "plt.title('Confusion Matrix')\n",
        "plt.ylabel('True Class')\n",
        "plt.xlabel('Predicted Class')\n",
        "plt.show()"
      ],
      "execution_count": 20,
      "outputs": [
        {
          "output_type": "display_data",
          "data": {
            "image/png": "[encoded data removed]",
            "text/plain": [
              "<Figure size 576x432 with 2 Axes>"
            ]
          },
          "metadata": {
            "tags": []
          }
        }
      ]
    },
    {
      "cell_type": "code",
      "metadata": {
        "id": "WkcmAfBPYvCB",
        "colab_type": "code",
        "colab": {}
      },
      "source": [
        ""
      ],
      "execution_count": 0,
      "outputs": []
    },
    {
      "cell_type": "code",
      "metadata": {
        "id": "DnE9COZ5GWg9",
        "colab_type": "code",
        "colab": {}
      },
      "source": [
        ""
      ],
      "execution_count": 0,
      "outputs": []
    },
    {
      "cell_type": "code",
      "metadata": {
        "id": "AYEVq6bnGWmR",
        "colab_type": "code",
        "colab": {}
      },
      "source": [
        ""
      ],
      "execution_count": 0,
      "outputs": []
    },
    {
      "cell_type": "code",
      "metadata": {
        "id": "r6OsreViGWtu",
        "colab_type": "code",
        "colab": {}
      },
      "source": [
        ""
      ],
      "execution_count": 0,
      "outputs": []
    },
    {
      "cell_type": "code",
      "metadata": {
        "id": "19N-cdkfGXRn",
        "colab_type": "code",
        "colab": {}
      },
      "source": [
        ""
      ],
      "execution_count": 0,
      "outputs": []
    },
    {
      "cell_type": "code",
      "metadata": {
        "id": "yeyqMfG0GXOl",
        "colab_type": "code",
        "colab": {}
      },
      "source": [
        ""
      ],
      "execution_count": 0,
      "outputs": []
    },
    {
      "cell_type": "code",
      "metadata": {
        "id": "4caMr9jtGW-Z",
        "colab_type": "code",
        "colab": {}
      },
      "source": [
        ""
      ],
      "execution_count": 0,
      "outputs": []
    },
    {
      "cell_type": "code",
      "metadata": {
        "id": "KQV-i7BdGW7K",
        "colab_type": "code",
        "colab": {}
      },
      "source": [
        ""
      ],
      "execution_count": 0,
      "outputs": []
    },
    {
      "cell_type": "code",
      "metadata": {
        "id": "qiBPJV5bGW2o",
        "colab_type": "code",
        "colab": {}
      },
      "source": [
        ""
      ],
      "execution_count": 0,
      "outputs": []
    },
    {
      "cell_type": "code",
      "metadata": {
        "id": "jDalbzcWGWzs",
        "colab_type": "code",
        "colab": {}
      },
      "source": [
        ""
      ],
      "execution_count": 0,
      "outputs": []
    }
  ]
}