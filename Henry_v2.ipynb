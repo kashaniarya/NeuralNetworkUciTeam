{
  "nbformat": 4,
  "nbformat_minor": 0,
  "metadata": {
    "accelerator": "GPU",
    "colab": {
      "name": "Henry_v2.ipynb",
      "provenance": [],
      "collapsed_sections": [],
      "toc_visible": true,
      "machine_shape": "hm"
    },
    "kernelspec": {
      "display_name": "Python 3",
      "language": "python",
      "name": "python3"
    },
    "language_info": {
      "codemirror_mode": {
        "name": "ipython",
        "version": 3
      },
      "file_extension": ".py",
      "mimetype": "text/x-python",
      "name": "python",
      "nbconvert_exporter": "python",
      "pygments_lexer": "ipython3",
      "version": "3.7.6"
    }
  },
  "cells": [
    {
      "cell_type": "markdown",
      "metadata": {
        "colab_type": "text",
        "id": "73tLeZWDCPJ7"
      },
      "source": [
        "\n",
        "#  the model in this file comes from this website\n",
        "\n",
        "#  https://geertlitjens.nl/post/getting-started-with-camelyon/\n",
        "\n",
        "\n",
        "\n",
        "#  without editing the model, it is 80% accurate/confident"
      ]
    },
    {
      "cell_type": "code",
      "metadata": {
        "id": "F5Prf7vNT517",
        "colab_type": "code",
        "outputId": "660d266d-4edf-4d31-e88a-9ac3c1f498d6",
        "colab": {
          "base_uri": "https://localhost:8080/",
          "height": 34
        }
      },
      "source": [
        "from google.colab import drive\n",
        "drive.mount('/content/drive')"
      ],
      "execution_count": 7,
      "outputs": [
        {
          "output_type": "stream",
          "text": [
            "Drive already mounted at /content/drive; to attempt to forcibly remount, call drive.mount(\"/content/drive\", force_remount=True).\n"
          ],
          "name": "stdout"
        }
      ]
    },
    {
      "cell_type": "code",
      "metadata": {
        "colab_type": "code",
        "id": "jU5bibOrj4hX",
        "cellView": "both",
        "outputId": "d97a0eea-71cf-4171-c861-b726f40696e2",
        "colab": {
          "base_uri": "https://localhost:8080/",
          "height": 588
        }
      },
      "source": [
        "import tensorflow as tf\n",
        "import tensorflow_datasets as tfds\n",
        "\n",
        "pcam, pcam_info = tfds.load('patch_camelyon', shuffle_files=True, with_info=True,\n",
        "                            data_dir='/content/drive/My Drive/Colab Notebooks')\n",
        "print(pcam_info)"
      ],
      "execution_count": 8,
      "outputs": [
        {
          "output_type": "stream",
          "text": [
            "tfds.core.DatasetInfo(\n",
            "    name='patch_camelyon',\n",
            "    version=2.0.0,\n",
            "    description='The PatchCamelyon benchmark is a new and challenging image classification\n",
            "dataset. It consists of 327.680 color images (96 x 96px) extracted from\n",
            "histopathologic scans of lymph node sections. Each image is annoted with a\n",
            "binary label indicating presence of metastatic tissue. PCam provides a new\n",
            "benchmark for machine learning models: bigger than CIFAR10, smaller than\n",
            "Imagenet, trainable on a single GPU.\n",
            "',\n",
            "    homepage='https://patchcamelyon.grand-challenge.org/',\n",
            "    features=FeaturesDict({\n",
            "        'id': Text(shape=(), dtype=tf.string),\n",
            "        'image': Image(shape=(96, 96, 3), dtype=tf.uint8),\n",
            "        'label': ClassLabel(shape=(), dtype=tf.int64, num_classes=2),\n",
            "    }),\n",
            "    total_num_examples=327680,\n",
            "    splits={\n",
            "        'test': 32768,\n",
            "        'train': 262144,\n",
            "        'validation': 32768,\n",
            "    },\n",
            "    supervised_keys=('image', 'label'),\n",
            "    citation=\"\"\"@misc{b_s_veeling_j_linmans_j_winkens_t_cohen_2018_2546921,\n",
            "      author       = {B. S. Veeling, J. Linmans, J. Winkens, T. Cohen, M. Welling},\n",
            "      title        = {Rotation Equivariant CNNs for Digital Pathology},\n",
            "      month        = sep,\n",
            "      year         = 2018,\n",
            "      doi          = {10.1007/978-3-030-00934-2_24},\n",
            "      url          = {https://doi.org/10.1007/978-3-030-00934-2_24}\n",
            "    }\"\"\",\n",
            "    redistribution_info=,\n",
            ")\n",
            "\n"
          ],
          "name": "stdout"
        }
      ]
    },
    {
      "cell_type": "code",
      "metadata": {
        "colab_type": "code",
        "id": "84yAQsv90JIV",
        "colab": {}
      },
      "source": [
        "# Import NumPy to handle array's and Matplotlib for plotting loss curves\n",
        "import numpy as np\n",
        "import matplotlib.pyplot as plt\n",
        "\n",
        "# Import TensorFlow and relevant Keras classes to setup the model\n",
        "import tensorflow as tf\n",
        "from tensorflow.keras.layers import Input, Dense, Conv2D, MaxPool2D, Flatten, Dropout, BatchNormalization, Activation, GlobalAveragePooling2D\n",
        "from tensorflow.keras.models import Model, Sequential, load_model\n",
        "from tensorflow.keras.optimizers import SGD, Adam\n",
        "from tensorflow.keras.utils import to_categorical\n",
        "from tensorflow.keras.callbacks import ModelCheckpoint, EarlyStopping"
      ],
      "execution_count": 0,
      "outputs": []
    },
    {
      "cell_type": "code",
      "metadata": {
        "colab_type": "code",
        "id": "4o2i2JzdrrqX",
        "outputId": "fb8ddb68-701d-482d-9093-397283e47a27",
        "colab": {
          "base_uri": "https://localhost:8080/",
          "height": 1000
        }
      },
      "source": [
        "#just some network parameters, see above link regarding the layers for details\n",
        "kernel_size = (3,3)\n",
        "pool_size= (2,2)\n",
        "first_filters = 32\n",
        "second_filters = 64\n",
        "third_filters = 128\n",
        "\n",
        "#dropout is used for regularization here with a probability of 0.3 for conv layers, 0.5 for the dense layer at the end\n",
        "dropout_conv = 0.3\n",
        "dropout_dense = 0.5\n",
        "\n",
        "#initialize the model\n",
        "model = Sequential()\n",
        "\n",
        "#now add layers to it\n",
        "\n",
        "#conv block 1\n",
        "model.add(Conv2D(first_filters, kernel_size, input_shape = (96, 96, 1)))\n",
        "model.add(BatchNormalization())\n",
        "model.add(Activation(\"relu\"))\n",
        "model.add(Conv2D(first_filters, kernel_size, use_bias=False))\n",
        "model.add(BatchNormalization())\n",
        "model.add(Activation(\"relu\"))\n",
        "model.add(MaxPool2D(pool_size = pool_size)) \n",
        "model.add(Dropout(dropout_conv))\n",
        "\n",
        "#conv block 2\n",
        "model.add(Conv2D(second_filters, kernel_size, use_bias=False))\n",
        "model.add(BatchNormalization())\n",
        "model.add(Activation(\"relu\"))\n",
        "model.add(Conv2D(second_filters, kernel_size, use_bias=False))\n",
        "model.add(BatchNormalization())\n",
        "model.add(Activation(\"relu\"))\n",
        "model.add(MaxPool2D(pool_size = pool_size))\n",
        "model.add(Dropout(dropout_conv))\n",
        "\n",
        "#conv block 3\n",
        "model.add(Conv2D(third_filters, kernel_size, use_bias=False))\n",
        "model.add(BatchNormalization())\n",
        "model.add(Activation(\"relu\"))\n",
        "model.add(Conv2D(third_filters, kernel_size, use_bias=False))\n",
        "model.add(BatchNormalization())\n",
        "model.add(Activation(\"relu\"))\n",
        "model.add(MaxPool2D(pool_size = pool_size))\n",
        "model.add(Dropout(dropout_conv))\n",
        "\n",
        "#a fully connected (also called dense) layer at the end\n",
        "model.add(Flatten())\n",
        "model.add(Dense(256, use_bias=False))\n",
        "model.add(BatchNormalization())\n",
        "model.add(Activation(\"relu\"))\n",
        "model.add(Dropout(dropout_dense))\n",
        "\n",
        "model.add(Dense(2, activation = \"softmax\"))\n",
        "\n",
        "model.compile(optimizer=Adam(1e-4),\n",
        "              loss=tf.keras.losses.binary_crossentropy,\n",
        "              metrics=['accuracy'])\n",
        "model.summary()"
      ],
      "execution_count": 10,
      "outputs": [
        {
          "output_type": "stream",
          "text": [
            "Model: \"sequential_1\"\n",
            "_________________________________________________________________\n",
            "Layer (type)                 Output Shape              Param #   \n",
            "=================================================================\n",
            "conv2d_6 (Conv2D)            (None, 94, 94, 32)        320       \n",
            "_________________________________________________________________\n",
            "batch_normalization_7 (Batch (None, 94, 94, 32)        128       \n",
            "_________________________________________________________________\n",
            "activation_7 (Activation)    (None, 94, 94, 32)        0         \n",
            "_________________________________________________________________\n",
            "conv2d_7 (Conv2D)            (None, 92, 92, 32)        9216      \n",
            "_________________________________________________________________\n",
            "batch_normalization_8 (Batch (None, 92, 92, 32)        128       \n",
            "_________________________________________________________________\n",
            "activation_8 (Activation)    (None, 92, 92, 32)        0         \n",
            "_________________________________________________________________\n",
            "max_pooling2d_3 (MaxPooling2 (None, 46, 46, 32)        0         \n",
            "_________________________________________________________________\n",
            "dropout_4 (Dropout)          (None, 46, 46, 32)        0         \n",
            "_________________________________________________________________\n",
            "conv2d_8 (Conv2D)            (None, 44, 44, 64)        18432     \n",
            "_________________________________________________________________\n",
            "batch_normalization_9 (Batch (None, 44, 44, 64)        256       \n",
            "_________________________________________________________________\n",
            "activation_9 (Activation)    (None, 44, 44, 64)        0         \n",
            "_________________________________________________________________\n",
            "conv2d_9 (Conv2D)            (None, 42, 42, 64)        36864     \n",
            "_________________________________________________________________\n",
            "batch_normalization_10 (Batc (None, 42, 42, 64)        256       \n",
            "_________________________________________________________________\n",
            "activation_10 (Activation)   (None, 42, 42, 64)        0         \n",
            "_________________________________________________________________\n",
            "max_pooling2d_4 (MaxPooling2 (None, 21, 21, 64)        0         \n",
            "_________________________________________________________________\n",
            "dropout_5 (Dropout)          (None, 21, 21, 64)        0         \n",
            "_________________________________________________________________\n",
            "conv2d_10 (Conv2D)           (None, 19, 19, 128)       73728     \n",
            "_________________________________________________________________\n",
            "batch_normalization_11 (Batc (None, 19, 19, 128)       512       \n",
            "_________________________________________________________________\n",
            "activation_11 (Activation)   (None, 19, 19, 128)       0         \n",
            "_________________________________________________________________\n",
            "conv2d_11 (Conv2D)           (None, 17, 17, 128)       147456    \n",
            "_________________________________________________________________\n",
            "batch_normalization_12 (Batc (None, 17, 17, 128)       512       \n",
            "_________________________________________________________________\n",
            "activation_12 (Activation)   (None, 17, 17, 128)       0         \n",
            "_________________________________________________________________\n",
            "max_pooling2d_5 (MaxPooling2 (None, 8, 8, 128)         0         \n",
            "_________________________________________________________________\n",
            "dropout_6 (Dropout)          (None, 8, 8, 128)         0         \n",
            "_________________________________________________________________\n",
            "flatten_1 (Flatten)          (None, 8192)              0         \n",
            "_________________________________________________________________\n",
            "dense_2 (Dense)              (None, 256)               2097152   \n",
            "_________________________________________________________________\n",
            "batch_normalization_13 (Batc (None, 256)               1024      \n",
            "_________________________________________________________________\n",
            "activation_13 (Activation)   (None, 256)               0         \n",
            "_________________________________________________________________\n",
            "dropout_7 (Dropout)          (None, 256)               0         \n",
            "_________________________________________________________________\n",
            "dense_3 (Dense)              (None, 2)                 514       \n",
            "=================================================================\n",
            "Total params: 2,386,498\n",
            "Trainable params: 2,385,090\n",
            "Non-trainable params: 1,408\n",
            "_________________________________________________________________\n"
          ],
          "name": "stdout"
        }
      ]
    },
    {
      "cell_type": "code",
      "metadata": {
        "colab_type": "code",
        "id": "rsNicrTjrruM",
        "colab": {}
      },
      "source": [
        "def convert_sample(sample):\n",
        "    image, label = sample['image'], sample['label']  \n",
        "    image = tf.image.convert_image_dtype(image, tf.float32)\n",
        "    image = tf.image.rgb_to_grayscale(image)\n",
        "    label = tf.one_hot(label, 2, dtype=tf.float32)\n",
        "    return image, label"
      ],
      "execution_count": 0,
      "outputs": []
    },
    {
      "cell_type": "code",
      "metadata": {
        "colab_type": "code",
        "id": "0vJ3YLIFrryA",
        "colab": {}
      },
      "source": [
        "train_pipeline = pcam['train'].map(convert_sample,\n",
        "                                   num_parallel_calls=8).shuffle(1024).repeat().batch(128).prefetch(2)\n",
        "valid_pipeline = pcam['validation'].map(convert_sample,\n",
        "                                        num_parallel_calls=8).repeat().batch(128).prefetch(2)\n",
        "\n",
        "early_stopping_cb = EarlyStopping(monitor='val_loss', patience=5)\n",
        "model_checkpoint_cb = ModelCheckpoint('best_model.h5', monitor='val_loss', mode='min', verbose=2, save_best_only=True)\n",
        "callbacks_list = [early_stopping_cb, model_checkpoint_cb]"
      ],
      "execution_count": 0,
      "outputs": []
    },
    {
      "cell_type": "code",
      "metadata": {
        "colab_type": "code",
        "id": "0jFZD7Hfrr2E",
        "outputId": "925c1860-18cf-4e21-8734-2e4ad23cc438",
        "colab": {
          "base_uri": "https://localhost:8080/",
          "height": 554
        }
      },
      "source": [
        "hist = model.fit(train_pipeline,\n",
        "                 validation_data=valid_pipeline, callbacks=callbacks_list,\n",
        "                 verbose=2, epochs=20, steps_per_epoch=2048, validation_steps=256)"
      ],
      "execution_count": 13,
      "outputs": [
        {
          "output_type": "stream",
          "text": [
            "Epoch 1/20\n",
            "\n",
            "Epoch 00001: val_loss improved from inf to 0.41350, saving model to best_model.h5\n",
            "2048/2048 - 377s - loss: 0.5094 - accuracy: 0.7744 - val_loss: 0.4135 - val_accuracy: 0.8073\n",
            "Epoch 2/20\n",
            "\n",
            "Epoch 00002: val_loss improved from 0.41350 to 0.40847, saving model to best_model.h5\n",
            "2048/2048 - 375s - loss: 0.4226 - accuracy: 0.8143 - val_loss: 0.4085 - val_accuracy: 0.8211\n",
            "Epoch 3/20\n",
            "\n",
            "Epoch 00003: val_loss improved from 0.40847 to 0.39687, saving model to best_model.h5\n",
            "2048/2048 - 371s - loss: 0.3799 - accuracy: 0.8350 - val_loss: 0.3969 - val_accuracy: 0.8254\n",
            "Epoch 4/20\n",
            "\n",
            "Epoch 00004: val_loss did not improve from 0.39687\n",
            "2048/2048 - 373s - loss: 0.3457 - accuracy: 0.8520 - val_loss: 0.5003 - val_accuracy: 0.7982\n",
            "Epoch 5/20\n",
            "\n",
            "Epoch 00005: val_loss did not improve from 0.39687\n",
            "2048/2048 - 373s - loss: 0.3174 - accuracy: 0.8670 - val_loss: 0.4496 - val_accuracy: 0.8206\n",
            "Epoch 6/20\n",
            "\n",
            "Epoch 00006: val_loss did not improve from 0.39687\n",
            "2048/2048 - 375s - loss: 0.2939 - accuracy: 0.8779 - val_loss: 0.4287 - val_accuracy: 0.8249\n",
            "Epoch 7/20\n",
            "\n",
            "Epoch 00007: val_loss did not improve from 0.39687\n",
            "2048/2048 - 375s - loss: 0.2736 - accuracy: 0.8877 - val_loss: 0.5519 - val_accuracy: 0.7948\n",
            "Epoch 8/20\n",
            "\n",
            "Epoch 00008: val_loss did not improve from 0.39687\n",
            "2048/2048 - 369s - loss: 0.2576 - accuracy: 0.8955 - val_loss: 0.4986 - val_accuracy: 0.8089\n"
          ],
          "name": "stdout"
        }
      ]
    },
    {
      "cell_type": "code",
      "metadata": {
        "colab_type": "code",
        "id": "FdDV66Lrrr5-",
        "outputId": "66f14605-bb90-4433-c62b-c0ad89a12be9",
        "colab": {
          "base_uri": "https://localhost:8080/",
          "height": 34
        }
      },
      "source": [
        "best_model = load_model('best_model.h5')\n",
        "test_pipeline = pcam['test'].map(convert_sample, num_parallel_calls=8).batch(128).prefetch(2)\n",
        "print(\"Test set accuracy is {0:.4f}\".format(best_model.evaluate(test_pipeline, steps=128, verbose=0)[1]))"
      ],
      "execution_count": 14,
      "outputs": [
        {
          "output_type": "stream",
          "text": [
            "Test set accuracy is 0.8314\n"
          ],
          "name": "stdout"
        }
      ]
    },
    {
      "cell_type": "code",
      "metadata": {
        "id": "cBsu0dtxNW6W",
        "colab_type": "code",
        "outputId": "2091d551-a2f1-42d5-d5c3-26bd58b7b6f0",
        "colab": {
          "base_uri": "https://localhost:8080/",
          "height": 573
        }
      },
      "source": [
        "plt.figure()\n",
        "plt.plot(hist.history['accuracy'])\n",
        "plt.plot(hist.history['val_accuracy'])\n",
        "plt.title('model accuracy')\n",
        "plt.ylabel('accuracy')\n",
        "plt.xlabel('epoch')\n",
        "plt.legend(['train', 'test'], loc='upper right')\n",
        "plt.show()\n",
        "\n",
        "# summarize history for loss\n",
        "plt.figure()\n",
        "plt.plot(hist.history['loss'])\n",
        "plt.plot(hist.history['val_loss'])\n",
        "plt.title('model loss')\n",
        "plt.ylabel('loss')\n",
        "plt.xlabel('epoch')\n",
        "plt.legend(['train', 'test'], loc='upper right')\n",
        "plt.show()"
      ],
      "execution_count": 15,
      "outputs": [
        {
          "output_type": "display_data",
          "data": {
            "image/png": "[encoded data removed]",
            "text/plain": [
              "<Figure size 432x288 with 1 Axes>"
            ]
          },
          "metadata": {
            "tags": [],
            "needs_background": "light"
          }
        },
        {
          "output_type": "display_data",
          "data": {
            "image/png": "[encoded data removed]",
            "text/plain": [
              "<Figure size 432x288 with 1 Axes>"
            ]
          },
          "metadata": {
            "tags": [],
            "needs_background": "light"
          }
        }
      ]
    },
    {
      "cell_type": "code",
      "metadata": {
        "id": "M-r2FM8erdDC",
        "colab_type": "code",
        "outputId": "39a8d01b-15cb-4ac8-c154-1e4ce794a18c",
        "colab": {
          "base_uri": "https://localhost:8080/",
          "height": 87
        }
      },
      "source": [
        "# Code below from https://www.kaggle.com/georsara1/95-auc-score-in-train-sample-with-neural-nets\n",
        "\n",
        "#Import modules\n",
        "import pandas as pd\n",
        "import seaborn as sns\n",
        "from sklearn.model_selection import train_test_split\n",
        "from keras import optimizers\n",
        "from sklearn.metrics import confusion_matrix, accuracy_score, roc_curve, auc\n",
        "%matplotlib inline\n",
        "sns.set_style(\"whitegrid\")\n",
        "np.random.seed(697)"
      ],
      "execution_count": 16,
      "outputs": [
        {
          "output_type": "stream",
          "text": [
            "/usr/local/lib/python3.6/dist-packages/statsmodels/tools/_testing.py:19: FutureWarning: pandas.util.testing is deprecated. Use the functions in the public API at pandas.testing instead.\n",
            "  import pandas.util.testing as tm\n",
            "Using TensorFlow backend.\n"
          ],
          "name": "stderr"
        }
      ]
    },
    {
      "cell_type": "code",
      "metadata": {
        "id": "tIOgdyXrU2EG",
        "colab_type": "code",
        "outputId": "b3d39a96-860b-44d5-d48e-6a9daa037ede",
        "colab": {
          "base_uri": "https://localhost:8080/",
          "height": 134
        }
      },
      "source": [
        "#Predict on test set\n",
        "predictions_NN_prob = best_model.predict(test_pipeline)\n",
        "print(predictions_NN_prob)\n",
        "predictions_NN_prob = predictions_NN_prob[:,0]\n",
        "\n",
        "predictions_NN_01 = np.where(predictions_NN_prob > 0.5, 0, 1) #Turn probability to 0-1 binary output"
      ],
      "execution_count": 17,
      "outputs": [
        {
          "output_type": "stream",
          "text": [
            "[[0.04295633 0.95704365]\n",
            " [0.74771655 0.25228345]\n",
            " [0.85152197 0.14847797]\n",
            " ...\n",
            " [0.05154556 0.94845444]\n",
            " [0.7803207  0.21967936]\n",
            " [0.40719512 0.59280485]]\n"
          ],
          "name": "stdout"
        }
      ]
    },
    {
      "cell_type": "code",
      "metadata": {
        "id": "v9RGdfoGU9Gc",
        "colab_type": "code",
        "outputId": "1fd72080-d538-4555-c411-21cd445e8f1b",
        "colab": {
          "base_uri": "https://localhost:8080/",
          "height": 312
        }
      },
      "source": [
        "#Print Area Under Curve\n",
        "y_numpy = pcam['test'].as_numpy_iterator()\n",
        "test_y = np.array([i['label'] for i in y_numpy])\n",
        "print(test_y)\n",
        "false_positive_rate, recall, thresholds = roc_curve(test_y, predictions_NN_prob)\n",
        "roc_auc = auc(false_positive_rate, recall)\n",
        "plt.figure()\n",
        "plt.title('Receiver Operating Characteristic (ROC)')\n",
        "plt.plot(false_positive_rate, recall, 'b', label = 'AUC = %0.3f' %roc_auc)\n",
        "plt.legend(loc='lower right')\n",
        "plt.plot([0,1], [0,1], 'r--')\n",
        "plt.xlim([0.0,1.0])\n",
        "plt.ylim([0.0,1.0])\n",
        "plt.ylabel('Recall')\n",
        "plt.xlabel('Fall-out (1-Specificity)')\n",
        "plt.show()"
      ],
      "execution_count": 18,
      "outputs": [
        {
          "output_type": "stream",
          "text": [
            "[1 0 1 ... 1 1 0]\n"
          ],
          "name": "stdout"
        },
        {
          "output_type": "display_data",
          "data": {
            "image/png": "[encoded data removed]",
            "text/plain": [
              "<Figure size 432x288 with 1 Axes>"
            ]
          },
          "metadata": {
            "tags": []
          }
        }
      ]
    },
    {
      "cell_type": "code",
      "metadata": {
        "id": "cTz9gIU3U7lF",
        "colab_type": "code",
        "outputId": "a2697e5b-83f8-493c-c77f-e7bffe54c333",
        "colab": {
          "base_uri": "https://localhost:8080/",
          "height": 404
        }
      },
      "source": [
        "#Print Confusion Matrix\n",
        "cm = confusion_matrix(test_y, predictions_NN_01)\n",
        "labels = ['Positive', 'Negative']\n",
        "plt.figure(figsize=(8,6))\n",
        "sns.heatmap(cm,xticklabels=labels, yticklabels=labels, annot=True, fmt='d', cmap=\"Blues\", vmin = 0.2);\n",
        "plt.title('Confusion Matrix')\n",
        "plt.ylabel('True Class')\n",
        "plt.xlabel('Predicted Class')\n",
        "plt.show()"
      ],
      "execution_count": 19,
      "outputs": [
        {
          "output_type": "display_data",
          "data": {
            "image/png": "[encoded data removed]",
            "text/plain": [
              "<Figure size 576x432 with 2 Axes>"
            ]
          },
          "metadata": {
            "tags": []
          }
        }
      ]
    }
  ]
}