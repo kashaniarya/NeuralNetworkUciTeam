{
  "nbformat": 4,
  "nbformat_minor": 0,
  "metadata": {
    "accelerator": "GPU",
    "colab": {
      "name": "LRv1_Dense121_Arya_dense_final.ipynb",
      "provenance": [],
      "collapsed_sections": [],
      "machine_shape": "hm"
    },
    "kernelspec": {
      "display_name": "Python 3",
      "language": "python",
      "name": "python3"
    },
    "language_info": {
      "codemirror_mode": {
        "name": "ipython",
        "version": 3
      },
      "file_extension": ".py",
      "mimetype": "text/x-python",
      "name": "python",
      "nbconvert_exporter": "python",
      "pygments_lexer": "ipython3",
      "version": "3.6.8"
    }
  },
  "cells": [
    {
      "cell_type": "markdown",
      "metadata": {
        "id": "ixRazVlTVTcv",
        "colab_type": "text"
      },
      "source": [
        "Densenet121_2"
      ]
    },
    {
      "cell_type": "code",
      "metadata": {
        "id": "QzFBuBsab1If",
        "colab_type": "code",
        "colab": {
          "base_uri": "https://localhost:8080/",
          "height": 34
        },
        "outputId": "574e0714-2cdb-49cc-9b19-aeb758e40cd0"
      },
      "source": [
        "from google.colab import drive\n",
        "drive.mount('/content/drive')"
      ],
      "execution_count": 2,
      "outputs": [
        {
          "output_type": "stream",
          "text": [
            "Drive already mounted at /content/drive; to attempt to forcibly remount, call drive.mount(\"/content/drive\", force_remount=True).\n"
          ],
          "name": "stdout"
        }
      ]
    },
    {
      "cell_type": "code",
      "metadata": {
        "colab_type": "code",
        "id": "84yAQsv90JIV",
        "colab": {}
      },
      "source": [
        "# Import NumPy to handle array's and Matplotlib for plotting loss curves\n",
        "import numpy as np\n",
        "import matplotlib.pyplot as plt\n",
        "import random\n",
        "\n",
        "# Import TensorFlow and relevant Keras classes to setup the model\n",
        "import tensorflow as tf\n",
        "from tensorflow.keras.layers import Input, Dense, Conv2D, MaxPool2D, Flatten, Dropout, BatchNormalization, Activation\n",
        "from tensorflow.keras.models import Model, Sequential\n",
        "from tensorflow.keras.optimizers import SGD, Adam\n",
        "from tensorflow.keras.utils import to_categorical\n",
        "#from tensorflow.keras.callbacks import ModelCheckpoint\n",
        "\n",
        "from tensorflow.keras.applications.densenet import DenseNet169, DenseNet201, DenseNet121\n",
        "from tensorflow.keras.layers import Input, Flatten, Dense, BatchNormalization, Activation, Dropout, GlobalAveragePooling2D, GlobalMaxPooling2D, Concatenate\n",
        "from tensorflow.keras.models import Model, load_model\n",
        "from tensorflow.keras import losses, optimizers, activations, metrics"
      ],
      "execution_count": 0,
      "outputs": []
    },
    {
      "cell_type": "code",
      "metadata": {
        "colab_type": "code",
        "id": "jU5bibOrj4hX",
        "colab": {}
      },
      "source": [
        "import tensorflow_datasets as tfds\n",
        "#download=False - if you dont want to download data again\n",
        "pcam, pcam_info = tfds.load(\"patch_camelyon\", data_dir='/content/drive/My Drive/Colab Notebooks',download=False, with_info=True) \n",
        "#print(pcam_info)"
      ],
      "execution_count": 0,
      "outputs": []
    },
    {
      "cell_type": "code",
      "metadata": {
        "id": "X-YvC07ja5tO",
        "colab_type": "code",
        "colab": {}
      },
      "source": [
        ""
      ],
      "execution_count": 0,
      "outputs": []
    },
    {
      "cell_type": "code",
      "metadata": {
        "colab_type": "code",
        "id": "TMZ86JdAvbrX",
        "scrolled": false,
        "colab": {
          "base_uri": "https://localhost:8080/",
          "height": 306
        },
        "outputId": "11c79cf9-22f0-4c05-c501-2e91e056f091"
      },
      "source": [
        "densenet = DenseNet121(\n",
        "    weights= 'imagenet',\n",
        "    include_top=False,\n",
        "    input_shape=(96,96,3)\n",
        ")\n",
        "\n",
        "#densenet.trainable = False\n",
        "\n",
        "def build_model():\n",
        "    model = Sequential()\n",
        "    model.add(densenet)\n",
        "    model.add(GlobalAveragePooling2D())\n",
        "    #model.add(Dropout(0.5))\n",
        "    model.add(Dense(2, activation = \"softmax\"))\n",
        "\n",
        "        #model.add(layers.Flatten())\n",
        "    #model.add(layers.Dense(64, activation='relu'))\n",
        "    #model.add(layers.Dense(2, activation = \"softmax\")))\n",
        "    \n",
        "    sgd_opt = SGD(lr=0.001, momentum=0.9, decay=0.1, nesterov=True)\n",
        "    \n",
        "    model.compile(\n",
        "        loss='binary_crossentropy',\n",
        "        optimizer=sgd_opt,#Adam(lr=0.0005,),\n",
        "        metrics=['accuracy']\n",
        "    )\n",
        "    \n",
        "    return model\n",
        "\n",
        "model = build_model()\n",
        "model.summary()"
      ],
      "execution_count": 5,
      "outputs": [
        {
          "output_type": "stream",
          "text": [
            "Downloading data from https://storage.googleapis.com/tensorflow/keras-applications/densenet/densenet121_weights_tf_dim_ordering_tf_kernels_notop.h5\n",
            "29089792/29084464 [==============================] - 0s 0us/step\n",
            "Model: \"sequential\"\n",
            "_________________________________________________________________\n",
            "Layer (type)                 Output Shape              Param #   \n",
            "=================================================================\n",
            "densenet121 (Model)          (None, 3, 3, 1024)        7037504   \n",
            "_________________________________________________________________\n",
            "global_average_pooling2d (Gl (None, 1024)              0         \n",
            "_________________________________________________________________\n",
            "dense (Dense)                (None, 2)                 2050      \n",
            "=================================================================\n",
            "Total params: 7,039,554\n",
            "Trainable params: 6,955,906\n",
            "Non-trainable params: 83,648\n",
            "_________________________________________________________________\n"
          ],
          "name": "stdout"
        }
      ]
    },
    {
      "cell_type": "code",
      "metadata": {
        "colab_type": "code",
        "id": "rsNicrTjrruM",
        "colab": {}
      },
      "source": [
        "def convert_sample(sample):\n",
        "    image, label = sample['image'], sample['label']  \n",
        "    image = tf.image.convert_image_dtype(image, tf.float32)\n",
        "    #image = tf.image.rgb_to_grayscale(image)\n",
        "    image = tf.image.rot90(image, random.randint(0,3))\n",
        "    image = tf.image.random_flip_left_right(image)\n",
        "    image = tf.image.random_flip_up_down(image)\n",
        "    label = tf.one_hot(label, 2, dtype=tf.float32)\n",
        "    return image, label\n",
        "\n",
        "train_pipeline = pcam['train'].map(convert_sample,\n",
        "                                   num_parallel_calls=8).shuffle(1024).repeat().batch(64).prefetch(2)\n",
        "valid_pipeline = pcam['validation'].map(convert_sample,\n",
        "                                        num_parallel_calls=8).repeat().batch(128).prefetch(2)"
      ],
      "execution_count": 0,
      "outputs": []
    },
    {
      "cell_type": "code",
      "metadata": {
        "id": "dVNuv2roauR4",
        "colab_type": "code",
        "outputId": "c14d3958-f71e-4525-e869-4fc50581dc9d",
        "colab": {
          "base_uri": "https://localhost:8080/",
          "height": 1000
        }
      },
      "source": [
        "hist = model.fit(train_pipeline,\n",
        "                 validation_data=valid_pipeline,\n",
        "                 verbose=2, epochs=30, steps_per_epoch=4096, validation_steps=256)"
      ],
      "execution_count": 7,
      "outputs": [
        {
          "output_type": "stream",
          "text": [
            "Epoch 1/30\n",
            "4096/4096 - 415s - loss: 0.3720 - accuracy: 0.8387 - val_loss: 0.4060 - val_accuracy: 0.8174\n",
            "Epoch 2/30\n",
            "4096/4096 - 411s - loss: 0.3471 - accuracy: 0.8509 - val_loss: 0.4069 - val_accuracy: 0.8151\n",
            "Epoch 3/30\n",
            "4096/4096 - 404s - loss: 0.3417 - accuracy: 0.8534 - val_loss: 0.4040 - val_accuracy: 0.8185\n",
            "Epoch 4/30\n",
            "4096/4096 - 404s - loss: 0.3381 - accuracy: 0.8557 - val_loss: 0.4024 - val_accuracy: 0.8182\n",
            "Epoch 5/30\n",
            "4096/4096 - 409s - loss: 0.3354 - accuracy: 0.8571 - val_loss: 0.3981 - val_accuracy: 0.8206\n",
            "Epoch 6/30\n",
            "4096/4096 - 407s - loss: 0.3333 - accuracy: 0.8577 - val_loss: 0.4021 - val_accuracy: 0.8176\n",
            "Epoch 7/30\n",
            "4096/4096 - 406s - loss: 0.3318 - accuracy: 0.8588 - val_loss: 0.3970 - val_accuracy: 0.8193\n",
            "Epoch 8/30\n",
            "4096/4096 - 408s - loss: 0.3295 - accuracy: 0.8589 - val_loss: 0.4011 - val_accuracy: 0.8193\n",
            "Epoch 9/30\n",
            "4096/4096 - 407s - loss: 0.3286 - accuracy: 0.8594 - val_loss: 0.3975 - val_accuracy: 0.8210\n",
            "Epoch 10/30\n",
            "4096/4096 - 408s - loss: 0.3282 - accuracy: 0.8597 - val_loss: 0.3996 - val_accuracy: 0.8215\n",
            "Epoch 11/30\n",
            "4096/4096 - 406s - loss: 0.3272 - accuracy: 0.8608 - val_loss: 0.3941 - val_accuracy: 0.8219\n",
            "Epoch 12/30\n",
            "4096/4096 - 406s - loss: 0.3267 - accuracy: 0.8604 - val_loss: 0.3975 - val_accuracy: 0.8206\n",
            "Epoch 13/30\n",
            "4096/4096 - 406s - loss: 0.3266 - accuracy: 0.8609 - val_loss: 0.3929 - val_accuracy: 0.8223\n",
            "Epoch 14/30\n",
            "4096/4096 - 404s - loss: 0.3240 - accuracy: 0.8619 - val_loss: 0.3955 - val_accuracy: 0.8224\n",
            "Epoch 15/30\n",
            "4096/4096 - 404s - loss: 0.3238 - accuracy: 0.8624 - val_loss: 0.3977 - val_accuracy: 0.8211\n",
            "Epoch 16/30\n",
            "4096/4096 - 404s - loss: 0.3223 - accuracy: 0.8627 - val_loss: 0.3944 - val_accuracy: 0.8221\n",
            "Epoch 17/30\n",
            "4096/4096 - 406s - loss: 0.3220 - accuracy: 0.8632 - val_loss: 0.3967 - val_accuracy: 0.8195\n",
            "Epoch 18/30\n",
            "4096/4096 - 403s - loss: 0.3229 - accuracy: 0.8634 - val_loss: 0.3958 - val_accuracy: 0.8222\n",
            "Epoch 19/30\n",
            "4096/4096 - 406s - loss: 0.3218 - accuracy: 0.8631 - val_loss: 0.3975 - val_accuracy: 0.8215\n",
            "Epoch 20/30\n",
            "4096/4096 - 404s - loss: 0.3207 - accuracy: 0.8634 - val_loss: 0.3934 - val_accuracy: 0.8225\n",
            "Epoch 21/30\n",
            "4096/4096 - 408s - loss: 0.3194 - accuracy: 0.8642 - val_loss: 0.3930 - val_accuracy: 0.8235\n",
            "Epoch 22/30\n",
            "4096/4096 - 406s - loss: 0.3193 - accuracy: 0.8645 - val_loss: 0.3907 - val_accuracy: 0.8237\n",
            "Epoch 23/30\n",
            "4096/4096 - 405s - loss: 0.3197 - accuracy: 0.8641 - val_loss: 0.3942 - val_accuracy: 0.8228\n",
            "Epoch 24/30\n",
            "4096/4096 - 407s - loss: 0.3196 - accuracy: 0.8637 - val_loss: 0.3959 - val_accuracy: 0.8233\n",
            "Epoch 25/30\n",
            "4096/4096 - 406s - loss: 0.3188 - accuracy: 0.8643 - val_loss: 0.3921 - val_accuracy: 0.8236\n",
            "Epoch 26/30\n",
            "4096/4096 - 404s - loss: 0.3189 - accuracy: 0.8650 - val_loss: 0.3940 - val_accuracy: 0.8216\n",
            "Epoch 27/30\n",
            "4096/4096 - 409s - loss: 0.3194 - accuracy: 0.8645 - val_loss: 0.3930 - val_accuracy: 0.8210\n",
            "Epoch 28/30\n",
            "4096/4096 - 409s - loss: 0.3174 - accuracy: 0.8648 - val_loss: 0.3941 - val_accuracy: 0.8232\n",
            "Epoch 29/30\n",
            "4096/4096 - 407s - loss: 0.3171 - accuracy: 0.8656 - val_loss: 0.3915 - val_accuracy: 0.8238\n",
            "Epoch 30/30\n",
            "4096/4096 - 407s - loss: 0.3179 - accuracy: 0.8651 - val_loss: 0.3902 - val_accuracy: 0.8235\n"
          ],
          "name": "stdout"
        }
      ]
    },
    {
      "cell_type": "code",
      "metadata": {
        "colab_type": "code",
        "id": "FdDV66Lrrr5-",
        "colab": {
          "base_uri": "https://localhost:8080/",
          "height": 34
        },
        "outputId": "fed413cf-e75f-48a9-e48d-84a5ede62c3e"
      },
      "source": [
        "test_pipeline = pcam['test'].map(convert_sample, num_parallel_calls=8).batch(128).prefetch(2)\n",
        "print(\"Test set accuracy is {0:.4f}\".format(model.evaluate(test_pipeline, steps=256, verbose=0)[1]))"
      ],
      "execution_count": 8,
      "outputs": [
        {
          "output_type": "stream",
          "text": [
            "Test set accuracy is 0.8046\n"
          ],
          "name": "stdout"
        }
      ]
    },
    {
      "cell_type": "code",
      "metadata": {
        "colab_type": "code",
        "id": "mlu476F7rr-H",
        "colab": {}
      },
      "source": [
        "#model.save(\"./saved_models/patchcamelyon.hf5\")"
      ],
      "execution_count": 0,
      "outputs": []
    },
    {
      "cell_type": "code",
      "metadata": {
        "colab_type": "code",
        "id": "oVOvzlQFWAda",
        "colab": {
          "base_uri": "https://localhost:8080/",
          "height": 573
        },
        "outputId": "5254989b-a6a2-4698-a463-fdfe3f5255a6"
      },
      "source": [
        "hist2=hist\n",
        "plt.figure()\n",
        "plt.plot(hist2.history['accuracy'])\n",
        "plt.plot(hist2.history['val_accuracy'])\n",
        "plt.title('model accuracy')\n",
        "plt.ylabel('accuracy')\n",
        "plt.xlabel('epoch')\n",
        "plt.legend(['train', 'valid'], loc='upper right')\n",
        "plt.show()\n",
        "\n",
        "# summarize history for loss\n",
        "plt.figure()\n",
        "plt.plot(hist2.history['loss'])\n",
        "plt.plot(hist2.history['val_loss'])\n",
        "plt.title('model loss')\n",
        "plt.ylabel('loss')\n",
        "plt.xlabel('epoch')\n",
        "plt.legend(['train', 'valid'], loc='upper right')\n",
        "plt.show()"
      ],
      "execution_count": 10,
      "outputs": [
        {
          "output_type": "display_data",
          "data": {
            "image/png": "[encoded data removed]",
            "text/plain": [
              "<Figure size 432x288 with 1 Axes>"
            ]
          },
          "metadata": {
            "tags": [],
            "needs_background": "light"
          }
        },
        {
          "output_type": "display_data",
          "data": {
            "image/png": "[encoded data removed]",
            "text/plain": [
              "<Figure size 432x288 with 1 Axes>"
            ]
          },
          "metadata": {
            "tags": [],
            "needs_background": "light"
          }
        }
      ]
    },
    {
      "cell_type": "code",
      "metadata": {
        "colab_type": "code",
        "id": "dpi7YXbR58fu",
        "colab": {
          "base_uri": "https://localhost:8080/",
          "height": 87
        },
        "outputId": "625a63bc-7d87-4228-97f6-0a18cb1cc58b"
      },
      "source": [
        "#Import modules\n",
        "import numpy as np\n",
        "import pandas as pd\n",
        "import matplotlib.pyplot as plt\n",
        "import seaborn as sns\n",
        "from sklearn.model_selection import train_test_split\n",
        "from keras.models import Sequential\n",
        "from keras.layers import Activation, Dense, Dropout\n",
        "from keras import optimizers\n",
        "from sklearn.metrics import confusion_matrix,accuracy_score, roc_curve, auc\n",
        "%matplotlib inline\n",
        "sns.set_style(\"whitegrid\")\n",
        "np.random.seed(697)"
      ],
      "execution_count": 11,
      "outputs": [
        {
          "output_type": "stream",
          "text": [
            "/usr/local/lib/python3.6/dist-packages/statsmodels/tools/_testing.py:19: FutureWarning: pandas.util.testing is deprecated. Use the functions in the public API at pandas.testing instead.\n",
            "  import pandas.util.testing as tm\n",
            "Using TensorFlow backend.\n"
          ],
          "name": "stderr"
        }
      ]
    },
    {
      "cell_type": "code",
      "metadata": {
        "colab_type": "code",
        "id": "9g8tQVgMJNXh",
        "colab": {
          "base_uri": "https://localhost:8080/",
          "height": 34
        },
        "outputId": "3ad2f818-503f-4738-eca6-9c087de39230"
      },
      "source": [
        "# Code below from https://www.kaggle.com/georsara1/95-auc-score-in-train-sample-with-neural-nets\n",
        "\n",
        "#Predict on test set\n",
        "predictions_NN_prob = model.predict(test_pipeline)\n",
        "predictions_NN_prob = predictions_NN_prob[:,0]\n",
        "\n",
        "predictions_NN_01 = np.where(predictions_NN_prob > 0.5, 0, 1) #Turn probability to 0-1 binary output\n",
        "\n",
        "y_numpy = pcam['test'].as_numpy_iterator()\n",
        "test_y = np.array([i['label'] for i in y_numpy])\n",
        "\n",
        "\n",
        "acc_NN = accuracy_score(test_y, predictions_NN_01)\n",
        "print('Overall accuracy of Neural Network model:', acc_NN)"
      ],
      "execution_count": 12,
      "outputs": [
        {
          "output_type": "stream",
          "text": [
            "Overall accuracy of Neural Network model: 0.804962158203125\n"
          ],
          "name": "stdout"
        }
      ]
    },
    {
      "cell_type": "code",
      "metadata": {
        "colab_type": "code",
        "id": "7K920n57JRZ2",
        "colab": {
          "base_uri": "https://localhost:8080/",
          "height": 295
        },
        "outputId": "eea20ca3-5903-4e2a-daef-5b22cb113723"
      },
      "source": [
        "\n",
        "#Print Area Under Curve\n",
        "false_positive_rate, recall, thresholds = roc_curve(test_y, predictions_NN_01)\n",
        "roc_auc = auc(false_positive_rate, recall)\n",
        "plt.figure()\n",
        "plt.title('Receiver Operating Characteristic (ROC)')\n",
        "plt.plot(false_positive_rate, recall, 'b', label = 'AUC = %0.3f' %roc_auc)\n",
        "plt.legend(loc='lower right')\n",
        "plt.plot([0,1], [0,1], 'r--')\n",
        "plt.xlim([0.0,1.0])\n",
        "plt.ylim([0.0,1.0])\n",
        "plt.ylabel('Recall')\n",
        "plt.xlabel('Fall-out (1-Specificity)')\n",
        "plt.show()"
      ],
      "execution_count": 13,
      "outputs": [
        {
          "output_type": "display_data",
          "data": {
            "image/png": "[encoded data removed]",
            "text/plain": [
              "<Figure size 432x288 with 1 Axes>"
            ]
          },
          "metadata": {
            "tags": []
          }
        }
      ]
    },
    {
      "cell_type": "code",
      "metadata": {
        "colab_type": "code",
        "id": "hP60G3TaJVHl",
        "colab": {
          "base_uri": "https://localhost:8080/",
          "height": 404
        },
        "outputId": "f2a2ad9b-e8ab-475d-e7f5-d00764098816"
      },
      "source": [
        "#Print Confusion Matrix\n",
        "cm = confusion_matrix(test_y, predictions_NN_01)\n",
        "labels = ['Negative', 'Positive']\n",
        "plt.figure(figsize=(8,6))\n",
        "sns.heatmap(cm,xticklabels=labels, yticklabels=labels, annot=True, fmt='d', cmap=\"Blues\", vmin = 0.2);\n",
        "plt.title('Confusion Matrix')\n",
        "plt.ylabel('True Class')\n",
        "plt.xlabel('Predicted Class')\n",
        "plt.show()"
      ],
      "execution_count": 14,
      "outputs": [
        {
          "output_type": "display_data",
          "data": {
            "image/png": "[encoded data removed]",
            "text/plain": [
              "<Figure size 576x432 with 2 Axes>"
            ]
          },
          "metadata": {
            "tags": []
          }
        }
      ]
    }
  ]
}